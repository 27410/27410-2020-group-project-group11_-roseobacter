{
 "cells": [
  {
   "cell_type": "code",
   "execution_count": 1,
   "metadata": {},
   "outputs": [],
   "source": [
    "import cobra.io\n",
    "import pandas as pd\n",
    "import matplotlib.pyplot as plt"
   ]
  },
  {
   "cell_type": "code",
   "execution_count": 20,
   "metadata": {},
   "outputs": [],
   "source": [
    "# Read model\n",
    "model = cobra.io.read_sbml_model('Roseobacter-litoralis-strain-B14.SBML')"
   ]
  },
  {
   "cell_type": "code",
   "execution_count": 3,
   "metadata": {},
   "outputs": [],
   "source": [
    "# Produce list of all exchanges in medium, except glucose\n",
    "medium = model.medium\n",
    "mediumwoglc = list(medium.keys())\n",
    "mediumwoglc.remove('EX_glc__D_e')"
   ]
  },
  {
   "cell_type": "code",
   "execution_count": 4,
   "metadata": {},
   "outputs": [],
   "source": [
    "# Produce empty lists for use in loop\n",
    "growthrates = list()\n",
    "exchangelevels = list()"
   ]
  },
  {
   "cell_type": "code",
   "execution_count": 5,
   "metadata": {},
   "outputs": [],
   "source": [
    "# In this loop all exchange reactions starts at the default value of 10. for each iteration of the loop,\n",
    "# all exchange reactions except glucose are lowered by 0.5 at a time. For each iteration the growth rate\n",
    "# is calculated and put into the list, growthrates. The level of the exchange reactions (except glucose)\n",
    "# for each iteration is put into the list exchangelevels.\n",
    "c=10    # The default value of exchange reactions\n",
    "for i in range(21):\n",
    "    with model:\n",
    "        for EX in mediumwoglc:\n",
    "            medium[EX] = c\n",
    "            model.medium = medium\n",
    "        mumax = model.optimize().objective_value\n",
    "        mumax = round(mumax,3)\n",
    "        growthrates.append(mumax)\n",
    "        exchangelevels.append(c)\n",
    "        c = c-0.5"
   ]
  },
  {
   "cell_type": "code",
   "execution_count": 6,
   "metadata": {},
   "outputs": [
    {
     "data": {
      "text/html": [
       "<div>\n",
       "<style scoped>\n",
       "    .dataframe tbody tr th:only-of-type {\n",
       "        vertical-align: middle;\n",
       "    }\n",
       "\n",
       "    .dataframe tbody tr th {\n",
       "        vertical-align: top;\n",
       "    }\n",
       "\n",
       "    .dataframe thead th {\n",
       "        text-align: right;\n",
       "    }\n",
       "</style>\n",
       "<table border=\"1\" class=\"dataframe\">\n",
       "  <thead>\n",
       "    <tr style=\"text-align: right;\">\n",
       "      <th></th>\n",
       "      <th>Growth rate</th>\n",
       "    </tr>\n",
       "    <tr>\n",
       "      <th>Exchange levels</th>\n",
       "      <th></th>\n",
       "    </tr>\n",
       "  </thead>\n",
       "  <tbody>\n",
       "    <tr>\n",
       "      <th>10.0</th>\n",
       "      <td>0.697</td>\n",
       "    </tr>\n",
       "    <tr>\n",
       "      <th>9.5</th>\n",
       "      <td>0.669</td>\n",
       "    </tr>\n",
       "    <tr>\n",
       "      <th>9.0</th>\n",
       "      <td>0.641</td>\n",
       "    </tr>\n",
       "    <tr>\n",
       "      <th>8.5</th>\n",
       "      <td>0.613</td>\n",
       "    </tr>\n",
       "    <tr>\n",
       "      <th>8.0</th>\n",
       "      <td>0.584</td>\n",
       "    </tr>\n",
       "    <tr>\n",
       "      <th>7.5</th>\n",
       "      <td>0.556</td>\n",
       "    </tr>\n",
       "    <tr>\n",
       "      <th>7.0</th>\n",
       "      <td>0.528</td>\n",
       "    </tr>\n",
       "    <tr>\n",
       "      <th>6.5</th>\n",
       "      <td>0.500</td>\n",
       "    </tr>\n",
       "    <tr>\n",
       "      <th>6.0</th>\n",
       "      <td>0.472</td>\n",
       "    </tr>\n",
       "    <tr>\n",
       "      <th>5.5</th>\n",
       "      <td>0.443</td>\n",
       "    </tr>\n",
       "    <tr>\n",
       "      <th>5.0</th>\n",
       "      <td>0.415</td>\n",
       "    </tr>\n",
       "    <tr>\n",
       "      <th>4.5</th>\n",
       "      <td>0.387</td>\n",
       "    </tr>\n",
       "    <tr>\n",
       "      <th>4.0</th>\n",
       "      <td>0.359</td>\n",
       "    </tr>\n",
       "    <tr>\n",
       "      <th>3.5</th>\n",
       "      <td>0.330</td>\n",
       "    </tr>\n",
       "    <tr>\n",
       "      <th>3.0</th>\n",
       "      <td>0.302</td>\n",
       "    </tr>\n",
       "    <tr>\n",
       "      <th>2.5</th>\n",
       "      <td>0.274</td>\n",
       "    </tr>\n",
       "    <tr>\n",
       "      <th>2.0</th>\n",
       "      <td>0.246</td>\n",
       "    </tr>\n",
       "    <tr>\n",
       "      <th>1.5</th>\n",
       "      <td>0.218</td>\n",
       "    </tr>\n",
       "    <tr>\n",
       "      <th>1.0</th>\n",
       "      <td>0.188</td>\n",
       "    </tr>\n",
       "    <tr>\n",
       "      <th>0.5</th>\n",
       "      <td>0.158</td>\n",
       "    </tr>\n",
       "    <tr>\n",
       "      <th>0.0</th>\n",
       "      <td>0.000</td>\n",
       "    </tr>\n",
       "  </tbody>\n",
       "</table>\n",
       "</div>"
      ],
      "text/plain": [
       "                 Growth rate\n",
       "Exchange levels             \n",
       "10.0                   0.697\n",
       "9.5                    0.669\n",
       "9.0                    0.641\n",
       "8.5                    0.613\n",
       "8.0                    0.584\n",
       "7.5                    0.556\n",
       "7.0                    0.528\n",
       "6.5                    0.500\n",
       "6.0                    0.472\n",
       "5.5                    0.443\n",
       "5.0                    0.415\n",
       "4.5                    0.387\n",
       "4.0                    0.359\n",
       "3.5                    0.330\n",
       "3.0                    0.302\n",
       "2.5                    0.274\n",
       "2.0                    0.246\n",
       "1.5                    0.218\n",
       "1.0                    0.188\n",
       "0.5                    0.158\n",
       "0.0                    0.000"
      ]
     },
     "execution_count": 6,
     "metadata": {},
     "output_type": "execute_result"
    }
   ],
   "source": [
    "# A table showing the growth rate at the different levels of the exchange reactions in the medium,\n",
    "# (exept glucose which is 10), is produced\n",
    "mediumchangegrowth = pd.DataFrame({'Exchange levels': exchangelevels, 'Growth rate': growthrates})\n",
    "mediumchangegrowth.set_index('Exchange levels', inplace=True)\n",
    "mediumchangegrowth"
   ]
  },
  {
   "cell_type": "code",
   "execution_count": 7,
   "metadata": {},
   "outputs": [],
   "source": [
    "# It is seen that for mumax around 0.27, the exchange levels should be around 2.5"
   ]
  },
  {
   "cell_type": "code",
   "execution_count": 8,
   "metadata": {},
   "outputs": [],
   "source": [
    "# The growth rate is also plotted as a function of the level of the exchanges"
   ]
  },
  {
   "cell_type": "code",
   "execution_count": 19,
   "metadata": {},
   "outputs": [
    {
     "data": {
      "image/png": "[encoded data removed]",
      "text/plain": [
       "<Figure size 432x288 with 1 Axes>"
      ]
     },
     "metadata": {
      "needs_background": "light"
     },
     "output_type": "display_data"
    }
   ],
   "source": [
    "plt.plot(growthrates,exchangelevels,c='r',label='Growth rate')\n",
    "plt.ylabel('Medium exhanges levels')\n",
    "plt.xlabel('Growth rate')\n",
    "plt.axvline(0.27,c='k',label='Wanted growth rate')\n",
    "plt.grid(b=True)\n",
    "plt.xlim([0,0.7])\n",
    "plt.ylim([0,10])\n",
    "plt.title(\"Growth rate when lowering all exchanges except glucose\")\n",
    "plt.savefig('Growthrateplot.png')\n",
    "plt.show()"
   ]
  },
  {
   "cell_type": "code",
   "execution_count": 10,
   "metadata": {},
   "outputs": [],
   "source": [
    "# In this loop all other exchanges than glucose is set to 2.5, because this will\n",
    "# give the desired mumax of around 0.27\n",
    "for EX in mediumwoglc:\n",
    "    medium[EX] = 2.5\n",
    "    model.medium = medium"
   ]
  },
  {
   "cell_type": "code",
   "execution_count": 11,
   "metadata": {},
   "outputs": [],
   "source": [
    "# We now want to find which of the exchanges in the medium is limiting"
   ]
  },
  {
   "cell_type": "code",
   "execution_count": 12,
   "metadata": {},
   "outputs": [
    {
     "name": "stdout",
     "output_type": "stream",
     "text": [
      "Changed EX_fe3_e    old growthrate = 0.2739712587212505     new growthrate = 0.29887773678682067\n",
      "Changed EX_o2_e    old growthrate = 0.27397125872125166     new growthrate = 0.6656621778179113\n"
     ]
    }
   ],
   "source": [
    "# In this loop, each of the exchange reactions that was previously lowered, are\n",
    "# now set at their default value one at a time. For each exchange reaction, the\n",
    "# old growth rate, and the new growth rate resulting from the change of the\n",
    "# exchange level is computed. If these two values are different, the result is\n",
    "# reported.\n",
    "for EX in mediumwoglc:\n",
    "    medium = model.medium\n",
    "    mumax = model.optimize().objective_value\n",
    "    with model:\n",
    "        medium[EX] = 10\n",
    "        model.medium = medium\n",
    "        mumaxchanged = model.optimize().objective_value\n",
    "    if mumaxchanged != mumax:\n",
    "        print('Changed', EX,'   old growthrate =',mumax,'    new growthrate =', mumaxchanged)"
   ]
  },
  {
   "cell_type": "code",
   "execution_count": 13,
   "metadata": {},
   "outputs": [
    {
     "name": "stdout",
     "output_type": "stream",
     "text": [
      "Changed EX_glc__D_e     oldgrowthrate 0.27397125872125067      new growthrate = 0.4055433030964437\n"
     ]
    }
   ],
   "source": [
    "# It is now checked if the growth rate changes if increasing glucose\n",
    "with model:\n",
    "    medium = model.medium\n",
    "    medium['EX_glc__D_e'] = 20\n",
    "    model.medium = medium\n",
    "    mumaxchanged = model.optimize().objective_value\n",
    "    print('Changed EX_glc__D_e     oldgrowthrate',mumax,'     new growthrate =',mumaxchanged)"
   ]
  },
  {
   "cell_type": "code",
   "execution_count": 14,
   "metadata": {},
   "outputs": [],
   "source": [
    "# It is seen that the reason for the decline in growth rate when lowering all\n",
    "# other components than glucose in the medium i o2. Increasing glucose also\n",
    "# yielded a higher growth rate. Even though the growth rate was increased by\n",
    "# changing Fe3, the change is so little, that i will ignore it here.\n",
    "# Increasing all other exchange reactions in the medium did not lead to an\n",
    "# increase in growth rate. In this case o2 and glucose are therefore the\n",
    "# limiting factors."
   ]
  },
  {
   "cell_type": "code",
   "execution_count": 15,
   "metadata": {},
   "outputs": [
    {
     "name": "stdout",
     "output_type": "stream",
     "text": [
      "0.14003961706623208\n"
     ]
    }
   ],
   "source": [
    "with model:\n",
    "    medium = model.medium\n",
    "    medium['EX_o2_e']=0\n",
    "    model.medium = medium\n",
    "    mu = model.optimize().objective_value\n",
    "    print(mu)"
   ]
  },
  {
   "cell_type": "code",
   "execution_count": 16,
   "metadata": {},
   "outputs": [],
   "source": [
    "#It can grow anaerobically"
   ]
  }
 ],
 "metadata": {
  "kernelspec": {
   "display_name": "Python 3",
   "language": "python",
   "name": "python3"
  },
  "language_info": {
   "codemirror_mode": {
    "name": "ipython",
    "version": 3
   },
   "file_extension": ".py",
   "mimetype": "text/x-python",
   "name": "python",
   "nbconvert_exporter": "python",
   "pygments_lexer": "ipython3",
   "version": "3.8.5"
  }
 },
 "nbformat": 4,
 "nbformat_minor": 4
}
