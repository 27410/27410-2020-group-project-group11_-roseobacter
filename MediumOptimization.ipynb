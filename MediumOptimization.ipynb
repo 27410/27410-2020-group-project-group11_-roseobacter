{
 "cells": [
  {
   "cell_type": "code",
   "execution_count": 1,
   "metadata": {},
   "outputs": [],
   "source": [
    "import cobra.io\n",
    "model = cobra.io.read_sbml_model('Roseobacter-litoralis-strain-B14.SBML')"
   ]
  },
  {
   "cell_type": "code",
   "execution_count": 2,
   "metadata": {},
   "outputs": [],
   "source": [
    "medium = model.medium"
   ]
  },
  {
   "cell_type": "code",
   "execution_count": 3,
   "metadata": {},
   "outputs": [],
   "source": [
    "mediumlist = list(medium.keys())"
   ]
  },
  {
   "cell_type": "code",
   "execution_count": 4,
   "metadata": {},
   "outputs": [],
   "source": [
    "mediumlist.remove('EX_glc__D_e')"
   ]
  },
  {
   "cell_type": "code",
   "execution_count": 5,
   "metadata": {},
   "outputs": [],
   "source": [
    "cnsources = list()"
   ]
  },
  {
   "cell_type": "code",
   "execution_count": 6,
   "metadata": {},
   "outputs": [],
   "source": [
    "for reactionname in mediumlist:\n",
    "    reaction = model.reactions.get_by_id(reactionname)\n",
    "    metabolite = reaction.reactants[0]\n",
    "    comp = metabolite.formula\n",
    "    checkcarbon = 'C' in comp\n",
    "    checknitrogen = 'N' in comp\n",
    "    if checkcarbon == True:\n",
    "        cnsources.append(reaction.id)\n",
    "    elif checknitrogen == True:\n",
    "        cnsources.append(reaction.id)"
   ]
  },
  {
   "cell_type": "code",
   "execution_count": 7,
   "metadata": {},
   "outputs": [],
   "source": [
    "## NEED TO SORT OUT IONS"
   ]
  },
  {
   "cell_type": "code",
   "execution_count": 8,
   "metadata": {},
   "outputs": [],
   "source": [
    "#c=10\n",
    "#for i in range(11):\n",
    "#    with model:\n",
    "#        for EX in cnsources:\n",
    "#            medium[EX] = c\n",
    "#            model.medium = medium\n",
    "#        #print(model.medium)\n",
    "#        mumax = model.optimize().objective_value\n",
    "#        print('Growth rate (Exhanges C/N sources =', c,') =', mumax)\n",
    "#        c = c-1"
   ]
  },
  {
   "cell_type": "code",
   "execution_count": 9,
   "metadata": {},
   "outputs": [],
   "source": [
    "growthrates = list()"
   ]
  },
  {
   "cell_type": "code",
   "execution_count": 10,
   "metadata": {},
   "outputs": [],
   "source": [
    "exchangelevels = list()"
   ]
  },
  {
   "cell_type": "code",
   "execution_count": 11,
   "metadata": {},
   "outputs": [],
   "source": [
    "c=10\n",
    "for i in range(21):\n",
    "    with model:\n",
    "        for EX in mediumlist:\n",
    "            medium[EX] = c\n",
    "            model.medium = medium\n",
    "        #print(model.medium)\n",
    "        mumax = model.optimize().objective_value\n",
    "        #print('Growth rate (Exhanges ALL\\glc =', c,') =', mumax)\n",
    "        growthrates.append(mumax)\n",
    "        exchangelevels.append(c)\n",
    "        c = c-0.5"
   ]
  },
  {
   "cell_type": "code",
   "execution_count": 12,
   "metadata": {},
   "outputs": [],
   "source": [
    "import matplotlib.pyplot as plt"
   ]
  },
  {
   "cell_type": "code",
   "execution_count": 13,
   "metadata": {},
   "outputs": [
    {
     "data": {
      "image/png": "[encoded data removed]",
      "text/plain": [
       "<Figure size 432x288 with 1 Axes>"
      ]
     },
     "metadata": {
      "needs_background": "light"
     },
     "output_type": "display_data"
    }
   ],
   "source": [
    "plt.plot(growthrates,exchangelevels,c='r',label='Growth rate')\n",
    "plt.ylabel('Medium exhanges levels')\n",
    "plt.xlabel('Growth rate')\n",
    "plt.axvline(0.27,c='k',label='Wanted growth rate')\n",
    "plt.grid(b=True)\n",
    "plt.xlim([0,0.7])\n",
    "plt.ylim([0,10])\n",
    "plt.title(\"Growth rate when lowering all exchanges except glucose\")\n",
    "plt.show()"
   ]
  },
  {
   "cell_type": "code",
   "execution_count": 14,
   "metadata": {},
   "outputs": [],
   "source": [
    "for EX in mediumlist:\n",
    "    medium[EX] = 2.5\n",
    "    model.medium = medium"
   ]
  },
  {
   "cell_type": "code",
   "execution_count": 15,
   "metadata": {},
   "outputs": [
    {
     "name": "stdout",
     "output_type": "stream",
     "text": [
      "Changed EX_fe3_e    old growthrate = 0.2739712587212505     new growthrate = 0.29887773678682067\n",
      "Changed EX_o2_e    old growthrate = 0.27397125872125166     new growthrate = 0.6656621778179113\n"
     ]
    }
   ],
   "source": [
    "for EX in mediumlist:\n",
    "    medium = model.medium\n",
    "    mumax = model.optimize().objective_value\n",
    "    with model:\n",
    "        medium[EX] = 10\n",
    "        model.medium = medium\n",
    "        mumaxchanged = model.optimize().objective_value\n",
    "        #print('Changed', EX,'growthrate =', mumax)\n",
    "    if mumaxchanged != mumax:\n",
    "        print('Changed', EX,'   old growthrate =',mumax,'    new growthrate =', mumaxchanged)"
   ]
  },
  {
   "cell_type": "code",
   "execution_count": 16,
   "metadata": {},
   "outputs": [],
   "source": [
    "# It is seen that the reason for the decline in growth rate when lowering all other components than glucose in the medium i o2.\n",
    "# In this case o2 i therefore the limiting factor."
   ]
  },
  {
   "cell_type": "code",
   "execution_count": 17,
   "metadata": {},
   "outputs": [
    {
     "data": {
      "text/plain": [
       "{'EX_glc__D_e': 10.0,\n",
       " 'EX_h2o_e': 2.5,\n",
       " 'EX_h_e': 2.5,\n",
       " 'EX_leu__L_e': 2.5,\n",
       " 'EX_ala__L_e': 2.5,\n",
       " 'EX_cl_e': 2.5,\n",
       " 'EX_pi_e': 2.5,\n",
       " 'EX_adn_e': 2.5,\n",
       " 'EX_nh4_e': 2.5,\n",
       " 'EX_gly_e': 2.5,\n",
       " 'EX_thr__L_e': 2.5,\n",
       " 'EX_arg__L_e': 2.5,\n",
       " 'EX_fe3_e': 2.5,\n",
       " 'EX_lys__L_e': 2.5,\n",
       " 'EX_asp__L_e': 2.5,\n",
       " 'EX_aso3_e': 2.5,\n",
       " 'EX_k_e': 2.5,\n",
       " 'EX_pro__L_e': 2.5,\n",
       " 'EX_ca2_e': 2.5,\n",
       " 'EX_mg2_e': 2.5,\n",
       " 'EX_mn2_e': 2.5,\n",
       " 'EX_cobalt2_e': 2.5,\n",
       " 'EX_zn2_e': 2.5,\n",
       " 'EX_cu2_e': 2.5,\n",
       " 'EX_o2_e': 2.5,\n",
       " 'EX_glu__L_e': 2.5,\n",
       " 'EX_fe2_e': 2.5,\n",
       " 'EX_gsn_e': 2.5,\n",
       " 'EX_h2s_e': 2.5,\n",
       " 'EX_pheme_e': 2.5,\n",
       " 'EX_his__L_e': 2.5,\n",
       " 'EX_hxan_e': 2.5,\n",
       " 'EX_ile__L_e': 2.5,\n",
       " 'EX_met__L_e': 2.5,\n",
       " 'EX_mobd_e': 2.5,\n",
       " 'EX_uri_e': 2.5,\n",
       " 'EX_so4_e': 2.5,\n",
       " 'EX_val__L_e': 2.5,\n",
       " 'EX_thm_e': 2.5}"
      ]
     },
     "execution_count": 17,
     "metadata": {},
     "output_type": "execute_result"
    }
   ],
   "source": [
    "model.medium"
   ]
  },
  {
   "cell_type": "code",
   "execution_count": 20,
   "metadata": {},
   "outputs": [
    {
     "name": "stdout",
     "output_type": "stream",
     "text": [
      "0.1400396170662323\n"
     ]
    }
   ],
   "source": [
    "with model:\n",
    "    medium = model.medium\n",
    "    medium['EX_o2_e']=0\n",
    "    model.medium = medium\n",
    "    mu = model.optimize().objective_value\n",
    "    print(mu)"
   ]
  },
  {
   "cell_type": "code",
   "execution_count": null,
   "metadata": {},
   "outputs": [],
   "source": [
    "#It can grow anaerobically"
   ]
  }
 ],
 "metadata": {
  "kernelspec": {
   "display_name": "Python 3",
   "language": "python",
   "name": "python3"
  },
  "language_info": {
   "codemirror_mode": {
    "name": "ipython",
    "version": 3
   },
   "file_extension": ".py",
   "mimetype": "text/x-python",
   "name": "python",
   "nbconvert_exporter": "python",
   "pygments_lexer": "ipython3",
   "version": "3.8.5"
  }
 },
 "nbformat": 4,
 "nbformat_minor": 4
}
