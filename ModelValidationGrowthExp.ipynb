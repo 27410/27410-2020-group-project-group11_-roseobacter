{
 "cells": [
  {
   "cell_type": "code",
   "execution_count": 1,
   "metadata": {},
   "outputs": [],
   "source": [
    "import cobra.io\n",
    "model = cobra.io.read_sbml_model('Roseobacter-litoralis-strain-B14.SBML')"
   ]
  },
  {
   "cell_type": "code",
   "execution_count": 2,
   "metadata": {},
   "outputs": [],
   "source": [
    "medium = model.medium"
   ]
  },
  {
   "cell_type": "code",
   "execution_count": 3,
   "metadata": {},
   "outputs": [],
   "source": [
    "mediumlist = list(medium.keys())"
   ]
  },
  {
   "cell_type": "code",
   "execution_count": 4,
   "metadata": {},
   "outputs": [],
   "source": [
    "mediumlist.remove('EX_glc__D_e')"
   ]
  },
  {
   "cell_type": "code",
   "execution_count": 5,
   "metadata": {},
   "outputs": [],
   "source": [
    "for EX in mediumlist:\n",
    "    medium[EX] = 2.5\n",
    "    model.medium = medium"
   ]
  },
  {
   "cell_type": "code",
   "execution_count": 6,
   "metadata": {},
   "outputs": [],
   "source": [
    "mediumwglc = list(medium.keys())"
   ]
  },
  {
   "cell_type": "code",
   "execution_count": 7,
   "metadata": {},
   "outputs": [],
   "source": [
    "csources = list()"
   ]
  },
  {
   "cell_type": "code",
   "execution_count": 8,
   "metadata": {},
   "outputs": [],
   "source": [
    "for reactionname in mediumwglc:\n",
    "    reaction = model.reactions.get_by_id(reactionname)\n",
    "    metabolite = reaction.reactants[0]\n",
    "    comp = metabolite.formula\n",
    "    checkcarbon = 'C' in comp\n",
    "    if checkcarbon == True:\n",
    "        csources.append(reaction.id)"
   ]
  },
  {
   "cell_type": "code",
   "execution_count": 9,
   "metadata": {},
   "outputs": [
    {
     "data": {
      "text/plain": [
       "['EX_glc__D_e',\n",
       " 'EX_leu__L_e',\n",
       " 'EX_ala__L_e',\n",
       " 'EX_cl_e',\n",
       " 'EX_adn_e',\n",
       " 'EX_gly_e',\n",
       " 'EX_thr__L_e',\n",
       " 'EX_arg__L_e',\n",
       " 'EX_lys__L_e',\n",
       " 'EX_asp__L_e',\n",
       " 'EX_pro__L_e',\n",
       " 'EX_ca2_e',\n",
       " 'EX_cobalt2_e',\n",
       " 'EX_cu2_e',\n",
       " 'EX_glu__L_e',\n",
       " 'EX_gsn_e',\n",
       " 'EX_pheme_e',\n",
       " 'EX_his__L_e',\n",
       " 'EX_hxan_e',\n",
       " 'EX_ile__L_e',\n",
       " 'EX_met__L_e',\n",
       " 'EX_uri_e',\n",
       " 'EX_val__L_e',\n",
       " 'EX_thm_e']"
      ]
     },
     "execution_count": 9,
     "metadata": {},
     "output_type": "execute_result"
    }
   ],
   "source": [
    "csources"
   ]
  },
  {
   "cell_type": "code",
   "execution_count": 10,
   "metadata": {},
   "outputs": [],
   "source": [
    "csources.remove('EX_cl_e')\n",
    "csources.remove('EX_ca2_e')\n",
    "csources.remove('EX_cobalt2_e')\n",
    "csources.remove('EX_cu2_e')"
   ]
  },
  {
   "cell_type": "code",
   "execution_count": 11,
   "metadata": {},
   "outputs": [
    {
     "data": {
      "text/plain": [
       "['EX_glc__D_e',\n",
       " 'EX_leu__L_e',\n",
       " 'EX_ala__L_e',\n",
       " 'EX_adn_e',\n",
       " 'EX_gly_e',\n",
       " 'EX_thr__L_e',\n",
       " 'EX_arg__L_e',\n",
       " 'EX_lys__L_e',\n",
       " 'EX_asp__L_e',\n",
       " 'EX_pro__L_e',\n",
       " 'EX_glu__L_e',\n",
       " 'EX_gsn_e',\n",
       " 'EX_pheme_e',\n",
       " 'EX_his__L_e',\n",
       " 'EX_hxan_e',\n",
       " 'EX_ile__L_e',\n",
       " 'EX_met__L_e',\n",
       " 'EX_uri_e',\n",
       " 'EX_val__L_e',\n",
       " 'EX_thm_e']"
      ]
     },
     "execution_count": 11,
     "metadata": {},
     "output_type": "execute_result"
    }
   ],
   "source": [
    "csources"
   ]
  },
  {
   "cell_type": "code",
   "execution_count": 12,
   "metadata": {},
   "outputs": [
    {
     "name": "stdout",
     "output_type": "stream",
     "text": [
      "{'EX_h2o_e': 2.5, 'EX_h_e': 2.5, 'EX_cl_e': 2.5, 'EX_pi_e': 2.5, 'EX_nh4_e': 2.5, 'EX_fe3_e': 2.5, 'EX_aso3_e': 2.5, 'EX_k_e': 2.5, 'EX_ca2_e': 2.5, 'EX_mg2_e': 2.5, 'EX_mn2_e': 2.5, 'EX_cobalt2_e': 2.5, 'EX_zn2_e': 2.5, 'EX_cu2_e': 2.5, 'EX_o2_e': 2.5, 'EX_fe2_e': 2.5, 'EX_h2s_e': 2.5, 'EX_mobd_e': 2.5, 'EX_so4_e': 2.5}\n"
     ]
    }
   ],
   "source": [
    "medium1 = model.medium\n",
    "for Csource in csources:\n",
    "    medium1[Csource]=0\n",
    "model.medium = medium1\n",
    "print(model.medium)"
   ]
  },
  {
   "cell_type": "code",
   "execution_count": 13,
   "metadata": {},
   "outputs": [
    {
     "data": {
      "text/plain": [
       "{'EX_glc__D_e': 0,\n",
       " 'EX_h2o_e': 2.5,\n",
       " 'EX_h_e': 2.5,\n",
       " 'EX_leu__L_e': 0,\n",
       " 'EX_ala__L_e': 0,\n",
       " 'EX_cl_e': 2.5,\n",
       " 'EX_pi_e': 2.5,\n",
       " 'EX_adn_e': 0,\n",
       " 'EX_nh4_e': 2.5,\n",
       " 'EX_gly_e': 0,\n",
       " 'EX_thr__L_e': 0,\n",
       " 'EX_arg__L_e': 0,\n",
       " 'EX_fe3_e': 2.5,\n",
       " 'EX_lys__L_e': 0,\n",
       " 'EX_asp__L_e': 0,\n",
       " 'EX_aso3_e': 2.5,\n",
       " 'EX_k_e': 2.5,\n",
       " 'EX_pro__L_e': 0,\n",
       " 'EX_ca2_e': 2.5,\n",
       " 'EX_mg2_e': 2.5,\n",
       " 'EX_mn2_e': 2.5,\n",
       " 'EX_cobalt2_e': 2.5,\n",
       " 'EX_zn2_e': 2.5,\n",
       " 'EX_cu2_e': 2.5,\n",
       " 'EX_o2_e': 2.5,\n",
       " 'EX_glu__L_e': 0,\n",
       " 'EX_fe2_e': 2.5,\n",
       " 'EX_gsn_e': 0,\n",
       " 'EX_h2s_e': 2.5,\n",
       " 'EX_pheme_e': 0,\n",
       " 'EX_his__L_e': 0,\n",
       " 'EX_hxan_e': 0,\n",
       " 'EX_ile__L_e': 0,\n",
       " 'EX_met__L_e': 0,\n",
       " 'EX_mobd_e': 2.5,\n",
       " 'EX_uri_e': 0,\n",
       " 'EX_so4_e': 2.5,\n",
       " 'EX_val__L_e': 0,\n",
       " 'EX_thm_e': 0}"
      ]
     },
     "execution_count": 13,
     "metadata": {},
     "output_type": "execute_result"
    }
   ],
   "source": [
    "medium1"
   ]
  },
  {
   "cell_type": "code",
   "execution_count": 14,
   "metadata": {},
   "outputs": [],
   "source": [
    "newcsources = ['EX_ala__L_e','EX_arg__L_e','EX_asp__L_e', 'EX_glu__L_e', 'EX_gln__L_e', \n",
    "               'EX_gly_e', 'EX_his__L_e', 'EX_ile__L_e','EX_leu__L_e', 'EX_lys__L_e', 'EX_met__L_e', \n",
    "               'EX_orn_e', 'EX_pro__L_e', 'EX_ser__D_e', 'EX_thr__L_e', 'EX_val__L_e', 'EX_cellb_e', \n",
    "               'EX_arab__D_e', 'EX_arab__L_e', 'EX_fru_e', 'EX_fuc__L_e', 'EX_gal_e', 'EX_gam_e',\n",
    "               'EX_glc__D_e', 'EX_lcts_e', 'EX_lac__D_e', 'EX_lac__L_e', 'EX_malt_e', 'EX_mnl_e', \n",
    "               'EX_man_e', 'EX_melib_e', 'EX_rmn_e', 'EX_rib__D_e','EX_sucr_e', 'EX_sbt__D_e', \n",
    "               'EX_tre_e', 'EX_xyl__D_e', 'EX_chol_e', 'EX_glyb_e', 'EX_ptrc_e', 'EX_taur_e', \n",
    "               'EX_etoh_e', 'EX_glyc_e', 'EX_urea_e']"
   ]
  },
  {
   "cell_type": "markdown",
   "metadata": {},
   "source": [
    "Missing in newsources: asparagine, citrulline, cysteine, phenylalanine, tryptophan, tyrosine, creatine, creatinine, dimethylglycine, sarcosine, glycogen"
   ]
  },
  {
   "cell_type": "code",
   "execution_count": 15,
   "metadata": {},
   "outputs": [
    {
     "name": "stdout",
     "output_type": "stream",
     "text": [
      "EX_ala__L_e 0.0\n",
      "EX_arg__L_e 0.11832027929981208\n",
      "EX_asp__L_e 0.0\n",
      "EX_glu__L_e 0.0\n",
      "EX_gln__L_e 0.0\n",
      "EX_gly_e 0.0\n",
      "EX_his__L_e 0.0\n",
      "EX_ile__L_e 0.0\n",
      "EX_leu__L_e 0.0\n",
      "EX_lys__L_e 0.0\n",
      "EX_met__L_e 0.0\n",
      "EX_orn_e 0.0\n",
      "EX_pro__L_e 0.0\n",
      "EX_ser__D_e 0.0\n",
      "EX_thr__L_e 0.0\n",
      "EX_val__L_e 0.0\n",
      "EX_cellb_e 0.0\n",
      "EX_arab__D_e 0.0\n",
      "EX_arab__L_e 0.0\n",
      "EX_fru_e 0.0\n",
      "EX_fuc__L_e 0.0\n",
      "EX_gal_e 0.0\n",
      "EX_gam_e 0.0\n",
      "EX_glc__D_e 0.0\n",
      "EX_lcts_e 0.0\n",
      "EX_lac__D_e 0.0\n",
      "EX_lac__L_e 0.0\n",
      "EX_malt_e 0.0\n",
      "EX_mnl_e 0.0\n",
      "EX_man_e 0.0\n",
      "EX_melib_e 0.0\n",
      "EX_rmn_e 0.0\n",
      "EX_rib__D_e 0.0\n",
      "EX_sucr_e 0.0\n",
      "EX_sbt__D_e 0.0\n",
      "EX_tre_e 0.0\n",
      "EX_xyl__D_e 0.0\n",
      "EX_chol_e 0.0\n",
      "EX_glyb_e 0.0\n",
      "EX_ptrc_e 0.0\n",
      "EX_taur_e 0.0\n",
      "EX_etoh_e 0.0\n",
      "EX_glyc_e 0.0\n",
      "EX_urea_e 0.0\n"
     ]
    }
   ],
   "source": [
    "for newcsource in newcsources:\n",
    "    model.medium = medium1\n",
    "    medium2 = model.medium\n",
    "    medium2[newcsource]=10\n",
    "    model.medium = medium2\n",
    "    mumax = model.optimize().objective_value\n",
    "    print(newcsource,mumax)\n",
    "    #print(model.medium)"
   ]
  },
  {
   "cell_type": "code",
   "execution_count": 18,
   "metadata": {},
   "outputs": [],
   "source": [
    "allex = model.exchanges"
   ]
  },
  {
   "cell_type": "code",
   "execution_count": 20,
   "metadata": {},
   "outputs": [
    {
     "data": {
      "text/plain": [
       "[<Reaction EX_glc__D_e at 0x7f1c83457b38>,\n",
       " <Reaction EX_h2o_e at 0x7f1c83457e80>,\n",
       " <Reaction EX_14glucan_e at 0x7f1c83457b00>,\n",
       " <Reaction EX_23camp_e at 0x7f1c83457cc0>,\n",
       " <Reaction EX_23ccmp_e at 0x7f1c83457e10>,\n",
       " <Reaction EX_23cgmp_e at 0x7f1c83457860>,\n",
       " <Reaction EX_23cump_e at 0x7f1c83457940>,\n",
       " <Reaction EX_h_e at 0x7f1c83457eb8>,\n",
       " <Reaction EX_hco3_e at 0x7f1c83457dd8>,\n",
       " <Reaction EX_2hxmp_e at 0x7f1c834574a8>,\n",
       " <Reaction EX_2pglyc_e at 0x7f1c83457f98>,\n",
       " <Reaction EX_leu__L_e at 0x7f1c83457ef0>,\n",
       " <Reaction EX_3amp_e at 0x7f1c83457fd0>,\n",
       " <Reaction EX_3cmp_e at 0x7f1c833e30b8>,\n",
       " <Reaction EX_3gmp_e at 0x7f1c833e30f0>,\n",
       " <Reaction EX_3hoxpac_e at 0x7f1c833e3278>,\n",
       " <Reaction EX_3mb_e at 0x7f1c833e32e8>,\n",
       " <Reaction EX_3ump_e at 0x7f1c833e3358>,\n",
       " <Reaction EX_4hbald_e at 0x7f1c833e3400>,\n",
       " <Reaction EX_4hba_e at 0x7f1c833e3438>,\n",
       " <Reaction EX_4hbz_e at 0x7f1c833e3550>,\n",
       " <Reaction EX_ala__L_e at 0x7f1c833e3518>,\n",
       " <Reaction EX_cl_e at 0x7f1c833e36d8>,\n",
       " <Reaction EX_LalaDgluMdapDala_e at 0x7f1c833e3630>,\n",
       " <Reaction EX_5mtr_e at 0x7f1c833e3668>,\n",
       " <Reaction EX_dextrin_e at 0x7f1c833e37b8>,\n",
       " <Reaction EX_arab__L_e at 0x7f1c833e3828>,\n",
       " <Reaction EX_acald_e at 0x7f1c833e3710>,\n",
       " <Reaction EX_acgam_e at 0x7f1c833e3898>,\n",
       " <Reaction EX_ac_e at 0x7f1c833e39e8>,\n",
       " <Reaction EX_chol_e at 0x7f1c833e3940>,\n",
       " <Reaction EX_acmana_e at 0x7f1c833e39b0>,\n",
       " <Reaction EX_pi_e at 0x7f1c833e3ac8>,\n",
       " <Reaction EX_actn__R_e at 0x7f1c833e3ba8>,\n",
       " <Reaction EX_adn_e at 0x7f1c833e3b70>,\n",
       " <Reaction EX_nh4_e at 0x7f1c833e3c88>,\n",
       " <Reaction EX_ala__D_e at 0x7f1c833e3cf8>,\n",
       " <Reaction EX_gln__L_e at 0x7f1c833e3be0>,\n",
       " <Reaction EX_gly_e at 0x7f1c833e3dd8>,\n",
       " <Reaction EX_thr__L_e at 0x7f1c833e3e80>,\n",
       " <Reaction EX_arg__L_e at 0x7f1c833e3e10>,\n",
       " <Reaction EX_cgly_e at 0x7f1c833e3da0>,\n",
       " <Reaction EX_malt_e at 0x7f1c833e3f98>,\n",
       " <Reaction EX_malttr_e at 0x7f1c833e3f28>,\n",
       " <Reaction EX_anhgm_e at 0x7f1c833e3fd0>,\n",
       " <Reaction EX_arab__D_e at 0x7f1c833e3f60>,\n",
       " <Reaction EX_fe3_e at 0x7f1c833fc0f0>,\n",
       " <Reaction EX_arbt_e at 0x7f1c833fc160>,\n",
       " <Reaction EX_lys__L_e at 0x7f1c833fc208>,\n",
       " <Reaction EX_orn_e at 0x7f1c833fc198>,\n",
       " <Reaction EX_asp__L_e at 0x7f1c833fc358>,\n",
       " <Reaction EX_aso3_e at 0x7f1c833fc320>,\n",
       " <Reaction EX_aso4_e at 0x7f1c833fc390>,\n",
       " <Reaction EX_k_e at 0x7f1c833fc470>,\n",
       " <Reaction EX_pro__L_e at 0x7f1c833fc3c8>,\n",
       " <Reaction EX_cellb_e at 0x7f1c833fc518>,\n",
       " <Reaction EX_meoh_e at 0x7f1c833fc550>,\n",
       " <Reaction EX_btoh_e at 0x7f1c833fc6d8>,\n",
       " <Reaction EX_buts_e at 0x7f1c833fc630>,\n",
       " <Reaction EX_butso3_e at 0x7f1c833fc710>,\n",
       " <Reaction EX_but_e at 0x7f1c833fc748>,\n",
       " <Reaction EX_bz_e at 0x7f1c833fc908>,\n",
       " <Reaction EX_ca2_e at 0x7f1c833fc860>,\n",
       " <Reaction EX_chols_e at 0x7f1c833fc898>,\n",
       " <Reaction EX_mg2_e at 0x7f1c833fc9b0>,\n",
       " <Reaction EX_mn2_e at 0x7f1c833fca90>,\n",
       " <Reaction EX_cobalt2_e at 0x7f1c833fcb00>,\n",
       " <Reaction EX_zn2_e at 0x7f1c833fcac8>,\n",
       " <Reaction EX_succ_e at 0x7f1c833fcbe0>,\n",
       " <Reaction EX_for_e at 0x7f1c833fcc50>,\n",
       " <Reaction EX_lipa_cold_e at 0x7f1c833fcb38>,\n",
       " <Reaction EX_oxa_e at 0x7f1c833fccf8>,\n",
       " <Reaction EX_co2_e at 0x7f1c833fccc0>,\n",
       " <Reaction EX_co_e at 0x7f1c833fcdd8>,\n",
       " <Reaction EX_crn_e at 0x7f1c833fcda0>,\n",
       " <Reaction EX_ctbt_e at 0x7f1c833fceb8>,\n",
       " <Reaction EX_cu2_e at 0x7f1c833fcf60>,\n",
       " <Reaction EX_o2_e at 0x7f1c83410048>,\n",
       " <Reaction EX_glu__L_e at 0x7f1c833fce80>,\n",
       " <Reaction EX_diact_e at 0x7f1c833fcf28>,\n",
       " <Reaction EX_dca_e at 0x7f1c83410198>,\n",
       " <Reaction EX_dha_e at 0x7f1c83410240>,\n",
       " <Reaction EX_lac__D_e at 0x7f1c834100f0>,\n",
       " <Reaction EX_dms_e at 0x7f1c83410278>,\n",
       " <Reaction EX_dmso_e at 0x7f1c83410390>,\n",
       " <Reaction EX_drib_e at 0x7f1c83410400>,\n",
       " <Reaction EX_ser__D_e at 0x7f1c834102b0>,\n",
       " <Reaction EX_dxyl_e at 0x7f1c834104a8>,\n",
       " <Reaction EX_enlipa_e at 0x7f1c83410470>,\n",
       " <Reaction EX_galur_e at 0x7f1c83410518>,\n",
       " <Reaction EX_etha_e at 0x7f1c83410550>,\n",
       " <Reaction EX_eths_e at 0x7f1c834105f8>,\n",
       " <Reaction EX_ethso3_e at 0x7f1c83410588>,\n",
       " <Reaction EX_etoh_e at 0x7f1c834106d8>,\n",
       " <Reaction EX_h2_e at 0x7f1c83410860>,\n",
       " <Reaction EX_fe2_e at 0x7f1c834107b8>,\n",
       " <Reaction EX_fe3dcit_e at 0x7f1c834107f0>,\n",
       " <Reaction EX_enter_e at 0x7f1c83410898>,\n",
       " <Reaction EX_feenter_e at 0x7f1c834109e8>,\n",
       " <Reaction EX_frmd_e at 0x7f1c83410a58>,\n",
       " <Reaction EX_fru_e at 0x7f1c834108d0>,\n",
       " <Reaction EX_fuc__L_e at 0x7f1c83410a90>,\n",
       " <Reaction EX_g3pc_e at 0x7f1c83410a20>,\n",
       " <Reaction EX_g3pi_e at 0x7f1c83410b70>,\n",
       " <Reaction EX_g3ps_e at 0x7f1c83410c88>,\n",
       " <Reaction EX_gal_e at 0x7f1c83410c18>,\n",
       " <Reaction EX_gal_bD_e at 0x7f1c83410cc0>,\n",
       " <Reaction EX_galctn__D_e at 0x7f1c83410cf8>,\n",
       " <Reaction EX_galctr__D_e at 0x7f1c83410da0>,\n",
       " <Reaction EX_galct__D_e at 0x7f1c83410eb8>,\n",
       " <Reaction EX_galt_e at 0x7f1c83410e48>,\n",
       " <Reaction EX_gam_e at 0x7f1c83410e10>,\n",
       " <Reaction EX_glcr_e at 0x7f1c83410e80>,\n",
       " <Reaction EX_glcur_e at 0x7f1c83410f60>,\n",
       " <Reaction EX_glyc3p_e at 0x7f1c83410fd0>,\n",
       " <Reaction EX_glyb_e at 0x7f1c833a6198>,\n",
       " <Reaction EX_glyc2p_e at 0x7f1c833a6160>,\n",
       " <Reaction EX_glyclt_e at 0x7f1c833a61d0>,\n",
       " <Reaction EX_glyc_e at 0x7f1c833a6208>,\n",
       " <Reaction EX_gm1lipa_e at 0x7f1c833a62b0>,\n",
       " <Reaction EX_gsn_e at 0x7f1c833a6240>,\n",
       " <Reaction EX_gua_e at 0x7f1c833a6358>,\n",
       " <Reaction EX_h2s_e at 0x7f1c833a63c8>,\n",
       " <Reaction EX_3hcinnm_e at 0x7f1c833a6400>,\n",
       " <Reaction EX_pheme_e at 0x7f1c833a6550>,\n",
       " <Reaction EX_hexs_e at 0x7f1c833a65f8>,\n",
       " <Reaction EX_his__L_e at 0x7f1c833a6668>,\n",
       " <Reaction EX_4hphac_e at 0x7f1c833a6518>,\n",
       " <Reaction EX_3hpppn_e at 0x7f1c833a66a0>,\n",
       " <Reaction EX_hqn_e at 0x7f1c833a66d8>,\n",
       " <Reaction EX_hxan_e at 0x7f1c833a6748>,\n",
       " <Reaction EX_hxa_e at 0x7f1c833a67b8>,\n",
       " <Reaction EX_taur_e at 0x7f1c833a6780>,\n",
       " <Reaction EX_ile__L_e at 0x7f1c833a6940>,\n",
       " <Reaction EX_inost_e at 0x7f1c833a6908>,\n",
       " <Reaction EX_isetac_e at 0x7f1c833a6a58>,\n",
       " <Reaction EX_istnt_e at 0x7f1c833a6a20>,\n",
       " <Reaction EX_kdo2lipid4_e at 0x7f1c833a69b0>,\n",
       " <Reaction EX_lcts_e at 0x7f1c833a6b00>,\n",
       " <Reaction EX_Lcyst_e at 0x7f1c833a6a90>,\n",
       " <Reaction EX_lipa_e at 0x7f1c833a6be0>,\n",
       " <Reaction EX_lac__L_e at 0x7f1c833a6b38>,\n",
       " <Reaction EX_mal__D_e at 0x7f1c833a6cc0>,\n",
       " <Reaction EX_malthp_e at 0x7f1c833a6cf8>,\n",
       " <Reaction EX_malthx_e at 0x7f1c833a6da0>,\n",
       " <Reaction EX_maltpt_e at 0x7f1c833a6dd8>,\n",
       " <Reaction EX_maltttr_e at 0x7f1c833a6e48>,\n",
       " <Reaction EX_man_e at 0x7f1c833a6e10>,\n",
       " <Reaction EX_manb_e at 0x7f1c833a6ef0>,\n",
       " <Reaction EX_melib_e at 0x7f1c833a6f60>,\n",
       " <Reaction EX_met__L_e at 0x7f1c833a6fd0>,\n",
       " <Reaction EX_metox_e at 0x7f1c833bc160>,\n",
       " <Reaction EX_metox__R_e at 0x7f1c833bc128>,\n",
       " <Reaction EX_mnl_e at 0x7f1c833bc1d0>,\n",
       " <Reaction EX_mobd_e at 0x7f1c833bc208>,\n",
       " <Reaction EX_udcpdp_e at 0x7f1c833bc2b0>,\n",
       " <Reaction EX_mso3_e at 0x7f1c833bc240>,\n",
       " <Reaction EX_n2_e at 0x7f1c833bc4a8>,\n",
       " <Reaction EX_nmn_e at 0x7f1c833bc3c8>,\n",
       " <Reaction EX_no2_e at 0x7f1c833bc438>,\n",
       " <Reaction EX_no3_e at 0x7f1c833bc4e0>,\n",
       " <Reaction EX_no_e at 0x7f1c833bc5f8>,\n",
       " <Reaction EX_uri_e at 0x7f1c833bc6a0>,\n",
       " <Reaction EX_udcpo5_e at 0x7f1c833bc710>,\n",
       " <Reaction EX_octa_e at 0x7f1c833bc780>,\n",
       " <Reaction EX_pac_e at 0x7f1c833bc828>,\n",
       " <Reaction EX_pdima_e at 0x7f1c833bc898>,\n",
       " <Reaction EX_ppa_e at 0x7f1c833bc748>,\n",
       " <Reaction EX_progly_e at 0x7f1c833bc8d0>,\n",
       " <Reaction EX_ptrc_e at 0x7f1c833bc9e8>,\n",
       " <Reaction EX_p_xyl_e at 0x7f1c833bc9b0>,\n",
       " <Reaction EX_pyr_e at 0x7f1c833bcac8>,\n",
       " <Reaction EX_so4_e at 0x7f1c833bca58>,\n",
       " <Reaction EX_val__L_e at 0x7f1c833bcb00>,\n",
       " <Reaction EX_raffin_e at 0x7f1c833bcb38>,\n",
       " <Reaction EX_spmd_e at 0x7f1c833bcc88>,\n",
       " <Reaction EX_urea_e at 0x7f1c833bccf8>,\n",
       " <Reaction EX_rib__D_e at 0x7f1c833bcbe0>,\n",
       " <Reaction EX_rmn_e at 0x7f1c833bcc50>,\n",
       " <Reaction EX_salchs4fe_e at 0x7f1c833bcd68>,\n",
       " <Reaction EX_salchs4_e at 0x7f1c833bcdd8>,\n",
       " <Reaction EX_salcn_e at 0x7f1c833bce48>,\n",
       " <Reaction EX_sbt__D_e at 0x7f1c833bcf60>,\n",
       " <Reaction EX_so3_e at 0x7f1c833bce80>,\n",
       " <Reaction EX_s_e at 0x7f1c833d1128>,\n",
       " <Reaction EX_sucr_e at 0x7f1c833bcf28>,\n",
       " <Reaction EX_sula_e at 0x7f1c833d1080>,\n",
       " <Reaction EX_sulfac_e at 0x7f1c833d11d0>,\n",
       " <Reaction EX_tartr__L_e at 0x7f1c833d12b0>,\n",
       " <Reaction EX_thm_e at 0x7f1c833d1278>,\n",
       " <Reaction EX_tma_e at 0x7f1c833d12e8>,\n",
       " <Reaction EX_tmao_e at 0x7f1c833d1320>,\n",
       " <Reaction EX_tol_e at 0x7f1c833d1390>,\n",
       " <Reaction EX_tre_e at 0x7f1c833d14a8>,\n",
       " <Reaction EX_tsul_e at 0x7f1c833d1550>,\n",
       " <Reaction EX_udcpp_e at 0x7f1c833d1518>,\n",
       " <Reaction EX_vanln_e at 0x7f1c833d1630>,\n",
       " <Reaction EX_xan_e at 0x7f1c833d16a0>,\n",
       " <Reaction EX_xyl__D_e at 0x7f1c833d1668>]"
      ]
     },
     "execution_count": 20,
     "metadata": {},
     "output_type": "execute_result"
    }
   ],
   "source": [
    "allex"
   ]
  },
  {
   "cell_type": "code",
   "execution_count": 21,
   "metadata": {},
   "outputs": [
    {
     "name": "stdout",
     "output_type": "stream",
     "text": [
      "['EX_23camp_e', 'EX_23ccmp_e', 'EX_23cgmp_e', 'EX_23cump_e', 'EX_leu__L_e', 'EX_3amp_e', 'EX_3cmp_e', 'EX_3gmp_e', 'EX_3ump_e', 'EX_ala__L_e', 'EX_LalaDgluMdapDala_e', 'EX_acgam_e', 'EX_chol_e', 'EX_acmana_e', 'EX_adn_e', 'EX_nh4_e', 'EX_ala__D_e', 'EX_gln__L_e', 'EX_gly_e', 'EX_thr__L_e', 'EX_arg__L_e', 'EX_cgly_e', 'EX_anhgm_e', 'EX_lys__L_e', 'EX_orn_e', 'EX_asp__L_e', 'EX_pro__L_e', 'EX_chols_e', 'EX_lipa_cold_e', 'EX_crn_e', 'EX_ctbt_e', 'EX_glu__L_e', 'EX_ser__D_e', 'EX_enlipa_e', 'EX_etha_e', 'EX_enter_e', 'EX_feenter_e', 'EX_frmd_e', 'EX_g3pc_e', 'EX_g3ps_e', 'EX_gam_e', 'EX_glyb_e', 'EX_gm1lipa_e', 'EX_gsn_e', 'EX_gua_e', 'EX_pheme_e', 'EX_his__L_e', 'EX_hxan_e', 'EX_taur_e', 'EX_ile__L_e', 'EX_kdo2lipid4_e', 'EX_Lcyst_e', 'EX_lipa_e', 'EX_met__L_e', 'EX_metox_e', 'EX_metox__R_e', 'EX_n2_e', 'EX_nmn_e', 'EX_no2_e', 'EX_no3_e', 'EX_no_e', 'EX_uri_e', 'EX_progly_e', 'EX_ptrc_e', 'EX_val__L_e', 'EX_spmd_e', 'EX_urea_e', 'EX_salchs4fe_e', 'EX_salchs4_e', 'EX_thm_e', 'EX_tma_e', 'EX_tmao_e', 'EX_xan_e']\n"
     ]
    }
   ],
   "source": [
    "nsources = list()\n",
    "for reaction in allex:\n",
    "    metabolite = reaction.reactants[0]\n",
    "    comp = metabolite.formula\n",
    "    checkcarbon = 'N' in comp\n",
    "    if checkcarbon == True:\n",
    "        nsources.append(reaction.id)\n",
    "print(nsources)"
   ]
  },
  {
   "cell_type": "code",
   "execution_count": 22,
   "metadata": {},
   "outputs": [
    {
     "data": {
      "text/plain": [
       "{'EX_glc__D_e': 0,\n",
       " 'EX_h2o_e': 2.5,\n",
       " 'EX_h_e': 2.5,\n",
       " 'EX_leu__L_e': 0,\n",
       " 'EX_ala__L_e': 0,\n",
       " 'EX_cl_e': 2.5,\n",
       " 'EX_pi_e': 2.5,\n",
       " 'EX_adn_e': 0,\n",
       " 'EX_nh4_e': 2.5,\n",
       " 'EX_gly_e': 0,\n",
       " 'EX_thr__L_e': 0,\n",
       " 'EX_arg__L_e': 0,\n",
       " 'EX_fe3_e': 2.5,\n",
       " 'EX_lys__L_e': 0,\n",
       " 'EX_asp__L_e': 0,\n",
       " 'EX_aso3_e': 2.5,\n",
       " 'EX_k_e': 2.5,\n",
       " 'EX_pro__L_e': 0,\n",
       " 'EX_ca2_e': 2.5,\n",
       " 'EX_mg2_e': 2.5,\n",
       " 'EX_mn2_e': 2.5,\n",
       " 'EX_cobalt2_e': 2.5,\n",
       " 'EX_zn2_e': 2.5,\n",
       " 'EX_cu2_e': 2.5,\n",
       " 'EX_o2_e': 2.5,\n",
       " 'EX_glu__L_e': 0,\n",
       " 'EX_fe2_e': 2.5,\n",
       " 'EX_gsn_e': 0,\n",
       " 'EX_h2s_e': 2.5,\n",
       " 'EX_pheme_e': 0,\n",
       " 'EX_his__L_e': 0,\n",
       " 'EX_hxan_e': 0,\n",
       " 'EX_ile__L_e': 0,\n",
       " 'EX_met__L_e': 0,\n",
       " 'EX_mobd_e': 2.5,\n",
       " 'EX_uri_e': 0,\n",
       " 'EX_so4_e': 2.5,\n",
       " 'EX_val__L_e': 0,\n",
       " 'EX_thm_e': 0}"
      ]
     },
     "execution_count": 22,
     "metadata": {},
     "output_type": "execute_result"
    }
   ],
   "source": [
    "medium1"
   ]
  },
  {
   "cell_type": "code",
   "execution_count": 25,
   "metadata": {},
   "outputs": [
    {
     "name": "stdout",
     "output_type": "stream",
     "text": [
      "0.24756662199068202 EX_arg__L_e\n"
     ]
    }
   ],
   "source": [
    "for nsource in nsources:\n",
    "    model.medium=medium1\n",
    "    medium3 = model.medium\n",
    "    medium3['EX_glc__D_e']=10\n",
    "    medium3[nsource] = 10\n",
    "    model.medium = medium3\n",
    "    gr = model.optimize().objective_value\n",
    "    if gr != 0:\n",
    "        print(gr,nsource)\n"
   ]
  },
  {
   "cell_type": "code",
   "execution_count": null,
   "metadata": {},
   "outputs": [],
   "source": [
    "medium1"
   ]
  },
  {
   "cell_type": "code",
   "execution_count": null,
   "metadata": {},
   "outputs": [],
   "source": []
  },
  {
   "cell_type": "code",
   "execution_count": 4,
   "metadata": {},
   "outputs": [
    {
     "name": "stdout",
     "output_type": "stream",
     "text": [
      "File exists, skipping.\n"
     ]
    }
   ],
   "source": [
    "!carve --refseq GCF_014337925.1 --output Roseobacter-litoralis-strain-B14-M9.xml --gapfill M9 --init M9"
   ]
  },
  {
   "cell_type": "code",
   "execution_count": null,
   "metadata": {},
   "outputs": [],
   "source": []
  }
 ],
 "metadata": {
  "kernelspec": {
   "display_name": "python3.6",
   "language": "python",
   "name": "python3.6"
  },
  "language_info": {
   "codemirror_mode": {
    "name": "ipython",
    "version": 3
   },
   "file_extension": ".py",
   "mimetype": "text/x-python",
   "name": "python",
   "nbconvert_exporter": "python",
   "pygments_lexer": "ipython3",
   "version": "3.6.12"
  }
 },
 "nbformat": 4,
 "nbformat_minor": 4
}
