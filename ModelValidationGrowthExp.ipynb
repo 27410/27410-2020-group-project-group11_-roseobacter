{
 "cells": [
  {
   "cell_type": "code",
   "execution_count": 1,
   "metadata": {},
   "outputs": [],
   "source": [
    "import cobra.io\n",
    "model = cobra.io.read_sbml_model('Roseobacter-litoralis-strain-B14.SBML')"
   ]
  },
  {
   "cell_type": "code",
   "execution_count": 2,
   "metadata": {},
   "outputs": [],
   "source": [
    "medium = model.medium"
   ]
  },
  {
   "cell_type": "code",
   "execution_count": 3,
   "metadata": {},
   "outputs": [],
   "source": [
    "mediumlist = list(medium.keys())"
   ]
  },
  {
   "cell_type": "code",
   "execution_count": 4,
   "metadata": {},
   "outputs": [],
   "source": [
    "mediumlist.remove('EX_glc__D_e')"
   ]
  },
  {
   "cell_type": "code",
   "execution_count": 5,
   "metadata": {},
   "outputs": [],
   "source": [
    "for EX in mediumlist:\n",
    "    medium[EX] = 2.5\n",
    "    model.medium = medium"
   ]
  },
  {
   "cell_type": "code",
   "execution_count": 6,
   "metadata": {},
   "outputs": [],
   "source": [
    "mediumwglc = list(medium.keys())"
   ]
  },
  {
   "cell_type": "code",
   "execution_count": 7,
   "metadata": {},
   "outputs": [],
   "source": [
    "csources = list()"
   ]
  },
  {
   "cell_type": "code",
   "execution_count": 8,
   "metadata": {},
   "outputs": [],
   "source": [
    "for reactionname in mediumwglc:\n",
    "    reaction = model.reactions.get_by_id(reactionname)\n",
    "    metabolite = reaction.reactants[0]\n",
    "    comp = metabolite.formula\n",
    "    checkcarbon = 'C' in comp\n",
    "    if checkcarbon == True:\n",
    "        csources.append(reaction.id)"
   ]
  },
  {
   "cell_type": "code",
   "execution_count": 9,
   "metadata": {},
   "outputs": [
    {
     "data": {
      "text/plain": [
       "['EX_glc__D_e',\n",
       " 'EX_leu__L_e',\n",
       " 'EX_ala__L_e',\n",
       " 'EX_cl_e',\n",
       " 'EX_adn_e',\n",
       " 'EX_gly_e',\n",
       " 'EX_thr__L_e',\n",
       " 'EX_arg__L_e',\n",
       " 'EX_lys__L_e',\n",
       " 'EX_asp__L_e',\n",
       " 'EX_pro__L_e',\n",
       " 'EX_ca2_e',\n",
       " 'EX_cobalt2_e',\n",
       " 'EX_cu2_e',\n",
       " 'EX_glu__L_e',\n",
       " 'EX_gsn_e',\n",
       " 'EX_pheme_e',\n",
       " 'EX_his__L_e',\n",
       " 'EX_hxan_e',\n",
       " 'EX_ile__L_e',\n",
       " 'EX_met__L_e',\n",
       " 'EX_uri_e',\n",
       " 'EX_val__L_e',\n",
       " 'EX_thm_e']"
      ]
     },
     "execution_count": 9,
     "metadata": {},
     "output_type": "execute_result"
    }
   ],
   "source": [
    "csources"
   ]
  },
  {
   "cell_type": "code",
   "execution_count": 10,
   "metadata": {},
   "outputs": [],
   "source": [
    "csources.remove('EX_cl_e')\n",
    "csources.remove('EX_ca2_e')\n",
    "csources.remove('EX_cobalt2_e')\n",
    "csources.remove('EX_cu2_e')"
   ]
  },
  {
   "cell_type": "code",
   "execution_count": 11,
   "metadata": {},
   "outputs": [
    {
     "data": {
      "text/plain": [
       "['EX_glc__D_e',\n",
       " 'EX_leu__L_e',\n",
       " 'EX_ala__L_e',\n",
       " 'EX_adn_e',\n",
       " 'EX_gly_e',\n",
       " 'EX_thr__L_e',\n",
       " 'EX_arg__L_e',\n",
       " 'EX_lys__L_e',\n",
       " 'EX_asp__L_e',\n",
       " 'EX_pro__L_e',\n",
       " 'EX_glu__L_e',\n",
       " 'EX_gsn_e',\n",
       " 'EX_pheme_e',\n",
       " 'EX_his__L_e',\n",
       " 'EX_hxan_e',\n",
       " 'EX_ile__L_e',\n",
       " 'EX_met__L_e',\n",
       " 'EX_uri_e',\n",
       " 'EX_val__L_e',\n",
       " 'EX_thm_e']"
      ]
     },
     "execution_count": 11,
     "metadata": {},
     "output_type": "execute_result"
    }
   ],
   "source": [
    "csources"
   ]
  },
  {
   "cell_type": "code",
   "execution_count": 12,
   "metadata": {},
   "outputs": [
    {
     "name": "stdout",
     "output_type": "stream",
     "text": [
      "{'EX_h2o_e': 2.5, 'EX_h_e': 2.5, 'EX_cl_e': 2.5, 'EX_pi_e': 2.5, 'EX_nh4_e': 2.5, 'EX_fe3_e': 2.5, 'EX_aso3_e': 2.5, 'EX_k_e': 2.5, 'EX_ca2_e': 2.5, 'EX_mg2_e': 2.5, 'EX_mn2_e': 2.5, 'EX_cobalt2_e': 2.5, 'EX_zn2_e': 2.5, 'EX_cu2_e': 2.5, 'EX_o2_e': 2.5, 'EX_fe2_e': 2.5, 'EX_h2s_e': 2.5, 'EX_mobd_e': 2.5, 'EX_so4_e': 2.5}\n"
     ]
    }
   ],
   "source": [
    "medium1 = model.medium\n",
    "for Csource in csources:\n",
    "    medium1[Csource]=0\n",
    "model.medium = medium1\n",
    "print(model.medium)"
   ]
  },
  {
   "cell_type": "code",
   "execution_count": 13,
   "metadata": {},
   "outputs": [
    {
     "data": {
      "text/plain": [
       "{'EX_glc__D_e': 0,\n",
       " 'EX_h2o_e': 2.5,\n",
       " 'EX_h_e': 2.5,\n",
       " 'EX_leu__L_e': 0,\n",
       " 'EX_ala__L_e': 0,\n",
       " 'EX_cl_e': 2.5,\n",
       " 'EX_pi_e': 2.5,\n",
       " 'EX_adn_e': 0,\n",
       " 'EX_nh4_e': 2.5,\n",
       " 'EX_gly_e': 0,\n",
       " 'EX_thr__L_e': 0,\n",
       " 'EX_arg__L_e': 0,\n",
       " 'EX_fe3_e': 2.5,\n",
       " 'EX_lys__L_e': 0,\n",
       " 'EX_asp__L_e': 0,\n",
       " 'EX_aso3_e': 2.5,\n",
       " 'EX_k_e': 2.5,\n",
       " 'EX_pro__L_e': 0,\n",
       " 'EX_ca2_e': 2.5,\n",
       " 'EX_mg2_e': 2.5,\n",
       " 'EX_mn2_e': 2.5,\n",
       " 'EX_cobalt2_e': 2.5,\n",
       " 'EX_zn2_e': 2.5,\n",
       " 'EX_cu2_e': 2.5,\n",
       " 'EX_o2_e': 2.5,\n",
       " 'EX_glu__L_e': 0,\n",
       " 'EX_fe2_e': 2.5,\n",
       " 'EX_gsn_e': 0,\n",
       " 'EX_h2s_e': 2.5,\n",
       " 'EX_pheme_e': 0,\n",
       " 'EX_his__L_e': 0,\n",
       " 'EX_hxan_e': 0,\n",
       " 'EX_ile__L_e': 0,\n",
       " 'EX_met__L_e': 0,\n",
       " 'EX_mobd_e': 2.5,\n",
       " 'EX_uri_e': 0,\n",
       " 'EX_so4_e': 2.5,\n",
       " 'EX_val__L_e': 0,\n",
       " 'EX_thm_e': 0}"
      ]
     },
     "execution_count": 13,
     "metadata": {},
     "output_type": "execute_result"
    }
   ],
   "source": [
    "medium1"
   ]
  },
  {
   "cell_type": "code",
   "execution_count": 14,
   "metadata": {},
   "outputs": [],
   "source": [
    "newcsources = ['EX_ala__L_e','EX_arg__L_e','EX_asp__L_e', 'EX_glu__L_e', 'EX_gln__L_e', \n",
    "               'EX_gly_e', 'EX_his__L_e', 'EX_ile__L_e','EX_leu__L_e', 'EX_lys__L_e', 'EX_met__L_e', \n",
    "               'EX_orn_e', 'EX_pro__L_e', 'EX_ser__D_e', 'EX_thr__L_e', 'EX_val__L_e', 'EX_cellb_e', \n",
    "               'EX_arab__D_e', 'EX_arab__L_e', 'EX_fru_e', 'EX_fuc__L_e', 'EX_gal_e', 'EX_gam_e',\n",
    "               'EX_glc__D_e', 'EX_lcts_e', 'EX_lac__D_e', 'EX_lac__L_e', 'EX_malt_e', 'EX_mnl_e', \n",
    "               'EX_man_e', 'EX_melib_e', 'EX_rmn_e', 'EX_rib__D_e','EX_sucr_e', 'EX_sbt__D_e', \n",
    "               'EX_tre_e', 'EX_xyl__D_e', 'EX_chol_e', 'EX_glyb_e', 'EX_ptrc_e', 'EX_taur_e', \n",
    "               'EX_etoh_e', 'EX_glyc_e', 'EX_urea_e']"
   ]
  },
  {
   "cell_type": "markdown",
   "metadata": {},
   "source": [
    "Missing in newsources: asparagine, citrulline, cysteine, phenylalanine, tryptophan, tyrosine, creatine, creatinine, dimethylglycine, sarcosine, glycogen"
   ]
  },
  {
   "cell_type": "code",
   "execution_count": 15,
   "metadata": {},
   "outputs": [
    {
     "name": "stdout",
     "output_type": "stream",
     "text": [
      "EX_ala__L_e 0.0\n",
      "EX_arg__L_e 0.11832027929981208\n",
      "EX_asp__L_e 0.0\n",
      "EX_glu__L_e 0.0\n",
      "EX_gln__L_e 0.0\n",
      "EX_gly_e 0.0\n",
      "EX_his__L_e 0.0\n",
      "EX_ile__L_e 0.0\n",
      "EX_leu__L_e 0.0\n",
      "EX_lys__L_e 0.0\n",
      "EX_met__L_e 0.0\n",
      "EX_orn_e 0.0\n",
      "EX_pro__L_e 0.0\n",
      "EX_ser__D_e 0.0\n",
      "EX_thr__L_e 0.0\n",
      "EX_val__L_e 0.0\n",
      "EX_cellb_e 0.0\n",
      "EX_arab__D_e 0.0\n",
      "EX_arab__L_e 0.0\n",
      "EX_fru_e 0.0\n",
      "EX_fuc__L_e 0.0\n",
      "EX_gal_e 0.0\n",
      "EX_gam_e 0.0\n",
      "EX_glc__D_e 0.0\n",
      "EX_lcts_e 0.0\n",
      "EX_lac__D_e 0.0\n",
      "EX_lac__L_e 0.0\n",
      "EX_malt_e 0.0\n",
      "EX_mnl_e 0.0\n",
      "EX_man_e 0.0\n",
      "EX_melib_e 0.0\n",
      "EX_rmn_e 0.0\n",
      "EX_rib__D_e 0.0\n",
      "EX_sucr_e 0.0\n",
      "EX_sbt__D_e 0.0\n",
      "EX_tre_e 0.0\n",
      "EX_xyl__D_e 0.0\n",
      "EX_chol_e 0.0\n",
      "EX_glyb_e 0.0\n",
      "EX_ptrc_e 0.0\n",
      "EX_taur_e 0.0\n",
      "EX_etoh_e 0.0\n",
      "EX_glyc_e 0.0\n",
      "EX_urea_e 0.0\n"
     ]
    }
   ],
   "source": [
    "for newcsource in newcsources:\n",
    "    model.medium = medium1\n",
    "    medium2 = model.medium\n",
    "    medium2[newcsource]=10\n",
    "    model.medium = medium2\n",
    "    mumax = model.optimize().objective_value\n",
    "    print(newcsource,mumax)"
   ]
  },
  {
   "cell_type": "code",
   "execution_count": null,
   "metadata": {},
   "outputs": [],
   "source": [
    "# Only carbon source it grows on is arginine"
   ]
  },
  {
   "cell_type": "code",
   "execution_count": null,
   "metadata": {},
   "outputs": [],
   "source": []
  },
  {
   "cell_type": "code",
   "execution_count": 16,
   "metadata": {},
   "outputs": [],
   "source": [
    "allex = model.exchanges"
   ]
  },
  {
   "cell_type": "code",
   "execution_count": 18,
   "metadata": {},
   "outputs": [
    {
     "name": "stdout",
     "output_type": "stream",
     "text": [
      "['EX_23camp_e', 'EX_23ccmp_e', 'EX_23cgmp_e', 'EX_23cump_e', 'EX_leu__L_e', 'EX_3amp_e', 'EX_3cmp_e', 'EX_3gmp_e', 'EX_3ump_e', 'EX_ala__L_e', 'EX_LalaDgluMdapDala_e', 'EX_acgam_e', 'EX_chol_e', 'EX_acmana_e', 'EX_adn_e', 'EX_nh4_e', 'EX_ala__D_e', 'EX_gln__L_e', 'EX_gly_e', 'EX_thr__L_e', 'EX_arg__L_e', 'EX_cgly_e', 'EX_anhgm_e', 'EX_lys__L_e', 'EX_orn_e', 'EX_asp__L_e', 'EX_pro__L_e', 'EX_chols_e', 'EX_lipa_cold_e', 'EX_crn_e', 'EX_ctbt_e', 'EX_glu__L_e', 'EX_ser__D_e', 'EX_enlipa_e', 'EX_etha_e', 'EX_enter_e', 'EX_feenter_e', 'EX_frmd_e', 'EX_g3pc_e', 'EX_g3ps_e', 'EX_gam_e', 'EX_glyb_e', 'EX_gm1lipa_e', 'EX_gsn_e', 'EX_gua_e', 'EX_pheme_e', 'EX_his__L_e', 'EX_hxan_e', 'EX_taur_e', 'EX_ile__L_e', 'EX_kdo2lipid4_e', 'EX_Lcyst_e', 'EX_lipa_e', 'EX_met__L_e', 'EX_metox_e', 'EX_metox__R_e', 'EX_n2_e', 'EX_nmn_e', 'EX_no2_e', 'EX_no3_e', 'EX_no_e', 'EX_uri_e', 'EX_progly_e', 'EX_ptrc_e', 'EX_val__L_e', 'EX_spmd_e', 'EX_urea_e', 'EX_salchs4fe_e', 'EX_salchs4_e', 'EX_thm_e', 'EX_tma_e', 'EX_tmao_e', 'EX_xan_e']\n"
     ]
    }
   ],
   "source": [
    "nsources = list()\n",
    "for reaction in allex:\n",
    "    metabolite = reaction.reactants[0]\n",
    "    comp = metabolite.formula\n",
    "    checkcarbon = 'N' in comp\n",
    "    if checkcarbon == True:\n",
    "        nsources.append(reaction.id)\n",
    "print(nsources)"
   ]
  },
  {
   "cell_type": "code",
   "execution_count": 20,
   "metadata": {},
   "outputs": [
    {
     "name": "stdout",
     "output_type": "stream",
     "text": [
      "0.24756662199071044 EX_arg__L_e\n"
     ]
    }
   ],
   "source": [
    "for nsource in nsources:\n",
    "    model.medium=medium1\n",
    "    medium3 = model.medium\n",
    "    medium3['EX_glc__D_e']=10\n",
    "    medium3[nsource] = 10\n",
    "    model.medium = medium3\n",
    "    gr = model.optimize().objective_value\n",
    "    if gr != 0:\n",
    "        print(gr,nsource)\n"
   ]
  },
  {
   "cell_type": "code",
   "execution_count": null,
   "metadata": {},
   "outputs": [],
   "source": [
    "# Only nitrogen source it grows on is arginine"
   ]
  },
  {
   "cell_type": "code",
   "execution_count": null,
   "metadata": {},
   "outputs": [],
   "source": []
  },
  {
   "cell_type": "code",
   "execution_count": null,
   "metadata": {},
   "outputs": [],
   "source": []
  },
  {
   "cell_type": "code",
   "execution_count": null,
   "metadata": {},
   "outputs": [],
   "source": []
  },
  {
   "cell_type": "code",
   "execution_count": null,
   "metadata": {},
   "outputs": [],
   "source": []
  },
  {
   "cell_type": "code",
   "execution_count": null,
   "metadata": {},
   "outputs": [],
   "source": []
  },
  {
   "cell_type": "code",
   "execution_count": 22,
   "metadata": {},
   "outputs": [],
   "source": [
    "#!carve --refseq GCF_014337925.1 --output Roseobacter-litoralis-strain-B14-M9.xml --gapfill M9 --init M9"
   ]
  },
  {
   "cell_type": "code",
   "execution_count": 29,
   "metadata": {},
   "outputs": [],
   "source": [
    "M9model = cobra.io.read_sbml_model('Roseobacter-litoralis-strain-B14-M9.xml')"
   ]
  },
  {
   "cell_type": "code",
   "execution_count": 30,
   "metadata": {},
   "outputs": [
    {
     "data": {
      "text/plain": [
       "{'EX_glc__D_e': 10.0,\n",
       " 'EX_h2o_e': 10.0,\n",
       " 'EX_h_e': 10.0,\n",
       " 'EX_cl_e': 10.0,\n",
       " 'EX_pi_e': 10.0,\n",
       " 'EX_nh4_e': 10.0,\n",
       " 'EX_fe3_e': 10.0,\n",
       " 'EX_k_e': 10.0,\n",
       " 'EX_ca2_e': 10.0,\n",
       " 'EX_mg2_e': 10.0,\n",
       " 'EX_mn2_e': 10.0,\n",
       " 'EX_cobalt2_e': 10.0,\n",
       " 'EX_zn2_e': 10.0,\n",
       " 'EX_cu2_e': 10.0,\n",
       " 'EX_o2_e': 10.0,\n",
       " 'EX_fe2_e': 10.0,\n",
       " 'EX_mobd_e': 10.0,\n",
       " 'EX_so4_e': 10.0}"
      ]
     },
     "execution_count": 30,
     "metadata": {},
     "output_type": "execute_result"
    }
   ],
   "source": [
    "M9model.medium"
   ]
  },
  {
   "cell_type": "code",
   "execution_count": 31,
   "metadata": {},
   "outputs": [
    {
     "data": {
      "text/plain": [
       "0.7497699143341323"
      ]
     },
     "execution_count": 31,
     "metadata": {},
     "output_type": "execute_result"
    }
   ],
   "source": [
    "M9model.optimize().objective_value"
   ]
  },
  {
   "cell_type": "code",
   "execution_count": 35,
   "metadata": {},
   "outputs": [],
   "source": [
    "medium = M9model.medium"
   ]
  },
  {
   "cell_type": "code",
   "execution_count": 37,
   "metadata": {},
   "outputs": [],
   "source": [
    "medium['EX_glc__D_e'] = 0"
   ]
  },
  {
   "cell_type": "code",
   "execution_count": 38,
   "metadata": {},
   "outputs": [],
   "source": [
    "M9model.medium = medium"
   ]
  },
  {
   "cell_type": "code",
   "execution_count": null,
   "metadata": {},
   "outputs": [],
   "source": []
  },
  {
   "cell_type": "code",
   "execution_count": 39,
   "metadata": {},
   "outputs": [
    {
     "name": "stdout",
     "output_type": "stream",
     "text": [
      "EX_ala__L_e 0.4494832551535991\n",
      "EX_arg__L_e 0.4748971194678391\n",
      "EX_asp__L_e 0.43187217526391863\n",
      "EX_glu__L_e 0.5187063662783462\n",
      "EX_gln__L_e 0.4633848110568564\n",
      "EX_gly_e 0.23844334865619074\n",
      "EX_his__L_e 0.4257014845738559\n",
      "EX_ile__L_e 0.0\n",
      "EX_leu__L_e 0.0\n",
      "EX_lys__L_e 0.2659875022621847\n",
      "EX_met__L_e 0.0\n",
      "EX_orn_e 0.44296342546984935\n",
      "EX_pro__L_e 0.41557470473203056\n",
      "EX_ser__D_e 0.3816354404730937\n",
      "EX_thr__L_e 0.4489920546608875\n",
      "EX_val__L_e 0.0\n",
      "EX_cellb_e 0.9221861906768898\n",
      "EX_arab__D_e 0.0\n",
      "EX_arab__L_e 0.5871692100207171\n",
      "EX_fru_e 0.7497699143341464\n",
      "EX_fuc__L_e 0.5858165644544562\n",
      "EX_gal_e 0.6293249481760559\n",
      "EX_gam_e 0.0\n",
      "EX_glc__D_e 0.74976991433414\n",
      "EX_lcts_e 0.8756721081282155\n",
      "EX_lac__D_e 0.44948325515359944\n",
      "EX_lac__L_e 0.38617615157895363\n",
      "EX_malt_e 0.9221861906768772\n",
      "EX_mnl_e 0.7548897483863997\n",
      "EX_man_e 0.6293249481760531\n",
      "EX_melib_e 0.8756721081281851\n",
      "EX_rmn_e 0.5033041219819191\n",
      "EX_rib__D_e 0.5871692100207155\n",
      "EX_sucr_e 0.9221861906768991\n",
      "EX_sbt__D_e 0.7548897483864028\n",
      "EX_tre_e 0.9221861906768606\n",
      "EX_xyl__D_e 0.5871692100207364\n",
      "EX_chol_e 0.0\n",
      "EX_glyb_e 0.0\n",
      "EX_ptrc_e 0.408777192468002\n",
      "EX_taur_e 0.0\n",
      "EX_etoh_e 0.36385634689076546\n",
      "EX_glyc_e 0.5897603041303843\n"
     ]
    },
    {
     "ename": "KeyError",
     "evalue": "'EX_urea_e'",
     "output_type": "error",
     "traceback": [
      "\u001b[0;31m---------------------------------------------------------------------------\u001b[0m",
      "\u001b[0;31mKeyError\u001b[0m                                  Traceback (most recent call last)",
      "\u001b[0;32m<ipython-input-39-27bf88744c06>\u001b[0m in \u001b[0;36m<module>\u001b[0;34m\u001b[0m\n\u001b[1;32m      3\u001b[0m     \u001b[0mmedium1\u001b[0m \u001b[0;34m=\u001b[0m \u001b[0mM9model\u001b[0m\u001b[0;34m.\u001b[0m\u001b[0mmedium\u001b[0m\u001b[0;34m\u001b[0m\u001b[0;34m\u001b[0m\u001b[0m\n\u001b[1;32m      4\u001b[0m     \u001b[0mmedium1\u001b[0m\u001b[0;34m[\u001b[0m\u001b[0mnewcsource\u001b[0m\u001b[0;34m]\u001b[0m\u001b[0;34m=\u001b[0m\u001b[0;36m10\u001b[0m\u001b[0;34m\u001b[0m\u001b[0;34m\u001b[0m\u001b[0m\n\u001b[0;32m----> 5\u001b[0;31m     \u001b[0mM9model\u001b[0m\u001b[0;34m.\u001b[0m\u001b[0mmedium\u001b[0m \u001b[0;34m=\u001b[0m \u001b[0mmedium1\u001b[0m\u001b[0;34m\u001b[0m\u001b[0;34m\u001b[0m\u001b[0m\n\u001b[0m\u001b[1;32m      6\u001b[0m     \u001b[0mmumax\u001b[0m \u001b[0;34m=\u001b[0m \u001b[0mM9model\u001b[0m\u001b[0;34m.\u001b[0m\u001b[0moptimize\u001b[0m\u001b[0;34m(\u001b[0m\u001b[0;34m)\u001b[0m\u001b[0;34m.\u001b[0m\u001b[0mobjective_value\u001b[0m\u001b[0;34m\u001b[0m\u001b[0;34m\u001b[0m\u001b[0m\n\u001b[1;32m      7\u001b[0m     \u001b[0mprint\u001b[0m\u001b[0;34m(\u001b[0m\u001b[0mnewcsource\u001b[0m\u001b[0;34m,\u001b[0m\u001b[0mmumax\u001b[0m\u001b[0;34m)\u001b[0m\u001b[0;34m\u001b[0m\u001b[0;34m\u001b[0m\u001b[0m\n",
      "\u001b[0;32m/usr/local/lib/python3.6/dist-packages/cobra/core/model.py\u001b[0m in \u001b[0;36mmedium\u001b[0;34m(self, medium)\u001b[0m\n\u001b[1;32m    283\u001b[0m         \u001b[0mexchange_rxns\u001b[0m \u001b[0;34m=\u001b[0m \u001b[0mfrozenset\u001b[0m\u001b[0;34m(\u001b[0m\u001b[0mself\u001b[0m\u001b[0;34m.\u001b[0m\u001b[0mexchanges\u001b[0m\u001b[0;34m)\u001b[0m\u001b[0;34m\u001b[0m\u001b[0;34m\u001b[0m\u001b[0m\n\u001b[1;32m    284\u001b[0m         \u001b[0;32mfor\u001b[0m \u001b[0mrxn_id\u001b[0m\u001b[0;34m,\u001b[0m \u001b[0mbound\u001b[0m \u001b[0;32min\u001b[0m \u001b[0miteritems\u001b[0m\u001b[0;34m(\u001b[0m\u001b[0mmedium\u001b[0m\u001b[0;34m)\u001b[0m\u001b[0;34m:\u001b[0m\u001b[0;34m\u001b[0m\u001b[0;34m\u001b[0m\u001b[0m\n\u001b[0;32m--> 285\u001b[0;31m             \u001b[0mrxn\u001b[0m \u001b[0;34m=\u001b[0m \u001b[0mself\u001b[0m\u001b[0;34m.\u001b[0m\u001b[0mreactions\u001b[0m\u001b[0;34m.\u001b[0m\u001b[0mget_by_id\u001b[0m\u001b[0;34m(\u001b[0m\u001b[0mrxn_id\u001b[0m\u001b[0;34m)\u001b[0m\u001b[0;34m\u001b[0m\u001b[0;34m\u001b[0m\u001b[0m\n\u001b[0m\u001b[1;32m    286\u001b[0m             \u001b[0;32mif\u001b[0m \u001b[0mrxn\u001b[0m \u001b[0;32mnot\u001b[0m \u001b[0;32min\u001b[0m \u001b[0mexchange_rxns\u001b[0m\u001b[0;34m:\u001b[0m\u001b[0;34m\u001b[0m\u001b[0;34m\u001b[0m\u001b[0m\n\u001b[1;32m    287\u001b[0m                 logger.warn(\"%s does not seem to be an\"\n",
      "\u001b[0;32m/usr/local/lib/python3.6/dist-packages/cobra/core/dictlist.py\u001b[0m in \u001b[0;36mget_by_id\u001b[0;34m(self, id)\u001b[0m\n\u001b[1;32m     56\u001b[0m     \u001b[0;32mdef\u001b[0m \u001b[0mget_by_id\u001b[0m\u001b[0;34m(\u001b[0m\u001b[0mself\u001b[0m\u001b[0;34m,\u001b[0m \u001b[0mid\u001b[0m\u001b[0;34m)\u001b[0m\u001b[0;34m:\u001b[0m\u001b[0;34m\u001b[0m\u001b[0;34m\u001b[0m\u001b[0m\n\u001b[1;32m     57\u001b[0m         \u001b[0;34m\"\"\"return the element with a matching id\"\"\"\u001b[0m\u001b[0;34m\u001b[0m\u001b[0;34m\u001b[0m\u001b[0m\n\u001b[0;32m---> 58\u001b[0;31m         \u001b[0;32mreturn\u001b[0m \u001b[0mlist\u001b[0m\u001b[0;34m.\u001b[0m\u001b[0m__getitem__\u001b[0m\u001b[0;34m(\u001b[0m\u001b[0mself\u001b[0m\u001b[0;34m,\u001b[0m \u001b[0mself\u001b[0m\u001b[0;34m.\u001b[0m\u001b[0m_dict\u001b[0m\u001b[0;34m[\u001b[0m\u001b[0mid\u001b[0m\u001b[0;34m]\u001b[0m\u001b[0;34m)\u001b[0m\u001b[0;34m\u001b[0m\u001b[0;34m\u001b[0m\u001b[0m\n\u001b[0m\u001b[1;32m     59\u001b[0m \u001b[0;34m\u001b[0m\u001b[0m\n\u001b[1;32m     60\u001b[0m     \u001b[0;32mdef\u001b[0m \u001b[0mlist_attr\u001b[0m\u001b[0;34m(\u001b[0m\u001b[0mself\u001b[0m\u001b[0;34m,\u001b[0m \u001b[0mattribute\u001b[0m\u001b[0;34m)\u001b[0m\u001b[0;34m:\u001b[0m\u001b[0;34m\u001b[0m\u001b[0;34m\u001b[0m\u001b[0m\n",
      "\u001b[0;31mKeyError\u001b[0m: 'EX_urea_e'"
     ]
    }
   ],
   "source": [
    "for newcsource in newcsources:\n",
    "    M9model.medium = medium\n",
    "    medium1 = M9model.medium\n",
    "    medium1[newcsource]=10\n",
    "    M9model.medium = medium1\n",
    "    mumax = M9model.optimize().objective_value\n",
    "    print(newcsource,mumax)"
   ]
  },
  {
   "cell_type": "code",
   "execution_count": 40,
   "metadata": {},
   "outputs": [
    {
     "data": {
      "text/plain": [
       "[<Metabolite urea_c at 0x7fb1ce2ff358>, <Metabolite urea_p at 0x7fb1cd8c2da0>]"
      ]
     },
     "execution_count": 40,
     "metadata": {},
     "output_type": "execute_result"
    }
   ],
   "source": [
    "M9model.metabolites.query('Urea','name')"
   ]
  },
  {
   "cell_type": "code",
   "execution_count": null,
   "metadata": {},
   "outputs": [],
   "source": []
  }
 ],
 "metadata": {
  "kernelspec": {
   "display_name": "python3.6",
   "language": "python",
   "name": "python3.6"
  },
  "language_info": {
   "codemirror_mode": {
    "name": "ipython",
    "version": 3
   },
   "file_extension": ".py",
   "mimetype": "text/x-python",
   "name": "python",
   "nbconvert_exporter": "python",
   "pygments_lexer": "ipython3",
   "version": "3.6.12"
  }
 },
 "nbformat": 4,
 "nbformat_minor": 4
}
