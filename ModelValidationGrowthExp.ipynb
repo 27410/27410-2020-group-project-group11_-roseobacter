{
 "cells": [
  {
   "cell_type": "code",
   "execution_count": 1,
   "metadata": {},
   "outputs": [],
   "source": [
    "import cobra.io\n",
    "import pandas as pd\n",
    "import math"
   ]
  },
  {
   "cell_type": "code",
   "execution_count": 2,
   "metadata": {},
   "outputs": [],
   "source": [
    "# Load model\n",
    "model = cobra.io.read_sbml_model('Roseobacter-litoralis-strain-B14.SBML')"
   ]
  },
  {
   "cell_type": "code",
   "execution_count": 3,
   "metadata": {},
   "outputs": [],
   "source": [
    "# List of all exchange reactions in the medium except glucose\n",
    "medium = model.medium\n",
    "mediumwoglc = list(medium.keys())\n",
    "mediumwoglc.remove('EX_glc__D_e')"
   ]
  },
  {
   "cell_type": "code",
   "execution_count": 4,
   "metadata": {},
   "outputs": [],
   "source": [
    "# Initializing medium to what was found in the medium optimization file\n",
    "for EX in mediumwoglc:\n",
    "    medium[EX] = 2.5\n",
    "    model.medium = medium"
   ]
  },
  {
   "cell_type": "code",
   "execution_count": 5,
   "metadata": {},
   "outputs": [],
   "source": [
    "# List of medium with glucose\n",
    "mediumwglc = list(medium.keys())"
   ]
  },
  {
   "cell_type": "code",
   "execution_count": 6,
   "metadata": {},
   "outputs": [],
   "source": [
    "# Empty list to use in loop\n",
    "csources = list()"
   ]
  },
  {
   "cell_type": "code",
   "execution_count": 7,
   "metadata": {},
   "outputs": [],
   "source": [
    "# This loop finds all carbon source exchange reactions in the medium, and puts them \n",
    "# in the csources list\n",
    "for reactionname in mediumwglc:\n",
    "    reaction = model.reactions.get_by_id(reactionname)\n",
    "    metabolite = reaction.reactants[0]\n",
    "    comp = metabolite.formula\n",
    "    checkcarbon = 'C' in comp\n",
    "    if checkcarbon == True:\n",
    "        csources.append(reaction.id)"
   ]
  },
  {
   "cell_type": "code",
   "execution_count": 8,
   "metadata": {},
   "outputs": [],
   "source": [
    "# Some ions was wrongly identified in the loop, as they contain the letter 'C' in \n",
    "# their composition, but does not cotain carbon. They are removed from the list.\n",
    "csources.remove('EX_cl_e')\n",
    "csources.remove('EX_ca2_e')\n",
    "csources.remove('EX_cobalt2_e')\n",
    "csources.remove('EX_cu2_e')"
   ]
  },
  {
   "cell_type": "code",
   "execution_count": 9,
   "metadata": {},
   "outputs": [],
   "source": [
    "# This loop removes all the carbon sources from the medium\n",
    "medium1 = model.medium\n",
    "for Csource in csources:\n",
    "    medium1[Csource]=0\n",
    "model.medium = medium1"
   ]
  },
  {
   "cell_type": "code",
   "execution_count": 10,
   "metadata": {},
   "outputs": [],
   "source": [
    "# The carbon sources tested in the experiments are found by: \n",
    "# model.metabolites.query('Alanine','Name')    <- Ex for alanine\n",
    "# The metabolites with the ending _e, contains the exchange reaction id under the \n",
    "# reactions they participate in."
   ]
  },
  {
   "cell_type": "code",
   "execution_count": 11,
   "metadata": {},
   "outputs": [],
   "source": [
    "# List of all the tested carbon sources. The model did not contain exchange reactions \n",
    "# for asparagine, citrulline, cysteine, phenylalanine tryptophan, tyrosine, creatine,\n",
    "# creatinine, dimethylglycine, sacrosine and glycogen. This represent a shortcoming \n",
    "# of the model since some of the carbon sources should be able to promote growth of\n",
    "# Rosebacter. Although, in the further analysis, this will be ignored.\n",
    "newcsources = ['EX_ala__L_e','EX_arg__L_e','EX_asp__L_e', 'EX_glu__L_e', 'EX_gln__L_e', \n",
    "               'EX_gly_e', 'EX_his__L_e', 'EX_ile__L_e','EX_leu__L_e', 'EX_lys__L_e', 'EX_met__L_e', \n",
    "               'EX_orn_e', 'EX_pro__L_e', 'EX_ser__D_e', 'EX_thr__L_e', 'EX_val__L_e', 'EX_cellb_e', \n",
    "               'EX_arab__D_e', 'EX_arab__L_e', 'EX_fru_e', 'EX_fuc__L_e', 'EX_gal_e', 'EX_gam_e',\n",
    "               'EX_glc__D_e', 'EX_lcts_e', 'EX_lac__D_e', 'EX_lac__L_e', 'EX_malt_e', 'EX_mnl_e', \n",
    "               'EX_man_e', 'EX_melib_e', 'EX_rmn_e', 'EX_rib__D_e','EX_sucr_e', 'EX_sbt__D_e', \n",
    "               'EX_tre_e', 'EX_xyl__D_e', 'EX_chol_e', 'EX_glyb_e', 'EX_ptrc_e', 'EX_taur_e', \n",
    "               'EX_etoh_e', 'EX_glyc_e', 'EX_urea_e']"
   ]
  },
  {
   "cell_type": "markdown",
   "metadata": {},
   "source": [
    "Missing in newsources: asparagine, citrulline, cysteine, phenylalanine, tryptophan, tyrosine, creatine, creatinine, dimethylglycine, sarcosine, glycogen"
   ]
  },
  {
   "cell_type": "code",
   "execution_count": 12,
   "metadata": {},
   "outputs": [
    {
     "name": "stdout",
     "output_type": "stream",
     "text": [
      "EX_arg__L_e 0.11832027929981208\n"
     ]
    }
   ],
   "source": [
    "# This loop introduces the tested carbon sources one at a time and checks for growth\n",
    "# If the tested carbon source results in growth, meaning that the growth rate is a \n",
    "# non-zero value, a printed output is produced consisting of the tested carbon source\n",
    "# and the growth rate obtained when using that carbon source.\n",
    "for newcsource in newcsources:\n",
    "    model.medium = medium1\n",
    "    medium2 = model.medium\n",
    "    medium2[newcsource]=10\n",
    "    model.medium = medium2\n",
    "    mumax = model.optimize().objective_value\n",
    "    if mumax != 0.0:\n",
    "        print(newcsource,mumax)"
   ]
  },
  {
   "cell_type": "code",
   "execution_count": 13,
   "metadata": {},
   "outputs": [],
   "source": [
    "# It is seen that there are only growth on Arginine. The most likely explanation\n",
    "# for this is that there are not a appropriate nitrogen source present. The reason\n",
    "# why growth on arginie is possible, is because aginine itself contains nitrogen,\n",
    "# and can therefore act as the nitrogen source."
   ]
  },
  {
   "cell_type": "code",
   "execution_count": 14,
   "metadata": {},
   "outputs": [],
   "source": [
    "# To find out if any other nitogen sources can be added in the test for growth on\n",
    "# the carbon sources, a list of all the nitrogensources in the model is produced."
   ]
  },
  {
   "cell_type": "code",
   "execution_count": 15,
   "metadata": {},
   "outputs": [],
   "source": [
    "# This loop finds all of the nitrogen sources in the model, and puts them in the\n",
    "# list nsources.\n",
    "allex = model.exchanges\n",
    "nsources = list()\n",
    "for reaction in allex:\n",
    "    metabolite = reaction.reactants[0]\n",
    "    comp = metabolite.formula\n",
    "    checkcarbon = 'N' in comp\n",
    "    if checkcarbon == True:\n",
    "        nsources.append(reaction.id)"
   ]
  },
  {
   "cell_type": "code",
   "execution_count": 16,
   "metadata": {},
   "outputs": [
    {
     "name": "stdout",
     "output_type": "stream",
     "text": [
      "0.24756662199071044 EX_arg__L_e\n"
     ]
    }
   ],
   "source": [
    "# This loop tests each nitrogen source for growth with glucose as the carbon source\n",
    "# If a nitrogen source results in a non-zero growth rate, the name of the nitrogen-\n",
    "# soruce exchange reaction is printed with the growth rate.\n",
    "for nsource in nsources:\n",
    "    model.medium=medium1\n",
    "    medium3 = model.medium\n",
    "    medium3['EX_glc__D_e']=10\n",
    "    medium3[nsource] = 10\n",
    "    model.medium = medium3\n",
    "    gr = model.optimize().objective_value\n",
    "    if gr != 0:\n",
    "        print(gr,nsource)"
   ]
  },
  {
   "cell_type": "code",
   "execution_count": 17,
   "metadata": {},
   "outputs": [],
   "source": [
    "# It is seen that the only nitrogen source that results in growth is arginine,\n",
    "# so this does not result in any nitrogen source that can be applied to the\n",
    "# test for growth on carbon sources"
   ]
  },
  {
   "cell_type": "code",
   "execution_count": 18,
   "metadata": {},
   "outputs": [],
   "source": [
    "# A new carveme is now used to produce a model of rosebacter litoralis on M9\n",
    "# medium. This will create reactions to make growth on other nitrogen sources\n",
    "# feasiable."
   ]
  },
  {
   "cell_type": "code",
   "execution_count": 19,
   "metadata": {},
   "outputs": [],
   "source": [
    "# The code producing the carveme was: \n",
    "#!carve --refseq GCF_014337925.1 --output Roseobacter-litoralis-strain-B14-M9.xml --gapfill M9 --init M9"
   ]
  },
  {
   "cell_type": "code",
   "execution_count": 20,
   "metadata": {},
   "outputs": [],
   "source": [
    "# The model with M9 medium is loaded\n",
    "M9model = cobra.io.read_sbml_model('Roseobacter-litoralis-strain-B14-M9.xml')"
   ]
  },
  {
   "cell_type": "code",
   "execution_count": 21,
   "metadata": {},
   "outputs": [
    {
     "data": {
      "text/plain": [
       "{'EX_glc__D_e': 10.0,\n",
       " 'EX_h2o_e': 10.0,\n",
       " 'EX_h_e': 10.0,\n",
       " 'EX_cl_e': 10.0,\n",
       " 'EX_pi_e': 10.0,\n",
       " 'EX_nh4_e': 10.0,\n",
       " 'EX_fe3_e': 10.0,\n",
       " 'EX_k_e': 10.0,\n",
       " 'EX_ca2_e': 10.0,\n",
       " 'EX_mg2_e': 10.0,\n",
       " 'EX_mn2_e': 10.0,\n",
       " 'EX_cobalt2_e': 10.0,\n",
       " 'EX_zn2_e': 10.0,\n",
       " 'EX_cu2_e': 10.0,\n",
       " 'EX_o2_e': 10.0,\n",
       " 'EX_fe2_e': 10.0,\n",
       " 'EX_mobd_e': 10.0,\n",
       " 'EX_so4_e': 10.0}"
      ]
     },
     "execution_count": 21,
     "metadata": {},
     "output_type": "execute_result"
    }
   ],
   "source": [
    "# The M9 medium composition\n",
    "M9model.medium"
   ]
  },
  {
   "cell_type": "code",
   "execution_count": 22,
   "metadata": {},
   "outputs": [],
   "source": [
    "# We now have a minimal medium where the only nitrogen source that is present\n",
    "# is NH4. In this way, we can now test each carbon source without adding any\n",
    "# other nitrogen source that also contains carbon (which then could also act\n",
    "# as a carbon source, and therefore would result in growth no matter what\n",
    "# carbon source is tested)"
   ]
  },
  {
   "cell_type": "code",
   "execution_count": 23,
   "metadata": {},
   "outputs": [
    {
     "data": {
      "text/plain": [
       "0.7497699143341323"
      ]
     },
     "execution_count": 23,
     "metadata": {},
     "output_type": "execute_result"
    }
   ],
   "source": [
    "# The growth rate in the M9 medium\n",
    "M9model.optimize().objective_value"
   ]
  },
  {
   "cell_type": "code",
   "execution_count": 24,
   "metadata": {},
   "outputs": [],
   "source": [
    "# Glucose is removed from the medium to be able to determine growth the tested\n",
    "# carbon sources. \n",
    "medium = M9model.medium\n",
    "medium['EX_glc__D_e'] = 0\n",
    "M9model.medium = medium"
   ]
  },
  {
   "cell_type": "code",
   "execution_count": 25,
   "metadata": {},
   "outputs": [],
   "source": [
    "# It is now again checked if all of the exchange reactions for the tested carbon\n",
    "# sources is in the M9 model, and it is seen that all of those that were not\n",
    "# present in the model before, is still not present. Furthermore, it was also\n",
    "# found that the exchange reaction for urea was not present in this model either."
   ]
  },
  {
   "cell_type": "code",
   "execution_count": 26,
   "metadata": {},
   "outputs": [],
   "source": [
    "# Urea is removed from the list of carbon sources to be tested.\n",
    "newcsources.remove('EX_urea_e')"
   ]
  },
  {
   "cell_type": "markdown",
   "metadata": {},
   "source": [
    "Missing in newsources: asparagine, citrulline, cysteine, phenylalanine, tryptophan, tyrosine, creatine, creatinine, dimethylglycine, sarcosine, glycogen, urea"
   ]
  },
  {
   "cell_type": "code",
   "execution_count": 27,
   "metadata": {},
   "outputs": [],
   "source": [
    "# This loop introduces the tested carbon sources one at a time and checks for growth\n",
    "# If the tested carbon source results in growth, meaning that the growth rate is a \n",
    "# non-zero value, the interger 1 is put into the growthmodel list. If the tested\n",
    "# carbon source does not lead to growth, the interger 0 is instead added to the\n",
    "# growthmodel list.\n",
    "growthmodel = list()\n",
    "for newcsource in newcsources:\n",
    "    M9model.medium = medium\n",
    "    medium1 = M9model.medium\n",
    "    medium1[newcsource]=10\n",
    "    M9model.medium = medium1\n",
    "    mumax = M9model.optimize().objective_value\n",
    "    if mumax != 0.0:\n",
    "        growthmodel.append(1)\n",
    "    else:\n",
    "        growthmodel.append(0)"
   ]
  },
  {
   "cell_type": "code",
   "execution_count": 28,
   "metadata": {},
   "outputs": [
    {
     "data": {
      "text/html": [
       "<div>\n",
       "<style scoped>\n",
       "    .dataframe tbody tr th:only-of-type {\n",
       "        vertical-align: middle;\n",
       "    }\n",
       "\n",
       "    .dataframe tbody tr th {\n",
       "        vertical-align: top;\n",
       "    }\n",
       "\n",
       "    .dataframe thead th {\n",
       "        text-align: right;\n",
       "    }\n",
       "</style>\n",
       "<table border=\"1\" class=\"dataframe\">\n",
       "  <thead>\n",
       "    <tr style=\"text-align: right;\">\n",
       "      <th></th>\n",
       "      <th>Carbon source</th>\n",
       "      <th>Growth</th>\n",
       "    </tr>\n",
       "  </thead>\n",
       "  <tbody>\n",
       "    <tr>\n",
       "      <th>0</th>\n",
       "      <td>EX_ala__L_e</td>\n",
       "      <td>1</td>\n",
       "    </tr>\n",
       "    <tr>\n",
       "      <th>1</th>\n",
       "      <td>EX_arg__L_e</td>\n",
       "      <td>1</td>\n",
       "    </tr>\n",
       "    <tr>\n",
       "      <th>2</th>\n",
       "      <td>EX_asp__L_e</td>\n",
       "      <td>1</td>\n",
       "    </tr>\n",
       "    <tr>\n",
       "      <th>3</th>\n",
       "      <td>EX_glu__L_e</td>\n",
       "      <td>1</td>\n",
       "    </tr>\n",
       "    <tr>\n",
       "      <th>4</th>\n",
       "      <td>EX_gln__L_e</td>\n",
       "      <td>1</td>\n",
       "    </tr>\n",
       "    <tr>\n",
       "      <th>5</th>\n",
       "      <td>EX_gly_e</td>\n",
       "      <td>1</td>\n",
       "    </tr>\n",
       "    <tr>\n",
       "      <th>6</th>\n",
       "      <td>EX_his__L_e</td>\n",
       "      <td>1</td>\n",
       "    </tr>\n",
       "    <tr>\n",
       "      <th>7</th>\n",
       "      <td>EX_ile__L_e</td>\n",
       "      <td>0</td>\n",
       "    </tr>\n",
       "    <tr>\n",
       "      <th>8</th>\n",
       "      <td>EX_leu__L_e</td>\n",
       "      <td>0</td>\n",
       "    </tr>\n",
       "    <tr>\n",
       "      <th>9</th>\n",
       "      <td>EX_lys__L_e</td>\n",
       "      <td>1</td>\n",
       "    </tr>\n",
       "    <tr>\n",
       "      <th>10</th>\n",
       "      <td>EX_met__L_e</td>\n",
       "      <td>0</td>\n",
       "    </tr>\n",
       "    <tr>\n",
       "      <th>11</th>\n",
       "      <td>EX_orn_e</td>\n",
       "      <td>1</td>\n",
       "    </tr>\n",
       "    <tr>\n",
       "      <th>12</th>\n",
       "      <td>EX_pro__L_e</td>\n",
       "      <td>1</td>\n",
       "    </tr>\n",
       "    <tr>\n",
       "      <th>13</th>\n",
       "      <td>EX_ser__D_e</td>\n",
       "      <td>1</td>\n",
       "    </tr>\n",
       "    <tr>\n",
       "      <th>14</th>\n",
       "      <td>EX_thr__L_e</td>\n",
       "      <td>1</td>\n",
       "    </tr>\n",
       "    <tr>\n",
       "      <th>15</th>\n",
       "      <td>EX_val__L_e</td>\n",
       "      <td>0</td>\n",
       "    </tr>\n",
       "    <tr>\n",
       "      <th>16</th>\n",
       "      <td>EX_cellb_e</td>\n",
       "      <td>1</td>\n",
       "    </tr>\n",
       "    <tr>\n",
       "      <th>17</th>\n",
       "      <td>EX_arab__D_e</td>\n",
       "      <td>0</td>\n",
       "    </tr>\n",
       "    <tr>\n",
       "      <th>18</th>\n",
       "      <td>EX_arab__L_e</td>\n",
       "      <td>1</td>\n",
       "    </tr>\n",
       "    <tr>\n",
       "      <th>19</th>\n",
       "      <td>EX_fru_e</td>\n",
       "      <td>1</td>\n",
       "    </tr>\n",
       "    <tr>\n",
       "      <th>20</th>\n",
       "      <td>EX_fuc__L_e</td>\n",
       "      <td>1</td>\n",
       "    </tr>\n",
       "    <tr>\n",
       "      <th>21</th>\n",
       "      <td>EX_gal_e</td>\n",
       "      <td>1</td>\n",
       "    </tr>\n",
       "    <tr>\n",
       "      <th>22</th>\n",
       "      <td>EX_gam_e</td>\n",
       "      <td>0</td>\n",
       "    </tr>\n",
       "    <tr>\n",
       "      <th>23</th>\n",
       "      <td>EX_glc__D_e</td>\n",
       "      <td>1</td>\n",
       "    </tr>\n",
       "    <tr>\n",
       "      <th>24</th>\n",
       "      <td>EX_lcts_e</td>\n",
       "      <td>1</td>\n",
       "    </tr>\n",
       "    <tr>\n",
       "      <th>25</th>\n",
       "      <td>EX_lac__D_e</td>\n",
       "      <td>1</td>\n",
       "    </tr>\n",
       "    <tr>\n",
       "      <th>26</th>\n",
       "      <td>EX_lac__L_e</td>\n",
       "      <td>1</td>\n",
       "    </tr>\n",
       "    <tr>\n",
       "      <th>27</th>\n",
       "      <td>EX_malt_e</td>\n",
       "      <td>1</td>\n",
       "    </tr>\n",
       "    <tr>\n",
       "      <th>28</th>\n",
       "      <td>EX_mnl_e</td>\n",
       "      <td>1</td>\n",
       "    </tr>\n",
       "    <tr>\n",
       "      <th>29</th>\n",
       "      <td>EX_man_e</td>\n",
       "      <td>1</td>\n",
       "    </tr>\n",
       "    <tr>\n",
       "      <th>30</th>\n",
       "      <td>EX_melib_e</td>\n",
       "      <td>1</td>\n",
       "    </tr>\n",
       "    <tr>\n",
       "      <th>31</th>\n",
       "      <td>EX_rmn_e</td>\n",
       "      <td>1</td>\n",
       "    </tr>\n",
       "    <tr>\n",
       "      <th>32</th>\n",
       "      <td>EX_rib__D_e</td>\n",
       "      <td>1</td>\n",
       "    </tr>\n",
       "    <tr>\n",
       "      <th>33</th>\n",
       "      <td>EX_sucr_e</td>\n",
       "      <td>1</td>\n",
       "    </tr>\n",
       "    <tr>\n",
       "      <th>34</th>\n",
       "      <td>EX_sbt__D_e</td>\n",
       "      <td>1</td>\n",
       "    </tr>\n",
       "    <tr>\n",
       "      <th>35</th>\n",
       "      <td>EX_tre_e</td>\n",
       "      <td>1</td>\n",
       "    </tr>\n",
       "    <tr>\n",
       "      <th>36</th>\n",
       "      <td>EX_xyl__D_e</td>\n",
       "      <td>1</td>\n",
       "    </tr>\n",
       "    <tr>\n",
       "      <th>37</th>\n",
       "      <td>EX_chol_e</td>\n",
       "      <td>0</td>\n",
       "    </tr>\n",
       "    <tr>\n",
       "      <th>38</th>\n",
       "      <td>EX_glyb_e</td>\n",
       "      <td>0</td>\n",
       "    </tr>\n",
       "    <tr>\n",
       "      <th>39</th>\n",
       "      <td>EX_ptrc_e</td>\n",
       "      <td>1</td>\n",
       "    </tr>\n",
       "    <tr>\n",
       "      <th>40</th>\n",
       "      <td>EX_taur_e</td>\n",
       "      <td>0</td>\n",
       "    </tr>\n",
       "    <tr>\n",
       "      <th>41</th>\n",
       "      <td>EX_etoh_e</td>\n",
       "      <td>1</td>\n",
       "    </tr>\n",
       "    <tr>\n",
       "      <th>42</th>\n",
       "      <td>EX_glyc_e</td>\n",
       "      <td>1</td>\n",
       "    </tr>\n",
       "  </tbody>\n",
       "</table>\n",
       "</div>"
      ],
      "text/plain": [
       "   Carbon source  Growth\n",
       "0    EX_ala__L_e       1\n",
       "1    EX_arg__L_e       1\n",
       "2    EX_asp__L_e       1\n",
       "3    EX_glu__L_e       1\n",
       "4    EX_gln__L_e       1\n",
       "5       EX_gly_e       1\n",
       "6    EX_his__L_e       1\n",
       "7    EX_ile__L_e       0\n",
       "8    EX_leu__L_e       0\n",
       "9    EX_lys__L_e       1\n",
       "10   EX_met__L_e       0\n",
       "11      EX_orn_e       1\n",
       "12   EX_pro__L_e       1\n",
       "13   EX_ser__D_e       1\n",
       "14   EX_thr__L_e       1\n",
       "15   EX_val__L_e       0\n",
       "16    EX_cellb_e       1\n",
       "17  EX_arab__D_e       0\n",
       "18  EX_arab__L_e       1\n",
       "19      EX_fru_e       1\n",
       "20   EX_fuc__L_e       1\n",
       "21      EX_gal_e       1\n",
       "22      EX_gam_e       0\n",
       "23   EX_glc__D_e       1\n",
       "24     EX_lcts_e       1\n",
       "25   EX_lac__D_e       1\n",
       "26   EX_lac__L_e       1\n",
       "27     EX_malt_e       1\n",
       "28      EX_mnl_e       1\n",
       "29      EX_man_e       1\n",
       "30    EX_melib_e       1\n",
       "31      EX_rmn_e       1\n",
       "32   EX_rib__D_e       1\n",
       "33     EX_sucr_e       1\n",
       "34   EX_sbt__D_e       1\n",
       "35      EX_tre_e       1\n",
       "36   EX_xyl__D_e       1\n",
       "37     EX_chol_e       0\n",
       "38     EX_glyb_e       0\n",
       "39     EX_ptrc_e       1\n",
       "40     EX_taur_e       0\n",
       "41     EX_etoh_e       1\n",
       "42     EX_glyc_e       1"
      ]
     },
     "execution_count": 28,
     "metadata": {},
     "output_type": "execute_result"
    }
   ],
   "source": [
    "# A data frame showing the carbon sources, and whether or not they lead to growth is\n",
    "# produced. 1 = the carbon source leads to growth, 0 = the carbon source does not\n",
    "# lead to growth.\n",
    "csourcegrowthmodel = pd.DataFrame({'Carbon source': newcsources, 'Growth': growthmodel})\n",
    "csourcegrowthmodel"
   ]
  },
  {
   "cell_type": "code",
   "execution_count": 29,
   "metadata": {},
   "outputs": [],
   "source": [
    "# The results from the litterature is put into the growthexp list. Again where\n",
    "# 1 = carbon source leads to growth, and 0 = carbon source does not lead to growth.\n",
    "growthexp = [1,1,1,0,1,1,1,0,0,0,0,1,1,1,1,0,0,0,0,1,1,1,1,0,0,1,1,0,1,1,1,1,1,0,0,0,1,1,1,1,0,1,1]"
   ]
  },
  {
   "cell_type": "code",
   "execution_count": 30,
   "metadata": {},
   "outputs": [
    {
     "data": {
      "text/html": [
       "<div>\n",
       "<style scoped>\n",
       "    .dataframe tbody tr th:only-of-type {\n",
       "        vertical-align: middle;\n",
       "    }\n",
       "\n",
       "    .dataframe tbody tr th {\n",
       "        vertical-align: top;\n",
       "    }\n",
       "\n",
       "    .dataframe thead th {\n",
       "        text-align: right;\n",
       "    }\n",
       "</style>\n",
       "<table border=\"1\" class=\"dataframe\">\n",
       "  <thead>\n",
       "    <tr style=\"text-align: right;\">\n",
       "      <th></th>\n",
       "      <th>Carbon source</th>\n",
       "      <th>Growth</th>\n",
       "    </tr>\n",
       "  </thead>\n",
       "  <tbody>\n",
       "    <tr>\n",
       "      <th>0</th>\n",
       "      <td>EX_ala__L_e</td>\n",
       "      <td>1</td>\n",
       "    </tr>\n",
       "    <tr>\n",
       "      <th>1</th>\n",
       "      <td>EX_arg__L_e</td>\n",
       "      <td>1</td>\n",
       "    </tr>\n",
       "    <tr>\n",
       "      <th>2</th>\n",
       "      <td>EX_asp__L_e</td>\n",
       "      <td>1</td>\n",
       "    </tr>\n",
       "    <tr>\n",
       "      <th>3</th>\n",
       "      <td>EX_glu__L_e</td>\n",
       "      <td>0</td>\n",
       "    </tr>\n",
       "    <tr>\n",
       "      <th>4</th>\n",
       "      <td>EX_gln__L_e</td>\n",
       "      <td>1</td>\n",
       "    </tr>\n",
       "    <tr>\n",
       "      <th>5</th>\n",
       "      <td>EX_gly_e</td>\n",
       "      <td>1</td>\n",
       "    </tr>\n",
       "    <tr>\n",
       "      <th>6</th>\n",
       "      <td>EX_his__L_e</td>\n",
       "      <td>1</td>\n",
       "    </tr>\n",
       "    <tr>\n",
       "      <th>7</th>\n",
       "      <td>EX_ile__L_e</td>\n",
       "      <td>0</td>\n",
       "    </tr>\n",
       "    <tr>\n",
       "      <th>8</th>\n",
       "      <td>EX_leu__L_e</td>\n",
       "      <td>0</td>\n",
       "    </tr>\n",
       "    <tr>\n",
       "      <th>9</th>\n",
       "      <td>EX_lys__L_e</td>\n",
       "      <td>0</td>\n",
       "    </tr>\n",
       "    <tr>\n",
       "      <th>10</th>\n",
       "      <td>EX_met__L_e</td>\n",
       "      <td>0</td>\n",
       "    </tr>\n",
       "    <tr>\n",
       "      <th>11</th>\n",
       "      <td>EX_orn_e</td>\n",
       "      <td>1</td>\n",
       "    </tr>\n",
       "    <tr>\n",
       "      <th>12</th>\n",
       "      <td>EX_pro__L_e</td>\n",
       "      <td>1</td>\n",
       "    </tr>\n",
       "    <tr>\n",
       "      <th>13</th>\n",
       "      <td>EX_ser__D_e</td>\n",
       "      <td>1</td>\n",
       "    </tr>\n",
       "    <tr>\n",
       "      <th>14</th>\n",
       "      <td>EX_thr__L_e</td>\n",
       "      <td>1</td>\n",
       "    </tr>\n",
       "    <tr>\n",
       "      <th>15</th>\n",
       "      <td>EX_val__L_e</td>\n",
       "      <td>0</td>\n",
       "    </tr>\n",
       "    <tr>\n",
       "      <th>16</th>\n",
       "      <td>EX_cellb_e</td>\n",
       "      <td>0</td>\n",
       "    </tr>\n",
       "    <tr>\n",
       "      <th>17</th>\n",
       "      <td>EX_arab__D_e</td>\n",
       "      <td>0</td>\n",
       "    </tr>\n",
       "    <tr>\n",
       "      <th>18</th>\n",
       "      <td>EX_arab__L_e</td>\n",
       "      <td>0</td>\n",
       "    </tr>\n",
       "    <tr>\n",
       "      <th>19</th>\n",
       "      <td>EX_fru_e</td>\n",
       "      <td>1</td>\n",
       "    </tr>\n",
       "    <tr>\n",
       "      <th>20</th>\n",
       "      <td>EX_fuc__L_e</td>\n",
       "      <td>1</td>\n",
       "    </tr>\n",
       "    <tr>\n",
       "      <th>21</th>\n",
       "      <td>EX_gal_e</td>\n",
       "      <td>1</td>\n",
       "    </tr>\n",
       "    <tr>\n",
       "      <th>22</th>\n",
       "      <td>EX_gam_e</td>\n",
       "      <td>1</td>\n",
       "    </tr>\n",
       "    <tr>\n",
       "      <th>23</th>\n",
       "      <td>EX_glc__D_e</td>\n",
       "      <td>0</td>\n",
       "    </tr>\n",
       "    <tr>\n",
       "      <th>24</th>\n",
       "      <td>EX_lcts_e</td>\n",
       "      <td>0</td>\n",
       "    </tr>\n",
       "    <tr>\n",
       "      <th>25</th>\n",
       "      <td>EX_lac__D_e</td>\n",
       "      <td>1</td>\n",
       "    </tr>\n",
       "    <tr>\n",
       "      <th>26</th>\n",
       "      <td>EX_lac__L_e</td>\n",
       "      <td>1</td>\n",
       "    </tr>\n",
       "    <tr>\n",
       "      <th>27</th>\n",
       "      <td>EX_malt_e</td>\n",
       "      <td>0</td>\n",
       "    </tr>\n",
       "    <tr>\n",
       "      <th>28</th>\n",
       "      <td>EX_mnl_e</td>\n",
       "      <td>1</td>\n",
       "    </tr>\n",
       "    <tr>\n",
       "      <th>29</th>\n",
       "      <td>EX_man_e</td>\n",
       "      <td>1</td>\n",
       "    </tr>\n",
       "    <tr>\n",
       "      <th>30</th>\n",
       "      <td>EX_melib_e</td>\n",
       "      <td>1</td>\n",
       "    </tr>\n",
       "    <tr>\n",
       "      <th>31</th>\n",
       "      <td>EX_rmn_e</td>\n",
       "      <td>1</td>\n",
       "    </tr>\n",
       "    <tr>\n",
       "      <th>32</th>\n",
       "      <td>EX_rib__D_e</td>\n",
       "      <td>1</td>\n",
       "    </tr>\n",
       "    <tr>\n",
       "      <th>33</th>\n",
       "      <td>EX_sucr_e</td>\n",
       "      <td>0</td>\n",
       "    </tr>\n",
       "    <tr>\n",
       "      <th>34</th>\n",
       "      <td>EX_sbt__D_e</td>\n",
       "      <td>0</td>\n",
       "    </tr>\n",
       "    <tr>\n",
       "      <th>35</th>\n",
       "      <td>EX_tre_e</td>\n",
       "      <td>0</td>\n",
       "    </tr>\n",
       "    <tr>\n",
       "      <th>36</th>\n",
       "      <td>EX_xyl__D_e</td>\n",
       "      <td>1</td>\n",
       "    </tr>\n",
       "    <tr>\n",
       "      <th>37</th>\n",
       "      <td>EX_chol_e</td>\n",
       "      <td>1</td>\n",
       "    </tr>\n",
       "    <tr>\n",
       "      <th>38</th>\n",
       "      <td>EX_glyb_e</td>\n",
       "      <td>1</td>\n",
       "    </tr>\n",
       "    <tr>\n",
       "      <th>39</th>\n",
       "      <td>EX_ptrc_e</td>\n",
       "      <td>1</td>\n",
       "    </tr>\n",
       "    <tr>\n",
       "      <th>40</th>\n",
       "      <td>EX_taur_e</td>\n",
       "      <td>0</td>\n",
       "    </tr>\n",
       "    <tr>\n",
       "      <th>41</th>\n",
       "      <td>EX_etoh_e</td>\n",
       "      <td>1</td>\n",
       "    </tr>\n",
       "    <tr>\n",
       "      <th>42</th>\n",
       "      <td>EX_glyc_e</td>\n",
       "      <td>1</td>\n",
       "    </tr>\n",
       "  </tbody>\n",
       "</table>\n",
       "</div>"
      ],
      "text/plain": [
       "   Carbon source  Growth\n",
       "0    EX_ala__L_e       1\n",
       "1    EX_arg__L_e       1\n",
       "2    EX_asp__L_e       1\n",
       "3    EX_glu__L_e       0\n",
       "4    EX_gln__L_e       1\n",
       "5       EX_gly_e       1\n",
       "6    EX_his__L_e       1\n",
       "7    EX_ile__L_e       0\n",
       "8    EX_leu__L_e       0\n",
       "9    EX_lys__L_e       0\n",
       "10   EX_met__L_e       0\n",
       "11      EX_orn_e       1\n",
       "12   EX_pro__L_e       1\n",
       "13   EX_ser__D_e       1\n",
       "14   EX_thr__L_e       1\n",
       "15   EX_val__L_e       0\n",
       "16    EX_cellb_e       0\n",
       "17  EX_arab__D_e       0\n",
       "18  EX_arab__L_e       0\n",
       "19      EX_fru_e       1\n",
       "20   EX_fuc__L_e       1\n",
       "21      EX_gal_e       1\n",
       "22      EX_gam_e       1\n",
       "23   EX_glc__D_e       0\n",
       "24     EX_lcts_e       0\n",
       "25   EX_lac__D_e       1\n",
       "26   EX_lac__L_e       1\n",
       "27     EX_malt_e       0\n",
       "28      EX_mnl_e       1\n",
       "29      EX_man_e       1\n",
       "30    EX_melib_e       1\n",
       "31      EX_rmn_e       1\n",
       "32   EX_rib__D_e       1\n",
       "33     EX_sucr_e       0\n",
       "34   EX_sbt__D_e       0\n",
       "35      EX_tre_e       0\n",
       "36   EX_xyl__D_e       1\n",
       "37     EX_chol_e       1\n",
       "38     EX_glyb_e       1\n",
       "39     EX_ptrc_e       1\n",
       "40     EX_taur_e       0\n",
       "41     EX_etoh_e       1\n",
       "42     EX_glyc_e       1"
      ]
     },
     "execution_count": 30,
     "metadata": {},
     "output_type": "execute_result"
    }
   ],
   "source": [
    "# A data frame showing the carbon sources, and whether or not they lead to growth in\n",
    "# the experiment is produced.\n",
    "csourcegrowthexp = pd.DataFrame({'Carbon source': newcsources, 'Growth': growthexp})\n",
    "csourcegrowthexp"
   ]
  },
  {
   "cell_type": "code",
   "execution_count": 68,
   "metadata": {},
   "outputs": [
    {
     "data": {
      "text/html": [
       "<div>\n",
       "<style scoped>\n",
       "    .dataframe tbody tr th:only-of-type {\n",
       "        vertical-align: middle;\n",
       "    }\n",
       "\n",
       "    .dataframe tbody tr th {\n",
       "        vertical-align: top;\n",
       "    }\n",
       "\n",
       "    .dataframe thead th {\n",
       "        text-align: right;\n",
       "    }\n",
       "</style>\n",
       "<table border=\"1\" class=\"dataframe\">\n",
       "  <thead>\n",
       "    <tr style=\"text-align: right;\">\n",
       "      <th></th>\n",
       "      <th>Growth in experiment</th>\n",
       "      <th>Growth in model</th>\n",
       "    </tr>\n",
       "    <tr>\n",
       "      <th>Carbon source</th>\n",
       "      <th></th>\n",
       "      <th></th>\n",
       "    </tr>\n",
       "  </thead>\n",
       "  <tbody>\n",
       "    <tr>\n",
       "      <th>L-Alanine</th>\n",
       "      <td>Yes</td>\n",
       "      <td>Yes</td>\n",
       "    </tr>\n",
       "    <tr>\n",
       "      <th>L-Arginine</th>\n",
       "      <td>Yes</td>\n",
       "      <td>Yes</td>\n",
       "    </tr>\n",
       "    <tr>\n",
       "      <th>L-Aspartate</th>\n",
       "      <td>Yes</td>\n",
       "      <td>Yes</td>\n",
       "    </tr>\n",
       "    <tr>\n",
       "      <th>L-Glutamate</th>\n",
       "      <td>No</td>\n",
       "      <td>Yes</td>\n",
       "    </tr>\n",
       "    <tr>\n",
       "      <th>L-Glutamine</th>\n",
       "      <td>Yes</td>\n",
       "      <td>Yes</td>\n",
       "    </tr>\n",
       "    <tr>\n",
       "      <th>Glycine</th>\n",
       "      <td>Yes</td>\n",
       "      <td>Yes</td>\n",
       "    </tr>\n",
       "    <tr>\n",
       "      <th>L-Histidine</th>\n",
       "      <td>Yes</td>\n",
       "      <td>Yes</td>\n",
       "    </tr>\n",
       "    <tr>\n",
       "      <th>L-Isoleucine</th>\n",
       "      <td>No</td>\n",
       "      <td>No</td>\n",
       "    </tr>\n",
       "    <tr>\n",
       "      <th>L-Leucine</th>\n",
       "      <td>No</td>\n",
       "      <td>No</td>\n",
       "    </tr>\n",
       "    <tr>\n",
       "      <th>L-Lysine</th>\n",
       "      <td>No</td>\n",
       "      <td>Yes</td>\n",
       "    </tr>\n",
       "    <tr>\n",
       "      <th>L-Methionine</th>\n",
       "      <td>No</td>\n",
       "      <td>No</td>\n",
       "    </tr>\n",
       "    <tr>\n",
       "      <th>Ornithine</th>\n",
       "      <td>Yes</td>\n",
       "      <td>Yes</td>\n",
       "    </tr>\n",
       "    <tr>\n",
       "      <th>L-Proline</th>\n",
       "      <td>Yes</td>\n",
       "      <td>Yes</td>\n",
       "    </tr>\n",
       "    <tr>\n",
       "      <th>D-Serine</th>\n",
       "      <td>Yes</td>\n",
       "      <td>Yes</td>\n",
       "    </tr>\n",
       "    <tr>\n",
       "      <th>L-Threonine</th>\n",
       "      <td>Yes</td>\n",
       "      <td>Yes</td>\n",
       "    </tr>\n",
       "    <tr>\n",
       "      <th>L-Valine</th>\n",
       "      <td>No</td>\n",
       "      <td>No</td>\n",
       "    </tr>\n",
       "    <tr>\n",
       "      <th>Cellobiose</th>\n",
       "      <td>No</td>\n",
       "      <td>Yes</td>\n",
       "    </tr>\n",
       "    <tr>\n",
       "      <th>D Arabinose C5H10O5</th>\n",
       "      <td>No</td>\n",
       "      <td>No</td>\n",
       "    </tr>\n",
       "    <tr>\n",
       "      <th>L-Arabinose</th>\n",
       "      <td>No</td>\n",
       "      <td>Yes</td>\n",
       "    </tr>\n",
       "    <tr>\n",
       "      <th>D-Fructose</th>\n",
       "      <td>Yes</td>\n",
       "      <td>Yes</td>\n",
       "    </tr>\n",
       "    <tr>\n",
       "      <th>L-Fucose</th>\n",
       "      <td>Yes</td>\n",
       "      <td>Yes</td>\n",
       "    </tr>\n",
       "    <tr>\n",
       "      <th>D-Galactose</th>\n",
       "      <td>Yes</td>\n",
       "      <td>Yes</td>\n",
       "    </tr>\n",
       "    <tr>\n",
       "      <th>D-Glucosamine</th>\n",
       "      <td>Yes</td>\n",
       "      <td>No</td>\n",
       "    </tr>\n",
       "    <tr>\n",
       "      <th>D-Glucose</th>\n",
       "      <td>No</td>\n",
       "      <td>Yes</td>\n",
       "    </tr>\n",
       "    <tr>\n",
       "      <th>Lactose</th>\n",
       "      <td>No</td>\n",
       "      <td>Yes</td>\n",
       "    </tr>\n",
       "    <tr>\n",
       "      <th>D-Lactate</th>\n",
       "      <td>Yes</td>\n",
       "      <td>Yes</td>\n",
       "    </tr>\n",
       "    <tr>\n",
       "      <th>L-Lactate</th>\n",
       "      <td>Yes</td>\n",
       "      <td>Yes</td>\n",
       "    </tr>\n",
       "    <tr>\n",
       "      <th>Maltose</th>\n",
       "      <td>No</td>\n",
       "      <td>Yes</td>\n",
       "    </tr>\n",
       "    <tr>\n",
       "      <th>D-Mannitol</th>\n",
       "      <td>Yes</td>\n",
       "      <td>Yes</td>\n",
       "    </tr>\n",
       "    <tr>\n",
       "      <th>D-Mannose</th>\n",
       "      <td>Yes</td>\n",
       "      <td>Yes</td>\n",
       "    </tr>\n",
       "    <tr>\n",
       "      <th>Melibiose</th>\n",
       "      <td>Yes</td>\n",
       "      <td>Yes</td>\n",
       "    </tr>\n",
       "    <tr>\n",
       "      <th>L-Rhamnose</th>\n",
       "      <td>Yes</td>\n",
       "      <td>Yes</td>\n",
       "    </tr>\n",
       "    <tr>\n",
       "      <th>D-Ribose</th>\n",
       "      <td>Yes</td>\n",
       "      <td>Yes</td>\n",
       "    </tr>\n",
       "    <tr>\n",
       "      <th>Sucrose</th>\n",
       "      <td>No</td>\n",
       "      <td>Yes</td>\n",
       "    </tr>\n",
       "    <tr>\n",
       "      <th>D-Sorbitol</th>\n",
       "      <td>No</td>\n",
       "      <td>Yes</td>\n",
       "    </tr>\n",
       "    <tr>\n",
       "      <th>Trehalose</th>\n",
       "      <td>No</td>\n",
       "      <td>Yes</td>\n",
       "    </tr>\n",
       "    <tr>\n",
       "      <th>D-Xylose</th>\n",
       "      <td>Yes</td>\n",
       "      <td>Yes</td>\n",
       "    </tr>\n",
       "    <tr>\n",
       "      <th>Choline</th>\n",
       "      <td>Yes</td>\n",
       "      <td>No</td>\n",
       "    </tr>\n",
       "    <tr>\n",
       "      <th>Glycine betaine</th>\n",
       "      <td>Yes</td>\n",
       "      <td>No</td>\n",
       "    </tr>\n",
       "    <tr>\n",
       "      <th>Putrescine</th>\n",
       "      <td>Yes</td>\n",
       "      <td>Yes</td>\n",
       "    </tr>\n",
       "    <tr>\n",
       "      <th>Taurine</th>\n",
       "      <td>No</td>\n",
       "      <td>No</td>\n",
       "    </tr>\n",
       "    <tr>\n",
       "      <th>Ethanol</th>\n",
       "      <td>Yes</td>\n",
       "      <td>Yes</td>\n",
       "    </tr>\n",
       "    <tr>\n",
       "      <th>Glycerol</th>\n",
       "      <td>Yes</td>\n",
       "      <td>Yes</td>\n",
       "    </tr>\n",
       "  </tbody>\n",
       "</table>\n",
       "</div>"
      ],
      "text/plain": [
       "                    Growth in experiment Growth in model\n",
       "Carbon source                                           \n",
       "L-Alanine                            Yes             Yes\n",
       "L-Arginine                           Yes             Yes\n",
       "L-Aspartate                          Yes             Yes\n",
       "L-Glutamate                           No             Yes\n",
       "L-Glutamine                          Yes             Yes\n",
       "Glycine                              Yes             Yes\n",
       "L-Histidine                          Yes             Yes\n",
       "L-Isoleucine                          No              No\n",
       "L-Leucine                             No              No\n",
       "L-Lysine                              No             Yes\n",
       "L-Methionine                          No              No\n",
       "Ornithine                            Yes             Yes\n",
       "L-Proline                            Yes             Yes\n",
       "D-Serine                             Yes             Yes\n",
       "L-Threonine                          Yes             Yes\n",
       "L-Valine                              No              No\n",
       "Cellobiose                            No             Yes\n",
       "D Arabinose C5H10O5                   No              No\n",
       "L-Arabinose                           No             Yes\n",
       "D-Fructose                           Yes             Yes\n",
       "L-Fucose                             Yes             Yes\n",
       "D-Galactose                          Yes             Yes\n",
       "D-Glucosamine                        Yes              No\n",
       "D-Glucose                             No             Yes\n",
       "Lactose                               No             Yes\n",
       "D-Lactate                            Yes             Yes\n",
       "L-Lactate                            Yes             Yes\n",
       "Maltose                               No             Yes\n",
       "D-Mannitol                           Yes             Yes\n",
       "D-Mannose                            Yes             Yes\n",
       "Melibiose                            Yes             Yes\n",
       "L-Rhamnose                           Yes             Yes\n",
       "D-Ribose                             Yes             Yes\n",
       "Sucrose                               No             Yes\n",
       "D-Sorbitol                            No             Yes\n",
       "Trehalose                             No             Yes\n",
       "D-Xylose                             Yes             Yes\n",
       "Choline                              Yes              No\n",
       "Glycine betaine                      Yes              No\n",
       "Putrescine                           Yes             Yes\n",
       "Taurine                               No              No\n",
       "Ethanol                              Yes             Yes\n",
       "Glycerol                             Yes             Yes"
      ]
     },
     "execution_count": 68,
     "metadata": {},
     "output_type": "execute_result"
    }
   ],
   "source": [
    "for i in range(len(growthexp)):\n",
    "    if growthexp[i] == 1:\n",
    "        growthexp[i] = 'Yes'\n",
    "    if growthexp[i] == 0:\n",
    "        growthexp[i] = 'No'\n",
    "    if growthmodel[i] == 1:\n",
    "        growthmodel[i] = 'Yes'\n",
    "    if growthmodel[i] == 0:\n",
    "        growthmodel[i] = 'No'\n",
    "for i in range(len(newcsources)):\n",
    "    reaction = newcsources[i]\n",
    "    meta = model.reactions.get_by_id(reaction).reactants[0]\n",
    "    newcsources[i] = meta.name\n",
    "growthcsources = pd.DataFrame({'Carbon source': newcsources, 'Growth in experiment': growthexp, 'Growth in model':growthmodel})\n",
    "growthcsources.set_index('Carbon source', inplace=True)\n",
    "growthcsources"
   ]
  },
  {
   "cell_type": "code",
   "execution_count": 69,
   "metadata": {},
   "outputs": [],
   "source": [
    "growthcsources.to_csv('growthcsources.csv')"
   ]
  },
  {
   "cell_type": "code",
   "execution_count": 42,
   "metadata": {},
   "outputs": [],
   "source": [
    "TP = 0\n",
    "FP = 0\n",
    "TN = 0\n",
    "FN = 0\n",
    "for i in range(42):\n",
    "    exp = csourcegrowthexp.iloc[i,1]\n",
    "    mod = csourcegrowthmodel.iloc[i,1]\n",
    "    if exp == 1:\n",
    "        if mod == 1:\n",
    "            TP = TP + 1\n",
    "        elif mod == 0:\n",
    "            FN = FN + 1\n",
    "    if exp == 0:\n",
    "        if mod == 0:\n",
    "            TN = TN + 1\n",
    "        elif mod == 1:\n",
    "            FP = FP +1"
   ]
  },
  {
   "cell_type": "code",
   "execution_count": 44,
   "metadata": {},
   "outputs": [
    {
     "name": "stdout",
     "output_type": "stream",
     "text": [
      "23\n",
      "6\n",
      "10\n",
      "3\n"
     ]
    }
   ],
   "source": [
    "print(TP)\n",
    "print(TN)\n",
    "print(FP)\n",
    "print(FN)"
   ]
  },
  {
   "cell_type": "code",
   "execution_count": 41,
   "metadata": {},
   "outputs": [
    {
     "data": {
      "text/plain": [
       "range(0, 42)"
      ]
     },
     "execution_count": 41,
     "metadata": {},
     "output_type": "execute_result"
    }
   ],
   "source": [
    "range(42)"
   ]
  },
  {
   "cell_type": "code",
   "execution_count": 50,
   "metadata": {},
   "outputs": [],
   "source": [
    "Precision = TP/(TP+FP) #Positive predictive value"
   ]
  },
  {
   "cell_type": "code",
   "execution_count": 51,
   "metadata": {},
   "outputs": [
    {
     "data": {
      "text/plain": [
       "0.696969696969697"
      ]
     },
     "execution_count": 51,
     "metadata": {},
     "output_type": "execute_result"
    }
   ],
   "source": [
    "Precision #From 0 to 1, 1 being perfect prediction"
   ]
  },
  {
   "cell_type": "code",
   "execution_count": 58,
   "metadata": {},
   "outputs": [],
   "source": [
    "NPV = TN/(TN+FN)"
   ]
  },
  {
   "cell_type": "code",
   "execution_count": 59,
   "metadata": {},
   "outputs": [
    {
     "data": {
      "text/plain": [
       "0.6666666666666666"
      ]
     },
     "execution_count": 59,
     "metadata": {},
     "output_type": "execute_result"
    }
   ],
   "source": [
    "NPV"
   ]
  },
  {
   "cell_type": "code",
   "execution_count": 60,
   "metadata": {},
   "outputs": [],
   "source": [
    "Sensitivity = TP/(TP+FN)"
   ]
  },
  {
   "cell_type": "code",
   "execution_count": 61,
   "metadata": {},
   "outputs": [
    {
     "data": {
      "text/plain": [
       "0.8846153846153846"
      ]
     },
     "execution_count": 61,
     "metadata": {},
     "output_type": "execute_result"
    }
   ],
   "source": [
    "Sensitivity"
   ]
  },
  {
   "cell_type": "code",
   "execution_count": 62,
   "metadata": {},
   "outputs": [],
   "source": [
    "Specificity = TN/(TN+FP)"
   ]
  },
  {
   "cell_type": "code",
   "execution_count": 63,
   "metadata": {},
   "outputs": [
    {
     "data": {
      "text/plain": [
       "0.375"
      ]
     },
     "execution_count": 63,
     "metadata": {},
     "output_type": "execute_result"
    }
   ],
   "source": [
    "Specificity"
   ]
  },
  {
   "cell_type": "code",
   "execution_count": 64,
   "metadata": {},
   "outputs": [],
   "source": [
    "Accuracy = (TP+TN)/(TP+TN+FP+FN)"
   ]
  },
  {
   "cell_type": "code",
   "execution_count": 65,
   "metadata": {},
   "outputs": [
    {
     "data": {
      "text/plain": [
       "0.6904761904761905"
      ]
     },
     "execution_count": 65,
     "metadata": {},
     "output_type": "execute_result"
    }
   ],
   "source": [
    "Accuracy"
   ]
  },
  {
   "cell_type": "code",
   "execution_count": 66,
   "metadata": {},
   "outputs": [],
   "source": [
    "F1score = 2*Precision*Sensitivity/(Precision+Sensitivity)"
   ]
  },
  {
   "cell_type": "code",
   "execution_count": 67,
   "metadata": {},
   "outputs": [
    {
     "data": {
      "text/plain": [
       "0.7796610169491526"
      ]
     },
     "execution_count": 67,
     "metadata": {},
     "output_type": "execute_result"
    }
   ],
   "source": [
    "F1score #From 0 to 1, 1 being perfect prediction"
   ]
  },
  {
   "cell_type": "code",
   "execution_count": 68,
   "metadata": {},
   "outputs": [],
   "source": [
    "MCC = (TP*TN-FP*FN)/(math.sqrt((TP+FP)*(TP+FN)*(TN+FP)*(TN+FN)))"
   ]
  },
  {
   "cell_type": "code",
   "execution_count": 69,
   "metadata": {},
   "outputs": [
    {
     "data": {
      "text/plain": [
       "0.3072549338995135"
      ]
     },
     "execution_count": 69,
     "metadata": {},
     "output_type": "execute_result"
    }
   ],
   "source": [
    "MCC  #from -1 to 1, where 0 would be random guessing"
   ]
  },
  {
   "cell_type": "code",
   "execution_count": null,
   "metadata": {},
   "outputs": [],
   "source": []
  }
 ],
 "metadata": {
  "kernelspec": {
   "display_name": "python3.6",
   "language": "python",
   "name": "python3.6"
  },
  "language_info": {
   "codemirror_mode": {
    "name": "ipython",
    "version": 3
   },
   "file_extension": ".py",
   "mimetype": "text/x-python",
   "name": "python",
   "nbconvert_exporter": "python",
   "pygments_lexer": "ipython3",
   "version": "3.6.12"
  }
 },
 "nbformat": 4,
 "nbformat_minor": 4
}
