{
 "cells": [
  {
   "cell_type": "code",
   "execution_count": 3,
   "metadata": {},
   "outputs": [],
   "source": [
    "import cobra.io\n",
    "model = cobra.io.read_sbml_model('Roseobacter-litoralis-strain-B14.SBML')"
   ]
  },
  {
   "cell_type": "code",
   "execution_count": 5,
   "metadata": {},
   "outputs": [],
   "source": [
    "medium = model.medium"
   ]
  },
  {
   "cell_type": "code",
   "execution_count": 6,
   "metadata": {},
   "outputs": [],
   "source": [
    "mediumlist = list(medium.keys())"
   ]
  },
  {
   "cell_type": "code",
   "execution_count": 7,
   "metadata": {},
   "outputs": [],
   "source": [
    "mediumlist.remove('EX_glc__D_e')"
   ]
  },
  {
   "cell_type": "code",
   "execution_count": 8,
   "metadata": {},
   "outputs": [],
   "source": [
    "for EX in mediumlist:\n",
    "    medium[EX] = 2.5\n",
    "    model.medium = medium"
   ]
  },
  {
   "cell_type": "code",
   "execution_count": 9,
   "metadata": {},
   "outputs": [],
   "source": [
    "mediumwglc = list(medium.keys())"
   ]
  },
  {
   "cell_type": "code",
   "execution_count": 10,
   "metadata": {},
   "outputs": [],
   "source": [
    "csources = list()"
   ]
  },
  {
   "cell_type": "code",
   "execution_count": 11,
   "metadata": {},
   "outputs": [],
   "source": [
    "for reactionname in mediumwglc:\n",
    "    reaction = model.reactions.get_by_id(reactionname)\n",
    "    metabolite = reaction.reactants[0]\n",
    "    comp = metabolite.formula\n",
    "    checkcarbon = 'C' in comp\n",
    "    if checkcarbon == True:\n",
    "        csources.append(reaction.id)"
   ]
  },
  {
   "cell_type": "code",
   "execution_count": 12,
   "metadata": {},
   "outputs": [
    {
     "data": {
      "text/plain": [
       "['EX_glc__D_e',\n",
       " 'EX_leu__L_e',\n",
       " 'EX_ala__L_e',\n",
       " 'EX_cl_e',\n",
       " 'EX_adn_e',\n",
       " 'EX_gly_e',\n",
       " 'EX_thr__L_e',\n",
       " 'EX_arg__L_e',\n",
       " 'EX_lys__L_e',\n",
       " 'EX_asp__L_e',\n",
       " 'EX_pro__L_e',\n",
       " 'EX_ca2_e',\n",
       " 'EX_cobalt2_e',\n",
       " 'EX_cu2_e',\n",
       " 'EX_glu__L_e',\n",
       " 'EX_gsn_e',\n",
       " 'EX_pheme_e',\n",
       " 'EX_his__L_e',\n",
       " 'EX_hxan_e',\n",
       " 'EX_ile__L_e',\n",
       " 'EX_met__L_e',\n",
       " 'EX_uri_e',\n",
       " 'EX_val__L_e',\n",
       " 'EX_thm_e']"
      ]
     },
     "execution_count": 12,
     "metadata": {},
     "output_type": "execute_result"
    }
   ],
   "source": [
    "csources"
   ]
  },
  {
   "cell_type": "code",
   "execution_count": 13,
   "metadata": {},
   "outputs": [],
   "source": [
    "csources.remove('EX_cl_e')\n",
    "csources.remove('EX_ca2_e')\n",
    "csources.remove('EX_cobalt2_e')\n",
    "csources.remove('EX_cu2_e')"
   ]
  },
  {
   "cell_type": "code",
   "execution_count": 14,
   "metadata": {},
   "outputs": [
    {
     "data": {
      "text/plain": [
       "['EX_glc__D_e',\n",
       " 'EX_leu__L_e',\n",
       " 'EX_ala__L_e',\n",
       " 'EX_adn_e',\n",
       " 'EX_gly_e',\n",
       " 'EX_thr__L_e',\n",
       " 'EX_arg__L_e',\n",
       " 'EX_lys__L_e',\n",
       " 'EX_asp__L_e',\n",
       " 'EX_pro__L_e',\n",
       " 'EX_glu__L_e',\n",
       " 'EX_gsn_e',\n",
       " 'EX_pheme_e',\n",
       " 'EX_his__L_e',\n",
       " 'EX_hxan_e',\n",
       " 'EX_ile__L_e',\n",
       " 'EX_met__L_e',\n",
       " 'EX_uri_e',\n",
       " 'EX_val__L_e',\n",
       " 'EX_thm_e']"
      ]
     },
     "execution_count": 14,
     "metadata": {},
     "output_type": "execute_result"
    }
   ],
   "source": [
    "csources"
   ]
  },
  {
   "cell_type": "code",
   "execution_count": 15,
   "metadata": {},
   "outputs": [
    {
     "name": "stdout",
     "output_type": "stream",
     "text": [
      "{'EX_h2o_e': 2.5, 'EX_h_e': 2.5, 'EX_cl_e': 2.5, 'EX_pi_e': 2.5, 'EX_nh4_e': 2.5, 'EX_fe3_e': 2.5, 'EX_aso3_e': 2.5, 'EX_k_e': 2.5, 'EX_ca2_e': 2.5, 'EX_mg2_e': 2.5, 'EX_mn2_e': 2.5, 'EX_cobalt2_e': 2.5, 'EX_zn2_e': 2.5, 'EX_cu2_e': 2.5, 'EX_o2_e': 2.5, 'EX_fe2_e': 2.5, 'EX_h2s_e': 2.5, 'EX_mobd_e': 2.5, 'EX_so4_e': 2.5}\n"
     ]
    }
   ],
   "source": [
    "medium1 = model.medium\n",
    "for Csource in csources:\n",
    "    medium1[Csource]=0\n",
    "model.medium = medium1\n",
    "print(model.medium)"
   ]
  },
  {
   "cell_type": "code",
   "execution_count": 16,
   "metadata": {},
   "outputs": [
    {
     "data": {
      "text/plain": [
       "{'EX_glc__D_e': 0,\n",
       " 'EX_h2o_e': 2.5,\n",
       " 'EX_h_e': 2.5,\n",
       " 'EX_leu__L_e': 0,\n",
       " 'EX_ala__L_e': 0,\n",
       " 'EX_cl_e': 2.5,\n",
       " 'EX_pi_e': 2.5,\n",
       " 'EX_adn_e': 0,\n",
       " 'EX_nh4_e': 2.5,\n",
       " 'EX_gly_e': 0,\n",
       " 'EX_thr__L_e': 0,\n",
       " 'EX_arg__L_e': 0,\n",
       " 'EX_fe3_e': 2.5,\n",
       " 'EX_lys__L_e': 0,\n",
       " 'EX_asp__L_e': 0,\n",
       " 'EX_aso3_e': 2.5,\n",
       " 'EX_k_e': 2.5,\n",
       " 'EX_pro__L_e': 0,\n",
       " 'EX_ca2_e': 2.5,\n",
       " 'EX_mg2_e': 2.5,\n",
       " 'EX_mn2_e': 2.5,\n",
       " 'EX_cobalt2_e': 2.5,\n",
       " 'EX_zn2_e': 2.5,\n",
       " 'EX_cu2_e': 2.5,\n",
       " 'EX_o2_e': 2.5,\n",
       " 'EX_glu__L_e': 0,\n",
       " 'EX_fe2_e': 2.5,\n",
       " 'EX_gsn_e': 0,\n",
       " 'EX_h2s_e': 2.5,\n",
       " 'EX_pheme_e': 0,\n",
       " 'EX_his__L_e': 0,\n",
       " 'EX_hxan_e': 0,\n",
       " 'EX_ile__L_e': 0,\n",
       " 'EX_met__L_e': 0,\n",
       " 'EX_mobd_e': 2.5,\n",
       " 'EX_uri_e': 0,\n",
       " 'EX_so4_e': 2.5,\n",
       " 'EX_val__L_e': 0,\n",
       " 'EX_thm_e': 0}"
      ]
     },
     "execution_count": 16,
     "metadata": {},
     "output_type": "execute_result"
    }
   ],
   "source": [
    "medium1"
   ]
  },
  {
   "cell_type": "code",
   "execution_count": 17,
   "metadata": {},
   "outputs": [],
   "source": [
    "newcsources = ['EX_ala__L_e','EX_arg__L_e','EX_asp__L_e', 'EX_glu__L_e', 'EX_gln__L_e', \n",
    "               'EX_gly_e', 'EX_his__L_e', 'EX_ile__L_e','EX_leu__L_e', 'EX_lys__L_e', 'EX_met__L_e', \n",
    "               'EX_orn_e', 'EX_pro__L_e', 'EX_ser__D_e', 'EX_thr__L_e', 'EX_val__L_e', 'EX_cellb_e', \n",
    "               'EX_arab__D_e', 'EX_arab__L_e', 'EX_fru_e', 'EX_fuc__L_e', 'EX_gal_e', 'EX_gam_e',\n",
    "               'EX_glc__D_e', 'EX_lcts_e', 'EX_lac__D_e', 'EX_lac__L_e', 'EX_malt_e', 'EX_mnl_e', \n",
    "               'EX_man_e', 'EX_melib_e', 'EX_rmn_e', 'EX_rib__D_e','EX_sucr_e', 'EX_sbt__D_e', \n",
    "               'EX_tre_e', 'EX_xyl__D_e', 'EX_chol_e', 'EX_glyb_e', 'EX_ptrc_e', 'EX_taur_e', \n",
    "               'EX_etoh_e', 'EX_glyc_e', 'EX_urea_e']"
   ]
  },
  {
   "cell_type": "markdown",
   "metadata": {},
   "source": [
    "Missing in newsources: asparagine, citrulline, cysteine, phenylalanine, tryptophan, tyrosine, creatine, creatinine, dimethylglycine, sarcosine, glycogen"
   ]
  },
  {
   "cell_type": "code",
   "execution_count": 18,
   "metadata": {},
   "outputs": [
    {
     "name": "stdout",
     "output_type": "stream",
     "text": [
      "EX_ala__L_e 0.0\n",
      "EX_arg__L_e 0.11832027929981208\n",
      "EX_asp__L_e 0.0\n",
      "EX_glu__L_e 0.0\n",
      "EX_gln__L_e 0.0\n",
      "EX_gly_e 0.0\n",
      "EX_his__L_e 0.0\n",
      "EX_ile__L_e 0.0\n",
      "EX_leu__L_e 0.0\n",
      "EX_lys__L_e 0.0\n",
      "EX_met__L_e 0.0\n",
      "EX_orn_e 0.0\n",
      "EX_pro__L_e 0.0\n",
      "EX_ser__D_e 0.0\n",
      "EX_thr__L_e 0.0\n",
      "EX_val__L_e 0.0\n",
      "EX_cellb_e 0.0\n",
      "EX_arab__D_e 0.0\n",
      "EX_arab__L_e 0.0\n",
      "EX_fru_e 0.0\n",
      "EX_fuc__L_e 0.0\n",
      "EX_gal_e 0.0\n",
      "EX_gam_e 0.0\n",
      "EX_glc__D_e 0.0\n",
      "EX_lcts_e 0.0\n",
      "EX_lac__D_e 0.0\n",
      "EX_lac__L_e 0.0\n",
      "EX_malt_e 0.0\n",
      "EX_mnl_e 0.0\n",
      "EX_man_e 0.0\n",
      "EX_melib_e 0.0\n",
      "EX_rmn_e 0.0\n",
      "EX_rib__D_e 0.0\n",
      "EX_sucr_e 0.0\n",
      "EX_sbt__D_e 0.0\n",
      "EX_tre_e 0.0\n",
      "EX_xyl__D_e 0.0\n",
      "EX_chol_e 0.0\n",
      "EX_glyb_e 0.0\n",
      "EX_ptrc_e 0.0\n",
      "EX_taur_e 0.0\n",
      "EX_etoh_e 0.0\n",
      "EX_glyc_e 0.0\n",
      "EX_urea_e 0.0\n"
     ]
    }
   ],
   "source": [
    "for newcsource in newcsources:\n",
    "    model.medium = medium1\n",
    "    medium2 = model.medium\n",
    "    medium2[newcsource]=10\n",
    "    model.medium = medium2\n",
    "    mumax = model.optimize().objective_value\n",
    "    print(newcsource,mumax)\n",
    "    #print(model.medium)"
   ]
  }
 ],
 "metadata": {
  "kernelspec": {
   "display_name": "python3.6",
   "language": "python",
   "name": "python3.6"
  },
  "language_info": {
   "codemirror_mode": {
    "name": "ipython",
    "version": 3
   },
   "file_extension": ".py",
   "mimetype": "text/x-python",
   "name": "python",
   "nbconvert_exporter": "python",
   "pygments_lexer": "ipython3",
   "version": "3.6.12"
  }
 },
 "nbformat": 4,
 "nbformat_minor": 4
}
