{
 "cells": [
  {
   "cell_type": "markdown",
   "metadata": {},
   "source": [
    "# [Title]"
   ]
  },
  {
   "cell_type": "markdown",
   "metadata": {},
   "source": [
    "## 1. Introduction"
   ]
  },
  {
   "cell_type": "markdown",
   "metadata": {},
   "source": [
    "### 1.1 Literature review of laccase"
   ]
  },
  {
   "cell_type": "markdown",
   "metadata": {},
   "source": [
    "The enzyme laccase belongs to the group of multi-copper oxidase, it contains four copper ions and naturally occurs in fungi, bacteria and plants. When catalysing a reaction it requires molecular oxygen as a co-substrate and produces only water as a by-product, making it eco-friendly and thus interesting to science (Brijwani et al. 2010). It raises further interest by its wide range of applications in, for example the food, pharma and fashion industry. \n",
    "\n",
    "|Industry | example |\n",
    "| --- | --- |\n",
    "| Food | Beer production:|\n",
    "|       |-Removal of oxygen in finished beer|\n",
    "|      |Baking:|\n",
    "|      |-increase strength and stability of the dough|\n",
    "|      |Wine production:|\n",
    "|      |- selective polyphenol removal|\n",
    "| Pharma | Developments of:|\n",
    "|            |-Antibiotics|\n",
    "|           |-Anticancer drugs|\n",
    "|           |-Melanin synthesis|\n",
    "|           |-Sedatives |\n",
    "| Fashion | Used in the following processes:|\n",
    "|          | -Bleaching|\n",
    "|          | -Dyeing|\n",
    "|          |-Printing|\n",
    "|          |-Wash off treatment|\n",
    "|           |-Finishing |\n",
    "\n",
    "<div align=\"center\">\n",
    "Mayolo-Deloisa et al. 2020, Chaurasia et al. 2017, Garje et al. 2020   \n",
    "</div>\n",
    "\n",
    "\n",
    "One property of laccase which might be especially interesting for future application is its major role in the degradation of polyethylene (Santo et al. 2013). With plastic polluting our oceans and many landscapes, a green path to degrade this pollutant would be a breakthrough in environmental biotechnology. \n",
    "\n",
    "Due to the application of laccase in the food, textile and pharma industry the global laccase market size in 2020 is 2947.7 million USD. In the textile industry alternative enzymes have been found to be applicable which causes a decreasing market size projection with a value of 2850 million USD in 2026 (Laccase Market Size et al. 2020). The introduction of new applications of laccase could cause the increase of the laccase market size in the next few years.\n",
    "\n",
    "Though laccase can be found in fungi, bacteria and plant cells, it is best researched in fungi. Laccase is an extracellular enzyme which is produced as a secondary metabolite in filamentous fungi. The gene for laccase expression has been successfully cloned and heterologously expressed in for example Aspergillus Niger, Aspergillus oryzae, and Trichoderma reesei (Brijwani et al. 2010). "
   ]
  },
  {
   "cell_type": "markdown",
   "metadata": {},
   "source": [
    "### 1.2 Literature review of the cell factory (<500 words)"
   ]
  },
  {
   "cell_type": "markdown",
   "metadata": {},
   "source": [
    "Roseobacter litoralis can be found in a wide range of marine habitats, from open ocean to coastal areas and can be isolated from seaweed. R. litoralis require a saline environment and is able to perform aerobic anoxygenic photosynthesis. (Martens et al., 2007, Kalhoefer et al., 2011) It can grow on a broad number of different carbon sources and use many different nitrogen sources.(Martens et al., 2007) Its high tolerance to saline stress makes it an interesting cell factory for bioremediation of plastic waste by introducing a laccase producing pathway. Furthermore, its genome shows several potential heavy metal resistance genes which could also be considered as an advantage in bioremediation. Because of Rosebacters very diverse metabolism it can be considered for genetic engineering. Roseobacter litoralis has already been described as a producer of secondary metabolites like antibiotics (Martens et al., 2007; Brock et al., 2014; Wang et al., 2016b) and a few techniques for how to manipulate its genome have been developed. (Borg et al., 2016; Tang et al., 2016) However, compared to other chassis, Roseobacter litoralis is an quite unstudied cell factory with no genomic scale model or metabolic flux analysis. This is why it could be considered to genetically manipulate an well-studied organism so that it shows a high tolerance to saline stress and then introduce the pathway to produce laccase. \n"
   ]
  },
  {
   "cell_type": "markdown",
   "metadata": {},
   "source": [
    "## 2. Problem definition (<300 words)"
   ]
  },
  {
   "cell_type": "markdown",
   "metadata": {},
   "source": [
    "The goal of this project is to introduce a pathway to produce laccase in R. litoralis for bioremediation of plastics in marine ecosystems. \n"
   ]
  },
  {
   "cell_type": "markdown",
   "metadata": {},
   "source": [
    "We started by using carveme to create a draft reconstruction of Roseobacter litoralis strain B14 from the genome database in NCBI and gapfilled it with LB Medium. "
   ]
  },
  {
   "cell_type": "markdown",
   "metadata": {},
   "source": [
    "### Memote analysis"
   ]
  },
  {
   "cell_type": "markdown",
   "metadata": {},
   "source": [
    "To analyse the performance of the model, we tested it using memote. The report can be found in the file called \"Memote_Roseobacter_litoralis-strain-B14.html\".\n",
    "\n",
    "The total score of the memote analysis is 22%, the included sections can be found in the following table.\n",
    "\n",
    "|Section | Score |\n",
    "|--- | --- |\n",
    "| Consisentcy | 47% |\n",
    "| Annotation of reactions | 25% |\n",
    "| Annotation of metabolites | 25% |\n",
    "| Annotation of Genes | 0% |\n",
    "| Annotation of SBO Terms | 0% |\n",
    "|Total Score | 22%|\n",
    "\n",
    "Since the model was not annotated, all annotations per database are 0%. Due to the lack of annotations of metabolites and reactions imported from different databases, no problems in terms of uniformity of the identifiers will occur, hence the percentage of “Uniform Identifier Namespace” for reactions and metabolites are 100%. \n",
    "\n",
    "In the section “Consistency”, the model shows good results in terms of “Charge Balance” and “Metabolite Connectivity”, meaning that almost all reactions are charge balanced and all occurring metabolites are part of a reaction. \n",
    "\n",
    "The model needs improvement In terms of “Mass Balance”, since more that 40% of the reactions are not mass balanced. Further improvements are required to reduce the reactions that carry out “Unbound fluxes under default model conditions”. Indicating a lack of accounting for co-factors, incorrect definition of transport directions and thus causing fluxes to operate at the maximum or minimum level. Balanced reactions and bound fluxes are important to reliably predict the yield of the target product. \n",
    "\n",
    "In the section “Basic Information” it is reported that a total of 1111 genes are implemented in our model, while according to NCBI a total of 4755 coding genes exist. Those genes, not expressed in our model could be the metabolites missing to increase the performance of our model in the section “consistency”. \n",
    "\n",
    "Additionally, the model has a total of 1483 metabolites participating in 2139 reactions, located in 3 compartments: the cytosol, the periplasm and in the extracellular space. \n",
    "\n",
    "The “Metabolic Coverage” is 1.9 and thus above 1, which according to memote labels the model to be of high detail. Furthermore, there are six unconserved metabolites, meaning that their net stoichiometries are inconsistent, resulting in a negative mass in a maximal conservation vector (Gevorgyan et al. 2008). A list of these can be found in the appendix.\n"
   ]
  },
  {
   "cell_type": "markdown",
   "metadata": {},
   "source": [
    "### Escher Map"
   ]
  },
  {
   "cell_type": "markdown",
   "metadata": {},
   "source": [
    "Next, we loaded the model with cobrapy and used escher to draw a pathway map of the central carbon metabolism to visualize the reactions in our model.  "
   ]
  },
  {
   "cell_type": "markdown",
   "metadata": {},
   "source": [
    "### Suggested experiments"
   ]
  },
  {
   "cell_type": "markdown",
   "metadata": {},
   "source": [
    "### Medium Optimization"
   ]
  },
  {
   "cell_type": "markdown",
   "metadata": {},
   "source": [
    "As a next step, we compared our maximal growth rate to the one found in the literature and we saw that our growth rate is much higher than the value found in the literature (0.69 compared to 0.27). This is why we coded a loop which reduces the carbon sources stepwise until we reach a growth rate comparable to the literature value. Surprisingly, the growth rate of our model never came close to 0.27. This is why, then in a next step we looped over all medium components including oxygen, ions and so on until we reached a growth rate around 0.246 with all exchange reactions set to 2. \n",
    "Next, we check for limiting factors in the medium by coding… "
   ]
  },
  {
   "cell_type": "markdown",
   "metadata": {},
   "source": [
    "### Model Validation"
   ]
  },
  {
   "cell_type": "markdown",
   "metadata": {},
   "source": [
    "#### Paper with N and C sources"
   ]
  },
  {
   "cell_type": "markdown",
   "metadata": {},
   "source": [
    "\n",
    "\n",
    "Subsequently we did a lot of literature research to find data about our organism like fluxes, growth rate, carbon and nitrogen sources etc. We found the growth rate of rosebacter in LB medium and information on its carbon and nitrogen sources(NAMEofPapers). Other than that, we were unfortunately not able to find more literature data on our organism. \n",
    "\n",
    "Furthermore, we wanted to validate our model. This was achieved by comparing which carbon sources our model was able to grow on to a substrate test found in the literature. (Kalhoefer et al., 2011) Prior to the substrate test, which included 55 different carbon sources, 12 different nitrogen sources and 1 sulfur source, Kalhoefer et al. characterized the genome of <i>Roseobacter litoralis</i> OCh149. The purpose was to compare it with other Roseobacter e.g., <i>R. denitrificans</i> OCh114, which genome was already known. In addition, they also tried to predict which substrates R. litoralis would be able to grow on, before conducting the experimental data, based on the degradation pathways presence in the genome. After measuring the OD600 value of R. litoralis on the selected substrates, they assigned every substrate one out of five signs, to indicate which range the OD600 value belonged to.\n",
    "\n",
    "Next: -further experimnets to improve the model, if model is good enough; look at laccase production pathway and improve the fluxes in this direction. \n",
    "-Use memote \n",
    "\n",
    "\n",
    " "
   ]
  },
  {
   "cell_type": "markdown",
   "metadata": {},
   "source": [
    "![title](Growthrateplot.png)"
   ]
  },
  {
   "cell_type": "markdown",
   "metadata": {},
   "source": [
    "### Confusion matrix"
   ]
  },
  {
   "cell_type": "markdown",
   "metadata": {},
   "source": [
    "A confusion matrix consits of:\\\n",
    "TP: The true positives in which the experiments suggested that Roseobacter grows on the tested carbon source, and where the model also predicted growth.\\\n",
    "FP: The false positive where the experiments suggested that Roseobacter does not grow on the tested carbon source, but the model predicted that it would grow.\\\n",
    "FN: The false negative results where the experiments suggested that Roseobacter grows on the tested carbon source, but the model did not predict growth.\\\n",
    "TN: The true negative results, where the experiments nor the model prediction suggested growth on the carbon source"
   ]
  },
  {
   "cell_type": "markdown",
   "metadata": {},
   "source": [
    "From these values of TP, FP, FN & TN, several different measures of model prediction performance can be computed."
   ]
  },
  {
   "cell_type": "markdown",
   "metadata": {},
   "source": [
    "Precision is a measure of....\n",
    "Negative predictive value is a measure of...\n",
    "Sensitivity is a measure of...\n",
    "Specificity is a measure of...\n",
    "Accuracy is a measure of..."
   ]
  },
  {
   "cell_type": "markdown",
   "metadata": {},
   "source": [
    "It is seen that the model accuracy is 0.69, which is not particularily high. This suggests that there are several improvements that can be made to the model, to improve its performance in predicting the growth of Roseobacter."
   ]
  },
  {
   "cell_type": "markdown",
   "metadata": {},
   "source": [
    "![title](Confusionmatrix.png)"
   ]
  },
  {
   "cell_type": "markdown",
   "metadata": {},
   "source": [
    "## 4. Computer-Aided Cell Factory Engineering (<500 words)"
   ]
  },
  {
   "cell_type": "markdown",
   "metadata": {},
   "source": [
    "To introduce a laccase pathway to our model, we added a reaction to our model which consumes the amino acids (see file \"Yield_comparition\"). Our model shows a laccase production yield of 0.00687 mmol-lacc / mmol-glc. In order to compare this yield with the yield of laccase in another mircoorganism we introduced the same reaction to E.coli. In E.coli, a laccase yield of only 0.00224 mmol-lacc / mmol-glc was achieved. To find out the reason for this difference in the laccase yield, as a next step, we compared the reactions of the two organisms to see where are differences in the fluxes between the models (see file Yield comparition). We found out that the E.coli model has a total of 2714 and our model has a total of 2141 reactions but only about 1369 reactions are shared between the two models. From these reaction there are 256 reactions where the one model has fluxes for but the other doesn't. A list of these reactions can be found in the appendix. Since this is a pretty big number a detailed investigation is in the timeframe of this work not possible. \n"
   ]
  },
  {
   "cell_type": "markdown",
   "metadata": {},
   "source": [
    "## 5. Discussion (<500 words)"
   ]
  },
  {
   "cell_type": "markdown",
   "metadata": {},
   "source": [
    "## 6. Conclusion (<200 words)"
   ]
  },
  {
   "cell_type": "markdown",
   "metadata": {},
   "source": [
    "## References"
   ]
  },
  {
   "cell_type": "markdown",
   "metadata": {},
   "source": [
    "Chaurasia, P. K., Bharati, S. L., Sarma, C., et al. “Laccases in Pharmaceutical Chemistry: A Comprehensive Appraisal.” Mini-Reviews in Organic Chemistry, vol. 13, no. 6, 2017, pp. 430–451., doi:10.2174/1570193x13666161019124854.\n",
    "\n",
    "Garje, A. N. (n.d.). Laccase Enzyme,Laccase Enzyme for Textile Processing,Laccase Biobleaching,Laccase Enzyme Product. Retrieved from https://www.fibre2fashion.com/industry-article/5480/green-revolution-in-textile-processing-by-using-laccases\n",
    "\n",
    "Mayolo-Deloisa, K., González-González, M., & Rito-Palomares, M. (2020). Laccases in Food Industry: Bioprocessing, Potential Industrial and Biotechnological Applications. Frontiers in Bioengineering and Biotechnology, 8. doi:10.3389/fbioe.2020.00222\n",
    "\n",
    "Santo, M., Weitsman, R., & Sivan, A. (2013). The role of the copper-binding enzyme – laccase – in the biodegradation of polyethylene by the actinomycete Rhodococcus ruber. International Biodeterioration & Biodegradation, 84, 204-210. doi:10.1016/j.ibiod.2012.03.001\n",
    "\n",
    "Laccase Market Size - Global Industry Analysis, Market Share, Growth, Trends, Top Countries Analysis & Top manufacturers, Segmentation and Forecast 2026. (2020, September 14). Retrieved from https://www.marketwatch.com/press-release/laccase-market-size---global-industry-analysis-market-share-growth-trends-top-countries-analysis-top-manufacturers-segmentation-and-forecast-2026-2020-09-14\n",
    "\n",
    "Brijwani, K., Rigdon, A., & Vadlani, P. V. (2010). Fungal Laccases: Production, Function, and Applications in Food Processing. Enzyme Research, 2010, 1-10. doi:10.4061/2010/149748\n",
    "\n",
    "Gevorgyan, A., Poolman, M. G., Fell,D. A.,  “Detection of stoichiometric inconsistencies in biomolecular models”, Bioinformatics, Volume 24, Issue 19, 1 October 2008, Pages 2245–2251, https://doi.org/10.1093/bioinformatics/btn425"
   ]
  },
  {
   "cell_type": "code",
   "execution_count": null,
   "metadata": {},
   "outputs": [],
   "source": []
  },
  {
   "cell_type": "markdown",
   "metadata": {},
   "source": [
    "Appendix"
   ]
  },
  {
   "cell_type": "markdown",
   "metadata": {},
   "source": [
    "(1) List of common reaction of E. coli and R.litoralis"
   ]
  },
  {
   "cell_type": "code",
   "execution_count": 1,
   "metadata": {},
   "outputs": [
    {
     "data": {
      "text/plain": [
       "['3HAD100',\n",
       " '3HAD120',\n",
       " '3HAD140',\n",
       " '3HAD141',\n",
       " '3HAD160',\n",
       " '3HAD180',\n",
       " '3OAR100',\n",
       " '3OAR120',\n",
       " '3OAR121',\n",
       " '3OAR140',\n",
       " '3OAR141',\n",
       " '3OAR160',\n",
       " '3OAR161',\n",
       " '3OAR180',\n",
       " '3OAS100',\n",
       " '3OAS121',\n",
       " '3OAS140',\n",
       " '3OAS141',\n",
       " '3OAS160',\n",
       " '3OAS161',\n",
       " '3OAS180',\n",
       " '4HTHRK',\n",
       " 'A5PISO',\n",
       " 'AACPS3',\n",
       " 'AACPS4',\n",
       " 'AACPS9',\n",
       " 'ACACT5r',\n",
       " 'ACACT6r',\n",
       " 'ACACT7r',\n",
       " 'ACCOAC',\n",
       " 'ACGK',\n",
       " 'ACGS',\n",
       " 'ACOAD1f',\n",
       " 'ACOAD5f',\n",
       " 'ACOAD6f',\n",
       " 'ACOAD7f',\n",
       " 'ACOATA',\n",
       " 'ACODA',\n",
       " 'ACONTa',\n",
       " 'ACONTb',\n",
       " 'ACPPAT141',\n",
       " 'ACPPAT160',\n",
       " 'ADD',\n",
       " 'ADSK',\n",
       " 'AGPAT141',\n",
       " 'AGPAT160',\n",
       " 'AGPAT161',\n",
       " 'AGPR',\n",
       " 'AKGDH',\n",
       " 'ALAR',\n",
       " 'AMMQLT8',\n",
       " 'AMPMS2',\n",
       " 'APG3PAT141',\n",
       " 'APG3PAT160',\n",
       " 'ARGSL',\n",
       " 'ARGSS',\n",
       " 'ASNS1',\n",
       " 'ASPO5',\n",
       " 'ATPM',\n",
       " 'ATPPRT',\n",
       " 'BPNT',\n",
       " 'BTS5',\n",
       " 'CBPS',\n",
       " 'CO2tex',\n",
       " 'CO2tpp',\n",
       " 'CPPPGO',\n",
       " 'CS',\n",
       " 'CTECOAI7',\n",
       " 'CTPS2',\n",
       " 'CYSS',\n",
       " 'CYSTL',\n",
       " 'DALAt2pp',\n",
       " 'DAPDC',\n",
       " 'DASYN160',\n",
       " 'DASYN161',\n",
       " 'DHAD2',\n",
       " 'DHNAOT4',\n",
       " 'DHNCOAS',\n",
       " 'DHNCOAT',\n",
       " 'DHNPA2r',\n",
       " 'DHPPDA2',\n",
       " 'DHPS2',\n",
       " 'DRPA',\n",
       " 'DURADx',\n",
       " 'DURIPP',\n",
       " 'DUTPDP',\n",
       " 'E4PD',\n",
       " 'EAR120x',\n",
       " 'EAR121x',\n",
       " 'EAR140y',\n",
       " 'EAR141x',\n",
       " 'EAR160x',\n",
       " 'EAR161x',\n",
       " 'EAR180x',\n",
       " 'ECOAH5',\n",
       " 'ECOAH6',\n",
       " 'ECOAH7',\n",
       " 'EDA',\n",
       " 'EDD',\n",
       " 'ETOHtex',\n",
       " 'ETOHtrpp',\n",
       " 'EX_acald_e',\n",
       " 'EX_ala__D_e',\n",
       " 'EX_arg__L_e',\n",
       " 'EX_etoh_e',\n",
       " 'EX_fe3_e',\n",
       " 'EX_gly_e',\n",
       " 'EX_glyclt_e',\n",
       " 'EX_h2s_e',\n",
       " 'EX_his__L_e',\n",
       " 'EX_lys__L_e',\n",
       " 'EX_meoh_e',\n",
       " 'EX_met__L_e',\n",
       " 'EX_mobd_e',\n",
       " 'EX_nh4_e',\n",
       " 'EX_pheme_e',\n",
       " 'EX_thm_e',\n",
       " 'EX_thr__L_e',\n",
       " 'FACOAE100',\n",
       " 'FACOAE160',\n",
       " 'FACOAE161',\n",
       " 'FBA3',\n",
       " 'FE2tex',\n",
       " 'FLDR2',\n",
       " 'G3PAT161',\n",
       " 'G3PD2',\n",
       " 'G5SADs',\n",
       " 'G5SD',\n",
       " 'GCALDD',\n",
       " 'GLCptspp',\n",
       " 'GLU5K',\n",
       " 'GLYCLTt2rpp',\n",
       " 'GLYCtpp',\n",
       " 'GPDDA4',\n",
       " 'GTHOr',\n",
       " 'GTPCII2',\n",
       " 'H2Otex',\n",
       " 'H2Otpp',\n",
       " 'HACD5',\n",
       " 'HACD6',\n",
       " 'HACD7',\n",
       " 'HBZOPT',\n",
       " 'HISTD',\n",
       " 'HISTP',\n",
       " 'HPPK2',\n",
       " 'HSDy',\n",
       " 'HSK',\n",
       " 'HSTPT',\n",
       " 'I2FE2SR',\n",
       " 'I2FE2SS2',\n",
       " 'I2FE2ST',\n",
       " 'I4FE4SR',\n",
       " 'I4FE4ST',\n",
       " 'ICDHyr',\n",
       " 'ICYSDS',\n",
       " 'IG3PS',\n",
       " 'IGPDH',\n",
       " 'ILETA',\n",
       " 'IPDDI',\n",
       " 'IPDPS',\n",
       " 'K2L4Aabcpp',\n",
       " 'K2L4Aabctex',\n",
       " 'KAS14',\n",
       " 'KDOCT2',\n",
       " 'KDOPP',\n",
       " 'KDOPS',\n",
       " 'Kt2pp',\n",
       " 'Ktex',\n",
       " 'LEUTAi',\n",
       " 'LPADSS',\n",
       " 'LPLIPAL2G141',\n",
       " 'MALS',\n",
       " 'MCTP1App',\n",
       " 'MECDPDH5',\n",
       " 'MEOHtex',\n",
       " 'MEOHtrpp',\n",
       " 'METS',\n",
       " 'MG2tex',\n",
       " 'MI1PP',\n",
       " 'MMM',\n",
       " 'MNtex',\n",
       " 'MOAT',\n",
       " 'MOAT2',\n",
       " 'MOBDabcpp',\n",
       " 'MOBDtex',\n",
       " 'MPTG',\n",
       " 'MTHFR2',\n",
       " 'NADH16pp',\n",
       " 'NADH17pp',\n",
       " 'NAtex',\n",
       " 'NH4tex',\n",
       " 'NH4tpp',\n",
       " 'NI2tex',\n",
       " 'NTD1',\n",
       " 'O2tpp',\n",
       " 'OHPBAT',\n",
       " 'OPHBDC',\n",
       " 'P5CR',\n",
       " 'PA141abcpp',\n",
       " 'PAPSR',\n",
       " 'PDH',\n",
       " 'PDX5PS',\n",
       " 'PE160abcpp',\n",
       " 'PE161abcpp',\n",
       " 'PERD',\n",
       " 'PG141abcpp',\n",
       " 'PGCD',\n",
       " 'PGMT',\n",
       " 'PHEMEabcpp',\n",
       " 'PHEMEtiex',\n",
       " 'PItex',\n",
       " 'PMPK',\n",
       " 'PPC',\n",
       " 'PPM2',\n",
       " 'PPNCL2',\n",
       " 'PRAMPC',\n",
       " 'PRATPP',\n",
       " 'PRMICI',\n",
       " 'PRPPS',\n",
       " 'PSD160',\n",
       " 'PSD161',\n",
       " 'PSERT',\n",
       " 'PSP_L',\n",
       " 'PSSA160',\n",
       " 'PSSA161',\n",
       " 'PTAr',\n",
       " 'RNDR4',\n",
       " 'RNTR2c2',\n",
       " 'RNTR3c2',\n",
       " 'RNTR4c2',\n",
       " 'S2FE2ST',\n",
       " 'S4FE4ST',\n",
       " 'SADT2',\n",
       " 'SERAT',\n",
       " 'SHCHD2',\n",
       " 'SHCHF',\n",
       " 'SHSL1',\n",
       " 'SO4tex',\n",
       " 'SUCDi',\n",
       " 'T2DECAI',\n",
       " 'TDSK',\n",
       " 'THRS',\n",
       " 'THZPSN3',\n",
       " 'TMDS',\n",
       " 'TMK',\n",
       " 'TMPPP',\n",
       " 'TRDR',\n",
       " 'TRPS1',\n",
       " 'TRPS3',\n",
       " 'TYRL',\n",
       " 'U23GAAT',\n",
       " 'UAGAAT',\n",
       " 'UHGADA',\n",
       " 'UPP3MT',\n",
       " 'USHD',\n",
       " 'Zn2tex']"
      ]
     },
     "execution_count": 1,
     "metadata": {},
     "output_type": "execute_result"
    }
   ],
   "source": [
    "['3HAD100', '3HAD120', '3HAD140', '3HAD141', '3HAD160', '3HAD180', '3OAR100', '3OAR120', '3OAR121', '3OAR140', '3OAR141', \n",
    " '3OAR160', '3OAR161', '3OAR180', '3OAS100', '3OAS121', '3OAS140', '3OAS141', '3OAS160', '3OAS161', '3OAS180', '4HTHRK', \n",
    " 'A5PISO', 'AACPS3', 'AACPS4', 'AACPS9', 'ACACT5r', 'ACACT6r', 'ACACT7r', 'ACCOAC', 'ACGK', 'ACGS', 'ACOAD1f', 'ACOAD5f',\n",
    " 'ACOAD6f', 'ACOAD7f', 'ACOATA', 'ACODA', 'ACONTa', 'ACONTb', 'ACPPAT141', 'ACPPAT160', 'ADD', 'ADSK', 'AGPAT141', 'AGPAT160',\n",
    " 'AGPAT161', 'AGPR', 'AKGDH', 'ALAR', 'AMMQLT8', 'AMPMS2', 'APG3PAT141', 'APG3PAT160', 'ARGSL', 'ARGSS', 'ASNS1', 'ASPO5', \n",
    " 'ATPM', 'ATPPRT', 'BPNT', 'BTS5', 'CBPS', 'CO2tex', 'CO2tpp', 'CPPPGO', 'CS', 'CTECOAI7', 'CTPS2', 'CYSS', 'CYSTL', 'DALAt2pp',\n",
    " 'DAPDC', 'DASYN160', 'DASYN161', 'DHAD2', 'DHNAOT4', 'DHNCOAS', 'DHNCOAT', 'DHNPA2r', 'DHPPDA2', 'DHPS2', 'DRPA', 'DURADx', \n",
    " 'DURIPP', 'DUTPDP', 'E4PD', 'EAR120x', 'EAR121x', 'EAR140y', 'EAR141x', 'EAR160x', 'EAR161x', 'EAR180x', 'ECOAH5', 'ECOAH6',\n",
    " 'ECOAH7', 'EDA', 'EDD', 'ETOHtex', 'ETOHtrpp', 'EX_acald_e', 'EX_ala__D_e', 'EX_arg__L_e', 'EX_etoh_e', 'EX_fe3_e', 'EX_gly_e',\n",
    " 'EX_glyclt_e', 'EX_h2s_e', 'EX_his__L_e', 'EX_lys__L_e', 'EX_meoh_e', 'EX_met__L_e', 'EX_mobd_e', 'EX_nh4_e', 'EX_pheme_e', \n",
    " 'EX_thm_e', 'EX_thr__L_e', 'FACOAE100', 'FACOAE160', 'FACOAE161', 'FBA3', 'FE2tex', 'FLDR2', 'G3PAT161', 'G3PD2', 'G5SADs',\n",
    " 'G5SD', 'GCALDD', 'GLCptspp', 'GLU5K', 'GLYCLTt2rpp', 'GLYCtpp', 'GPDDA4', 'GTHOr', 'GTPCII2', 'H2Otex', 'H2Otpp', 'HACD5', \n",
    " 'HACD6', 'HACD7', 'HBZOPT', 'HISTD', 'HISTP', 'HPPK2', 'HSDy', 'HSK', 'HSTPT', 'I2FE2SR', 'I2FE2SS2', 'I2FE2ST', 'I4FE4SR',\n",
    " 'I4FE4ST', 'ICDHyr', 'ICYSDS', 'IG3PS', 'IGPDH', 'ILETA', 'IPDDI', 'IPDPS', 'K2L4Aabcpp', 'K2L4Aabctex', 'KAS14', 'KDOCT2',\n",
    " 'KDOPP', 'KDOPS', 'Kt2pp', 'Ktex', 'LEUTAi', 'LPADSS', 'LPLIPAL2G141', 'MALS', 'MCTP1App', 'MECDPDH5', 'MEOHtex', 'MEOHtrpp',\n",
    " 'METS', 'MG2tex', 'MI1PP', 'MMM', 'MNtex', 'MOAT', 'MOAT2', 'MOBDabcpp', 'MOBDtex', 'MPTG', 'MTHFR2', 'NADH16pp', 'NADH17pp',\n",
    " 'NAtex', 'NH4tex', 'NH4tpp', 'NI2tex', 'NTD1', 'O2tpp', 'OHPBAT', 'OPHBDC', 'P5CR', 'PA141abcpp', 'PAPSR', 'PDH', 'PDX5PS', \n",
    " 'PE160abcpp', 'PE161abcpp', 'PERD', 'PG141abcpp', 'PGCD', 'PGMT', 'PHEMEabcpp', 'PHEMEtiex', 'PItex', 'PMPK', 'PPC', 'PPM2', \n",
    " 'PPNCL2', 'PRAMPC', 'PRATPP', 'PRMICI', 'PRPPS', 'PSD160', 'PSD161', 'PSERT', 'PSP_L', 'PSSA160', 'PSSA161', 'PTAr', 'RNDR4',\n",
    " 'RNTR2c2', 'RNTR3c2', 'RNTR4c2', 'S2FE2ST', 'S4FE4ST', 'SADT2', 'SERAT', 'SHCHD2', 'SHCHF', 'SHSL1', 'SO4tex', 'SUCDi', \n",
    " 'T2DECAI', 'TDSK', 'THRS', 'THZPSN3', 'TMDS', 'TMK', 'TMPPP', 'TRDR', 'TRPS1', 'TRPS3', 'TYRL', 'U23GAAT', 'UAGAAT', 'UHGADA',\n",
    " 'UPP3MT', 'USHD', 'Zn2tex']"
   ]
  },
  {
   "cell_type": "markdown",
   "metadata": {},
   "source": [
    "(2) List of uncoserved metabolites\n",
    "\"h2_e\",\"h2_c\",\"h2_p\",\"h_p\",\"h_e\",\"h_c\""
   ]
  }
 ],
 "metadata": {
  "kernelspec": {
   "display_name": "python3.6",
   "language": "python",
   "name": "python3.6"
  },
  "language_info": {
   "codemirror_mode": {
    "name": "ipython",
    "version": 3
   },
   "file_extension": ".py",
   "mimetype": "text/x-python",
   "name": "python",
   "nbconvert_exporter": "python",
   "pygments_lexer": "ipython3",
   "version": "3.6.12"
  }
 },
 "nbformat": 4,
 "nbformat_minor": 4
}
