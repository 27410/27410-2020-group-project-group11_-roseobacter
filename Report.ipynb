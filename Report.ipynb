{
 "cells": [
  {
   "cell_type": "markdown",
   "metadata": {},
   "source": [
    "# Reconstuction of a GSM for *Roseobacter litoralis* and laccase production"
   ]
  },
  {
   "cell_type": "markdown",
   "metadata": {},
   "source": [
    "## 1. Introduction"
   ]
  },
  {
   "cell_type": "markdown",
   "metadata": {},
   "source": [
    "### 1.1 Literature review of laccase"
   ]
  },
  {
   "cell_type": "markdown",
   "metadata": {},
   "source": [
    "The enzyme laccase belongs to the group of multi-copper oxidase, it contains four copper ions and naturally occurs in fungi, bacteria and plants. When catalysing a reaction it requires molecular oxygen as a co-substrate and produces only water as a by-product, making it eco-friendly and thus scientifically interesting (Brijwani et al. 2010). It raises further interest by its wide range of applications in various industies including the food, pharma and textile industry. The use of laccase in these industies are summarized in table XX. "
   ]
  },
  {
   "cell_type": "markdown",
   "metadata": {},
   "source": [
    "\n",
    "\n",
    "|Industry | example |\n",
    "| --- | --- |\n",
    "| Food | Beer production:|\n",
    "|       |-Removal of oxygen in finished beer|\n",
    "|      |Baking:|\n",
    "|      |-increase strength and stability of the dough|\n",
    "|      |Wine production:|\n",
    "|      |- selective polyphenol removal|\n",
    "| Pharma | Developments of:|\n",
    "|            |-Antibiotics|\n",
    "|           |-Anticancer drugs|\n",
    "|           |-Melanin synthesis|\n",
    "|           |-Sedatives |\n",
    "| Textile | Used in the following processes:|\n",
    "|          | -Bleaching|\n",
    "|          | -Dyeing|\n",
    "|          |-Printing|\n",
    "|          |-Wash off treatment|\n",
    "|           |-Finishing |\n",
    "\n",
    "\n",
    "<div align=\"center\">\n",
    "Table 1: Application of laccase in different industries.\n",
    "<div align=\"center\">    \n",
    "Mayolo-Deloisa et al. 2020, Chaurasia et al. 2017, Garje et al. 2020   \n",
    "</div>\n",
    "\n",
    "\n",
    "\n"
   ]
  },
  {
   "cell_type": "markdown",
   "metadata": {},
   "source": [
    "One property of laccase which might be especially interesting for future application is its major role in the degradation of polyethylene (Santo et al. 2013). With plastic polluting the oceans and landscapes, a natural path to degrade this pollutant would be a breakthrough in environmental biotechnology.\n",
    "\n",
    "Due to the application of laccase in the food, textile and pharma industry the global laccase market size in 2020 is 2947.7 million USD. In the textile industry alternative enzymes have been found to be applicable which causes a decreasing market size projection with a value of 2850 million USD in 2026 (Laccase Market Size et al. 2020). The introduction of new applications of laccase could cause the increase of the laccase market size in the next few years.\n",
    "\n",
    "Though laccase can be found in fungi, bacteria and plant cells, it is best researched in fungi. Laccase is an extracellular enzyme which is produced as a secondary metabolite in filamentous fungi. The gene for laccase expression has been successfully cloned and heterologously expressed in organisms such as Aspergillus Niger, Aspergillus oryzae, and Trichoderma reesei (Brijwani et al. 2010)."
   ]
  },
  {
   "cell_type": "markdown",
   "metadata": {},
   "source": [
    "### 1.2 Literature review of the cell factory (<500 words)"
   ]
  },
  {
   "cell_type": "markdown",
   "metadata": {},
   "source": [
    "*Roseobacter litoralis* can be found in a wide range of marine habitats, from open ocean to coastal areas and can be isolated from seaweed. *R. litoralis* require a saline environment and is able to perform aerobic anoxygenic photosynthesis. (Martens et al., 2007, Kalhoefer et al., 2011) It can grow on a broad number of different carbon sources and use many different nitrogen sources.(Martens et al., 2007) Its high tolerance to saline stress makes it an interesting cell factory for bioremediation of plastic waste by introducing a laccase producing pathway. Furthermore, its genome shows several potential heavy metal resistance genes which could also be considered as an advantage in bioremediation. Because of Rosebacters very diverse metabolism it can be considered for genetic engineering. *Roseobacter litoralis* has already been described as a producer of secondary metabolites like antibiotics (Martens et al., 2007; Brock et al., 2014; Wang et al., 2016b) and a few techniques for how to manipulate its genome have been developed. (Borg et al., 2016; Tang et al., 2016) However, compared to other chassis, *Roseobacter litoralis* is an quite unstudied cell factory with no genomic scale model or metabolic flux analysis. This is why it could be considered to genetically manipulate an well-studied organism so that it shows a high tolerance to saline stress and then introduce the pathway to produce laccase."
   ]
  },
  {
   "cell_type": "markdown",
   "metadata": {},
   "source": [
    "## 2. Problem definition (<300 words)"
   ]
  },
  {
   "cell_type": "markdown",
   "metadata": {},
   "source": [
    "The aim of this project is to reconstruct a new genome-scale model (GSM) for *Rosebacter litoralis*. This includes medium optimization and model validation based on experimental data found in the literature. \n",
    "Furthermore, will the pathway for the production of laccase be introduced and optimized in *R. litoralis* for bioremediation of plastics in marine ecosystems. "
   ]
  },
  {
   "cell_type": "markdown",
   "metadata": {},
   "source": [
    "## 3. Reconstruction of a new GSM for your cell factory host of interest (<1500 words)"
   ]
  },
  {
   "cell_type": "markdown",
   "metadata": {},
   "source": [
    "We started by using carveme to create a draft genome scale model of *Roseobacter litoralis* B14 from the genome database in NCBI and used LB for gapfilling. This process is seen in the [GSM](GSM.ipynb) file."
   ]
  },
  {
   "cell_type": "markdown",
   "metadata": {},
   "source": [
    "### 3.1 Memote analysis"
   ]
  },
  {
   "cell_type": "markdown",
   "metadata": {},
   "source": [
    "To analyse the performance of the model, we tested it using Memote. The results are summarized in the [Memote report](Memote_Roseobacter-litoralis-strain-B14.html).\n",
    "\n",
    "The total score of the Memote analysis is 22%, the included sections can be found in table 2."
   ]
  },
  {
   "cell_type": "markdown",
   "metadata": {},
   "source": [
    "|Section | Score |\n",
    "|--- | --- |\n",
    "| Consisentcy | 47% |\n",
    "| Annotation of reactions | 25% |\n",
    "| Annotation of metabolites | 25% |\n",
    "| Annotation of Genes | 0% |\n",
    "| Annotation of SBO Terms | 0% |\n",
    "|Total Score | 22%|\n",
    "\n",
    "<div align=\"center\">\n",
    "Table 2: Sections and corresponding scores from Memote analysis.   \n",
    "</div>"
   ]
  },
  {
   "cell_type": "markdown",
   "metadata": {},
   "source": [
    "Since the model was not annotated, meaning, no cross-refernces to other databases where established, all annotations per database are 0%. Due to the lack of annotations of metabolites and reactions imported from different databases, no problems in terms of uniformity of the identifiers will occur, hence the percentage of “Uniform Identifier Namespace” for reactions and metabolites are 100%.\n",
    "\n",
    "In the section “Consistency”, the model shows good results in terms of “Charge Balance” and “Metabolite Connectivity”, meaning that almost all reactions are charge balanced and all occurring metabolites are part of a reaction.\n",
    "\n",
    "The model needs improvement In terms of “Mass Balance”, since more that 40% of the reactions are not mass balanced. Further improvements are required to reduce the reactions that carry out “Unbound fluxes under default model conditions”. Indicating a lack of accounting for co-factors, incorrect definition of transport directions and thus causing fluxes to operate at the maximum or minimum level. Balanced reactions and bound fluxes are important to reliably predict the yield of the target product.\n",
    "\n",
    "In the section “Basic Information” it is reported that a total of 1111 genes are implemented in our model, while according to NCBI a total of 4755 coding genes exist. Those genes, not expressed in our model could be the metabolites missing to increase the performance of our model in the section “consistency”.\n",
    "\n",
    "Additionally, the model has a total of 1483 metabolites participating in 2139 reactions, located in 3 compartments: the cytosol, the periplasm and in the extracellular space.\n",
    "\n",
    "The “Metabolic Coverage” is 1.9 and thus above 1, which according to memote labels the model to be of high detail. Furthermore, there are six unconserved metabolites, meaning that their net stoichiometries are inconsistent, resulting in a negative mass in a maximal conservation vector (Gevorgyan et al. 2008). A list of these can be found in the appendix."
   ]
  },
  {
   "cell_type": "markdown",
   "metadata": {},
   "source": [
    "### 3.2 Escher Map"
   ]
  },
  {
   "cell_type": "markdown",
   "metadata": {},
   "source": [
    "In order to visualize the reactions in our model, we loaded the Roseobacter litoralis model into the map of the core metabolism of E.Coli using Escher Builder. In the [Escher map](example_map.html), the reactions highlighted in red do not overlap between the Roseobacter model and the E. Coli core metabolism. The map gave us an overview which and how many reactions in the Rosebacter litoralis core metabolism differ from the E. Coli core metabolism.  "
   ]
  },
  {
   "cell_type": "markdown",
   "metadata": {},
   "source": [
    "### 3.3 Suggested experiments"
   ]
  },
  {
   "cell_type": "markdown",
   "metadata": {},
   "source": [
    "As the amount of experimental data of *Roseobacter litoralis* is lacking, it has been difficult to improve our GSM model. The next step for improving the GSM in the future is therefore more experimental data for this organism. Some useful experiments are: \\\n",
    "•Flux analysis as 13C-MFA \\\n",
    "•Growth rates in minimal medium \\\n",
    "•Determination of the biomass composition\n",
    "\n",
    "The metabolic flux analysis can be used to validate and reconstruct the present model by changing the bound values. Growth rates in minimal medium rather than LB, will make it easier to validate the model, since the medium composition will be known. Determining the biomass composition will improve the model and make calculations including biomass formation or depletion more accurate.\n"
   ]
  },
  {
   "cell_type": "markdown",
   "metadata": {},
   "source": [
    "### 3.4 Medium Optimization"
   ]
  },
  {
   "cell_type": "markdown",
   "metadata": {},
   "source": [
    "In order to adjust our model to the experimental date available, we compared our maximal growth rate (see [GSM](GSM.ipynb) file) to the one found by Pierkarski et al. and we saw that our growth rate is much higher than the value found in the literature (0.69 hr^-1 compared to 0.27 hr^-1). This is why in [Medium optimization](MediumOptimization.ipynb)  we coded a loop which reduces all the exchange reactions except for glucose stepwise and calculated the corresponding growth rates. A plot of the levels of the upper bound of the exchange reactions over the growth rate can be seen in figure 1.  It was found that in order to reach a growth rate of 0.27 hr^-1 all exchange reactions must be set to an upper bound of 2.5 \n",
    "As a next step, we wanted to find the limiting factors for the growth. So, we set all of the exchange reactions back to their default values one at a time and compared their corresponding growth rates to the ones obtained before. It was found that oxygen is the limiting factor since only when increasing oxygen the growth rate increases significantly (0.274 hr^-1 compared to 0.666 hr^-1). It is apparent that an increase in the glucose exchange level leads to an increased growth as glucose is the main carbon source. Fe(III) was also found to lead to an slightly increased growth rate, but since it is too small to be limiting it can be neglected. We also found that our R. litoralis model grows anaerobically with a growth rate of 0.14 hr^-1."
   ]
  },
  {
   "cell_type": "markdown",
   "metadata": {},
   "source": [
    "\n",
    "\n",
    "![title><](Growthrateplot.png)\n",
    "<div align=\"center\">\n",
    "Figure 1: Medium exchange reactions set over obtained growth rates."
   ]
  },
  {
   "cell_type": "markdown",
   "metadata": {},
   "source": [
    "### 3.5 Model Validation"
   ]
  },
  {
   "cell_type": "markdown",
   "metadata": {},
   "source": [
    "#### 3.5.1 Paper with N and C sources"
   ]
  },
  {
   "cell_type": "markdown",
   "metadata": {},
   "source": [
    "As mentioned earlier it has been a challenge to find experimental data concerning *R. litoralis* in the literature. Yet we did find a rather useful substrate test, which included 55 different carbon sources, 12 different nitrogen sources and 1 sulfur source. (Kalhoefer et al., 2011) This data can be used for validating our reconstructed GSM of *R. litoralis*. If our model is good it should be able to grow on the same substrate sources as illustrated in the paper, whereas if our model is deficient this would result in a lack of growth. \\\n",
    "Prior to the substrate test Kalhoefer et al. characterized the genome of *Roseobacter litoralis* OCh149. The purpose was to compare it with other Roseobacter e.g., *R. denitrificans* OCh114, which genome was already known. In addition, they also tried to predict which substrates *R. litoralis* would be able to grow on, before conducting the experimental data, based on the degradation pathways presence in the genome. After measuring the OD600 value of *R. litoralis* on the selected substrates, they assigned every substrate one out of five signs, to indicate which range the OD600 value belonged to.  "
   ]
  },
  {
   "cell_type": "markdown",
   "metadata": {},
   "source": [
    "#### 3.5.2 Model validation with Carbon source experiments"
   ]
  },
  {
   "cell_type": "markdown",
   "metadata": {},
   "source": [
    "Bla bla bla, loops were made which can be found in the [model validation](ModelValidation.ipynb) file."
   ]
  },
  {
   "cell_type": "code",
   "execution_count": 1,
   "metadata": {},
   "outputs": [
    {
     "data": {
      "text/html": [
       "<div>\n",
       "<style scoped>\n",
       "    .dataframe tbody tr th:only-of-type {\n",
       "        vertical-align: middle;\n",
       "    }\n",
       "\n",
       "    .dataframe tbody tr th {\n",
       "        vertical-align: top;\n",
       "    }\n",
       "\n",
       "    .dataframe thead th {\n",
       "        text-align: right;\n",
       "    }\n",
       "</style>\n",
       "<table border=\"1\" class=\"dataframe\">\n",
       "  <thead>\n",
       "    <tr style=\"text-align: right;\">\n",
       "      <th></th>\n",
       "      <th>Carbon source</th>\n",
       "      <th>Growth in experiment</th>\n",
       "      <th>Growth in model</th>\n",
       "    </tr>\n",
       "  </thead>\n",
       "  <tbody>\n",
       "    <tr>\n",
       "      <th>0</th>\n",
       "      <td>L-Alanine</td>\n",
       "      <td>Yes</td>\n",
       "      <td>Yes</td>\n",
       "    </tr>\n",
       "    <tr>\n",
       "      <th>1</th>\n",
       "      <td>L-Arginine</td>\n",
       "      <td>Yes</td>\n",
       "      <td>Yes</td>\n",
       "    </tr>\n",
       "    <tr>\n",
       "      <th>2</th>\n",
       "      <td>L-Aspartate</td>\n",
       "      <td>Yes</td>\n",
       "      <td>Yes</td>\n",
       "    </tr>\n",
       "    <tr>\n",
       "      <th>3</th>\n",
       "      <td>L-Glutamate</td>\n",
       "      <td>No</td>\n",
       "      <td>Yes</td>\n",
       "    </tr>\n",
       "    <tr>\n",
       "      <th>4</th>\n",
       "      <td>L-Glutamine</td>\n",
       "      <td>Yes</td>\n",
       "      <td>Yes</td>\n",
       "    </tr>\n",
       "    <tr>\n",
       "      <th>5</th>\n",
       "      <td>Glycine</td>\n",
       "      <td>Yes</td>\n",
       "      <td>Yes</td>\n",
       "    </tr>\n",
       "    <tr>\n",
       "      <th>6</th>\n",
       "      <td>L-Histidine</td>\n",
       "      <td>Yes</td>\n",
       "      <td>Yes</td>\n",
       "    </tr>\n",
       "    <tr>\n",
       "      <th>7</th>\n",
       "      <td>L-Isoleucine</td>\n",
       "      <td>No</td>\n",
       "      <td>No</td>\n",
       "    </tr>\n",
       "    <tr>\n",
       "      <th>8</th>\n",
       "      <td>L-Leucine</td>\n",
       "      <td>No</td>\n",
       "      <td>No</td>\n",
       "    </tr>\n",
       "    <tr>\n",
       "      <th>9</th>\n",
       "      <td>L-Lysine</td>\n",
       "      <td>No</td>\n",
       "      <td>Yes</td>\n",
       "    </tr>\n",
       "    <tr>\n",
       "      <th>10</th>\n",
       "      <td>L-Methionine</td>\n",
       "      <td>No</td>\n",
       "      <td>No</td>\n",
       "    </tr>\n",
       "    <tr>\n",
       "      <th>11</th>\n",
       "      <td>Ornithine</td>\n",
       "      <td>Yes</td>\n",
       "      <td>Yes</td>\n",
       "    </tr>\n",
       "    <tr>\n",
       "      <th>12</th>\n",
       "      <td>L-Proline</td>\n",
       "      <td>Yes</td>\n",
       "      <td>Yes</td>\n",
       "    </tr>\n",
       "    <tr>\n",
       "      <th>13</th>\n",
       "      <td>D-Serine</td>\n",
       "      <td>Yes</td>\n",
       "      <td>Yes</td>\n",
       "    </tr>\n",
       "    <tr>\n",
       "      <th>14</th>\n",
       "      <td>L-Threonine</td>\n",
       "      <td>Yes</td>\n",
       "      <td>Yes</td>\n",
       "    </tr>\n",
       "    <tr>\n",
       "      <th>15</th>\n",
       "      <td>L-Valine</td>\n",
       "      <td>No</td>\n",
       "      <td>No</td>\n",
       "    </tr>\n",
       "    <tr>\n",
       "      <th>16</th>\n",
       "      <td>Cellobiose</td>\n",
       "      <td>No</td>\n",
       "      <td>Yes</td>\n",
       "    </tr>\n",
       "    <tr>\n",
       "      <th>17</th>\n",
       "      <td>D Arabinose C5H10O5</td>\n",
       "      <td>No</td>\n",
       "      <td>No</td>\n",
       "    </tr>\n",
       "    <tr>\n",
       "      <th>18</th>\n",
       "      <td>L-Arabinose</td>\n",
       "      <td>No</td>\n",
       "      <td>Yes</td>\n",
       "    </tr>\n",
       "    <tr>\n",
       "      <th>19</th>\n",
       "      <td>D-Fructose</td>\n",
       "      <td>Yes</td>\n",
       "      <td>Yes</td>\n",
       "    </tr>\n",
       "    <tr>\n",
       "      <th>20</th>\n",
       "      <td>L-Fucose</td>\n",
       "      <td>Yes</td>\n",
       "      <td>Yes</td>\n",
       "    </tr>\n",
       "    <tr>\n",
       "      <th>21</th>\n",
       "      <td>D-Galactose</td>\n",
       "      <td>Yes</td>\n",
       "      <td>Yes</td>\n",
       "    </tr>\n",
       "    <tr>\n",
       "      <th>22</th>\n",
       "      <td>D-Glucosamine</td>\n",
       "      <td>Yes</td>\n",
       "      <td>No</td>\n",
       "    </tr>\n",
       "    <tr>\n",
       "      <th>23</th>\n",
       "      <td>D-Glucose</td>\n",
       "      <td>No</td>\n",
       "      <td>Yes</td>\n",
       "    </tr>\n",
       "    <tr>\n",
       "      <th>24</th>\n",
       "      <td>Lactose</td>\n",
       "      <td>No</td>\n",
       "      <td>Yes</td>\n",
       "    </tr>\n",
       "    <tr>\n",
       "      <th>25</th>\n",
       "      <td>D-Lactate</td>\n",
       "      <td>Yes</td>\n",
       "      <td>Yes</td>\n",
       "    </tr>\n",
       "    <tr>\n",
       "      <th>26</th>\n",
       "      <td>L-Lactate</td>\n",
       "      <td>Yes</td>\n",
       "      <td>Yes</td>\n",
       "    </tr>\n",
       "    <tr>\n",
       "      <th>27</th>\n",
       "      <td>Maltose</td>\n",
       "      <td>No</td>\n",
       "      <td>Yes</td>\n",
       "    </tr>\n",
       "    <tr>\n",
       "      <th>28</th>\n",
       "      <td>D-Mannitol</td>\n",
       "      <td>Yes</td>\n",
       "      <td>Yes</td>\n",
       "    </tr>\n",
       "    <tr>\n",
       "      <th>29</th>\n",
       "      <td>D-Mannose</td>\n",
       "      <td>Yes</td>\n",
       "      <td>Yes</td>\n",
       "    </tr>\n",
       "    <tr>\n",
       "      <th>30</th>\n",
       "      <td>Melibiose</td>\n",
       "      <td>Yes</td>\n",
       "      <td>Yes</td>\n",
       "    </tr>\n",
       "    <tr>\n",
       "      <th>31</th>\n",
       "      <td>L-Rhamnose</td>\n",
       "      <td>Yes</td>\n",
       "      <td>Yes</td>\n",
       "    </tr>\n",
       "    <tr>\n",
       "      <th>32</th>\n",
       "      <td>D-Ribose</td>\n",
       "      <td>Yes</td>\n",
       "      <td>Yes</td>\n",
       "    </tr>\n",
       "    <tr>\n",
       "      <th>33</th>\n",
       "      <td>Sucrose</td>\n",
       "      <td>No</td>\n",
       "      <td>Yes</td>\n",
       "    </tr>\n",
       "    <tr>\n",
       "      <th>34</th>\n",
       "      <td>D-Sorbitol</td>\n",
       "      <td>No</td>\n",
       "      <td>Yes</td>\n",
       "    </tr>\n",
       "    <tr>\n",
       "      <th>35</th>\n",
       "      <td>Trehalose</td>\n",
       "      <td>No</td>\n",
       "      <td>Yes</td>\n",
       "    </tr>\n",
       "    <tr>\n",
       "      <th>36</th>\n",
       "      <td>D-Xylose</td>\n",
       "      <td>Yes</td>\n",
       "      <td>Yes</td>\n",
       "    </tr>\n",
       "    <tr>\n",
       "      <th>37</th>\n",
       "      <td>Choline</td>\n",
       "      <td>Yes</td>\n",
       "      <td>No</td>\n",
       "    </tr>\n",
       "    <tr>\n",
       "      <th>38</th>\n",
       "      <td>Glycine betaine</td>\n",
       "      <td>Yes</td>\n",
       "      <td>No</td>\n",
       "    </tr>\n",
       "    <tr>\n",
       "      <th>39</th>\n",
       "      <td>Putrescine</td>\n",
       "      <td>Yes</td>\n",
       "      <td>Yes</td>\n",
       "    </tr>\n",
       "    <tr>\n",
       "      <th>40</th>\n",
       "      <td>Taurine</td>\n",
       "      <td>No</td>\n",
       "      <td>No</td>\n",
       "    </tr>\n",
       "    <tr>\n",
       "      <th>41</th>\n",
       "      <td>Ethanol</td>\n",
       "      <td>Yes</td>\n",
       "      <td>Yes</td>\n",
       "    </tr>\n",
       "    <tr>\n",
       "      <th>42</th>\n",
       "      <td>Glycerol</td>\n",
       "      <td>Yes</td>\n",
       "      <td>Yes</td>\n",
       "    </tr>\n",
       "  </tbody>\n",
       "</table>\n",
       "</div>"
      ],
      "text/plain": [
       "          Carbon source Growth in experiment Growth in model\n",
       "0             L-Alanine                  Yes             Yes\n",
       "1            L-Arginine                  Yes             Yes\n",
       "2           L-Aspartate                  Yes             Yes\n",
       "3           L-Glutamate                   No             Yes\n",
       "4           L-Glutamine                  Yes             Yes\n",
       "5               Glycine                  Yes             Yes\n",
       "6           L-Histidine                  Yes             Yes\n",
       "7          L-Isoleucine                   No              No\n",
       "8             L-Leucine                   No              No\n",
       "9              L-Lysine                   No             Yes\n",
       "10         L-Methionine                   No              No\n",
       "11            Ornithine                  Yes             Yes\n",
       "12            L-Proline                  Yes             Yes\n",
       "13             D-Serine                  Yes             Yes\n",
       "14          L-Threonine                  Yes             Yes\n",
       "15             L-Valine                   No              No\n",
       "16           Cellobiose                   No             Yes\n",
       "17  D Arabinose C5H10O5                   No              No\n",
       "18          L-Arabinose                   No             Yes\n",
       "19           D-Fructose                  Yes             Yes\n",
       "20             L-Fucose                  Yes             Yes\n",
       "21          D-Galactose                  Yes             Yes\n",
       "22        D-Glucosamine                  Yes              No\n",
       "23            D-Glucose                   No             Yes\n",
       "24              Lactose                   No             Yes\n",
       "25            D-Lactate                  Yes             Yes\n",
       "26            L-Lactate                  Yes             Yes\n",
       "27              Maltose                   No             Yes\n",
       "28           D-Mannitol                  Yes             Yes\n",
       "29            D-Mannose                  Yes             Yes\n",
       "30            Melibiose                  Yes             Yes\n",
       "31           L-Rhamnose                  Yes             Yes\n",
       "32             D-Ribose                  Yes             Yes\n",
       "33              Sucrose                   No             Yes\n",
       "34           D-Sorbitol                   No             Yes\n",
       "35            Trehalose                   No             Yes\n",
       "36             D-Xylose                  Yes             Yes\n",
       "37              Choline                  Yes              No\n",
       "38      Glycine betaine                  Yes              No\n",
       "39           Putrescine                  Yes             Yes\n",
       "40              Taurine                   No              No\n",
       "41              Ethanol                  Yes             Yes\n",
       "42             Glycerol                  Yes             Yes"
      ]
     },
     "execution_count": 1,
     "metadata": {},
     "output_type": "execute_result"
    }
   ],
   "source": [
    "import pandas as pd\n",
    "\n",
    "pd.read_csv(\"growthcsources.csv\")\n",
    "\n"
   ]
  },
  {
   "cell_type": "markdown",
   "metadata": {},
   "source": [
    "<div align=\"center\">\n",
    "Table 3: Different carbonsources and if growth of R. litoralis is possible experimentally vs. in our model.\n",
    "</div>"
   ]
  },
  {
   "cell_type": "markdown",
   "metadata": {},
   "source": [
    "##### Confusion matrix"
   ]
  },
  {
   "cell_type": "markdown",
   "metadata": {},
   "source": [
    "A confusion matrix consits of:\\\n",
    "TP: The true positives in which the experiments suggested that Roseobacter grows on the tested carbon source, and where the model also predicted growth.\\\n",
    "FP: The false positive where the experiments suggested that Roseobacter does not grow on the tested carbon source, but the model predicted that it would grow.\\\n",
    "FN: The false negative results where the experiments suggested that Roseobacter grows on the tested carbon source, but the model did not predict growth.\\\n",
    "TN: The true negative results, where the experiments nor the model prediction suggested growth on the carbon source"
   ]
  },
  {
   "cell_type": "markdown",
   "metadata": {},
   "source": [
    "From these values of TP, FP, FN & TN, several different measures of model prediction performance can be computed."
   ]
  },
  {
   "cell_type": "markdown",
   "metadata": {},
   "source": [
    "The precision is calculated as the true positives divided by all positive model predictions. It is a measure of how likely a positive prediction is to be true. In the case of our model, the precision is 0.70, which means that in 70% of the cases that our model gave a positive result, the experimental result was also positive."
   ]
  },
  {
   "cell_type": "markdown",
   "metadata": {},
   "source": [
    "The negative predictive value is the same as the precision, but for the negative results, i.e. it is a measure of how likely a negative prediction is to be true. In our case it is 0.67."
   ]
  },
  {
   "cell_type": "markdown",
   "metadata": {},
   "source": [
    "The sensitivity is the ratio of positive experimental results detected correctly by the model. In our case it is 0.88, which is quite high, and suggests that the model does quite well with detecting positive results"
   ]
  },
  {
   "cell_type": "markdown",
   "metadata": {},
   "source": [
    "The specificity is the ratio of negative experimental results detected correcty by the model. In our case it is only 0.38, which is really low, and suggest that in only 40% of the cases, the model can correctly detect a negative result. This means that our model have a pretty high rate of false positive results, and predicts growth on a lot of carbon sources that it should not be able to grow on. This might be due to the model containing inactive genes, which might be determined by MFA."
   ]
  },
  {
   "cell_type": "markdown",
   "metadata": {},
   "source": [
    "The accuracy is the ratio of correct model predictions. And thereby can be used as a measure of overall model performance"
   ]
  },
  {
   "cell_type": "markdown",
   "metadata": {},
   "source": [
    "It is seen that the model accuracy is 0.69, which is not particularily high. This suggests that there are several improvements that can be made to the model, to improve its performance in predicting the growth of *R. litoralis*."
   ]
  },
  {
   "cell_type": "markdown",
   "metadata": {},
   "source": [
    "![title](Confusionmatrix.png)\n",
    "\n",
    "<div align=\"center\">\n",
    "Figure 2: Confusion matrix to describe the performance of our model on the set of carbon sources found in Kalhoefer et al..   \n",
    "</div>"
   ]
  },
  {
   "cell_type": "markdown",
   "metadata": {},
   "source": [
    "## 4. Computer-Aided Cell Factory Engineering"
   ]
  },
  {
   "cell_type": "markdown",
   "metadata": {},
   "source": [
    "To introduce a laccase pathway to our model, we added a reaction to our model which consumes the amino acids. This can be seen in [Yield Comparison](Yield_Comparison.ipynb) file. Our model shows a laccase yield of 0.00225 mmol-lacc / mmol-glc and a maximal laccase production of 0.015361 mmol gDW^-1 h^-1 (see table 4). In order to compare these results to other microorganisms, we introduced the same reaction to E. coli. In E. coli, a laccase yield of 0.00224 mmol-lacc / mmol-glc and a maximal laccase production of 0.0224 mmol gDW^-1 h^-1 was achieved. Interestingly, while the yields are pretty comparable to each other, the production differs by 0.007 mmol gDW^-1 h^-1.  \n",
    "\n",
    "To find out the reason for this difference in the laccase production, as a next step, we compared the reactions of the two organisms to see where are differences in the fluxes between the models. We found out that the E. coli model has a total of 2714 and our model has a total of 2141 reactions but only about 1369 reactions are shared between the two models. From these reactions there are 227 reactions where the one model has fluxes for but the other doesn't. A list of these reactions can be found in the appendix. Since this is a pretty big number a detailed investigation is in the timeframe of this work not possible.\n",
    "\n"
   ]
  },
  {
   "cell_type": "markdown",
   "metadata": {},
   "source": [
    "| |*R. litoralis* | *E. coli* |\n",
    "|--- |--- | --- |\n",
    "| **Max. laccase production** | 0.0154 | 0.0224 |\n",
    "| **Theoretical max. yield** | 0.0023 | 0.0022 |\n",
    "\n",
    "<div align=\"center\">\n",
    "Table 4: Comparison of maximal laccase production and yield between our R. litoralis model and E. coli model.   \n",
    "</div>"
   ]
  },
  {
   "cell_type": "markdown",
   "metadata": {},
   "source": [
    "## 5. Discussion"
   ]
  },
  {
   "cell_type": "markdown",
   "metadata": {},
   "source": [
    "When analysing the model with Memote, a total score of only 22% was achieved. Additionally, the low specificity value of 40% of the validation confusion matrix suggests further improvements on the model. Due to the lack of data on fluxes in R. litoralis, the next step to improve the model would be to generate data with experiments, as suggested in the section “suggested experiments”. The data retrieved from those experiments should be uploaded in the model and specific fluxes that are not already part of the model should be implemented. \n",
    "\n",
    "The Memote report also pointed out that there are no cross references to other databases (no annotations), which should be changed in order to make the model more accessible to a broad range of scientists. \n",
    "\n",
    "During the construction, improvement and validation of the model we assumed that there are no major differences between the B14 strain in the model and the R. litoralis strains in the papers we based the medium optimization and model validation on. We further assumed that the composition of the LB medium in the paper “” and in the model are equal. Those assumptions could cause a deviation in our model. \n",
    "\n",
    "There is still a lot of room for improvements but once further data on the fluxes are implemented in the model, there should be no reason the model will not be successful. \n"
   ]
  },
  {
   "cell_type": "markdown",
   "metadata": {},
   "source": [
    "## 6. Conclusion"
   ]
  },
  {
   "cell_type": "markdown",
   "metadata": {},
   "source": [
    "Our aim was to construct, improve and validate a GSM model for *Rosebacter litoralis* and introduce a production pathway for laccase. \n",
    "\n",
    "We were able to construct the GSM model but due to the lack of data on fluxes and morphology we were not able to improve it. Instead we adjusted the medium of our model to match the growth rate of the model to the experimental growth rate. Fortunately we found a paper which investigated the growth rate of *R. litoralis* on different carbon sources, which we could use to construct a confusion matrix and thus validate our model. It was not possible to validate our model in terms of fluxes, since no data could be found. The Memote analysis and the confusion matrix both suggest that further improvements are necessary before the model can be applied. \n",
    "\n",
    "We successfully managed to implement the production of laccase in the model, but due to time limitations we were not able to further analyse and improve the laccase yield. \n"
   ]
  },
  {
   "cell_type": "markdown",
   "metadata": {},
   "source": [
    "## References"
   ]
  },
  {
   "cell_type": "markdown",
   "metadata": {},
   "source": [
    "Chaurasia, P. K., Bharati, S. L., Sarma, C., et al. “Laccases in Pharmaceutical Chemistry: A Comprehensive Appraisal.” Mini-Reviews in Organic Chemistry, vol. 13, no. 6, 2017, pp. 430–451., doi:10.2174/1570193x13666161019124854.\n",
    "\n",
    "Garje, A. N. (n.d.). Laccase Enzyme,Laccase Enzyme for Textile Processing,Laccase Biobleaching,Laccase Enzyme Product. Retrieved from https://www.fibre2fashion.com/industry-article/5480/green-revolution-in-textile-processing-by-using-laccases\n",
    "\n",
    "Mayolo-Deloisa, K., González-González, M., & Rito-Palomares, M. (2020). Laccases in Food Industry: Bioprocessing, Potential Industrial and Biotechnological Applications. Frontiers in Bioengineering and Biotechnology, 8. doi:10.3389/fbioe.2020.00222\n",
    "\n",
    "Santo, M., Weitsman, R., & Sivan, A. (2013). The role of the copper-binding enzyme – laccase – in the biodegradation of polyethylene by the actinomycete Rhodococcus ruber. International Biodeterioration & Biodegradation, 84, 204-210. doi:10.1016/j.ibiod.2012.03.001\n",
    "\n",
    "Laccase Market Size - Global Industry Analysis, Market Share, Growth, Trends, Top Countries Analysis & Top manufacturers, Segmentation and Forecast 2026. (2020, September 14). Retrieved from https://www.marketwatch.com/press-release/laccase-market-size---global-industry-analysis-market-share-growth-trends-top-countries-analysis-top-manufacturers-segmentation-and-forecast-2026-2020-09-14\n",
    "\n",
    "Brijwani, K., Rigdon, A., & Vadlani, P. V. (2010). Fungal Laccases: Production, Function, and Applications in Food Processing. Enzyme Research, 2010, 1-10. doi:10.4061/2010/149748\n",
    "\n",
    "Gevorgyan, A., Poolman, M. G., Fell,D. A.,  “Detection of stoichiometric inconsistencies in biomolecular models”, Bioinformatics, Volume 24, Issue 19, 1 October 2008, Pages 2245–2251, https://doi.org/10.1093/bioinformatics/btn425\n",
    "\n",
    "Kalhoefer, D., Thole, S., Voget, S., Lehmann, R., Liesegang, H., Wollher, A., et al. (2011). Comparative genome analysis and genome-guided physiological analysis of Roseobacter litoralis. Bmc Genomics, 12(1), 324. https://doi.org/10.1186/1471-2164-12-324\n",
    "\n",
    "Piekarski, T., Buchholz, I., Drepper, T., Schobert, M., Wagner-Doebler, I., Tielen, P., & Jahn, D. (2009). Genetic tools for the investigation of Roseobacter clade bacteria. Bmc Microbiology, 9(1), 265. https://doi.org/10.1186/1471-2180-9-265\n",
    "\n",
    "Martens, T., Gram, L., Grossart, H. P., Kessler, D., Müller, R., Simon, M., ... & Brinkhoff, T. (2007). Bacteria of the Roseobacter clade show potential for secondary metabolite production. Microbial ecology, 54(1), 31-42.\n",
    " \n",
    "Kalhoefer, D., Thole, S., Voget, S., Lehmann, R., Liesegang, H., Wollher, A., ... & Brinkhoff, T. (2011). Comparative genome analysis and genome-guided physiological analysis of Roseobacter litoralis. BMC genomics, 12(1), 324.\n",
    "\n",
    "Brock, N. L., Menke, M., Klapschinski, T. A., & Dickschat, J. S. (2014). Marine bacteria from the Roseobacter clade produce sulfur volatiles via amino acid and dimethylsulfoniopropionate catabolism. Organic & biomolecular chemistry, 12(25), 4318-4323.\n",
    "\n",
    "Wang, R., Gallant, É., & Seyedsayamdost, M. R. (2016). Investigation of the genetics and biochemistry of roseobacticide production in the Roseobacter clade bacterium Phaeobacter inhibens. MBio, 7(2).\n",
    "\n",
    "Borg, Y., Grigonyte, A. M., Boeing, P., Wolfenden, B., Smith, P., Beaufoy, W., ... & Nesbeth, D. N. (2016). Open source approaches to establishing Roseobacter clade bacteria as synthetic biology chassis for biogeoengineering. PeerJ, 4, e2031.\n",
    "\n",
    "Tang, K., Yang, Y., Lin, D., Li, S., Zhou, W., Han, Y., ... & Jiao, N. (2016). Genomic, physiologic, and proteomic insights into metabolic versatility in Roseobacter clade bacteria isolated from deep-sea water. Scientific reports, 6, 35528."
   ]
  },
  {
   "cell_type": "markdown",
   "metadata": {},
   "source": [
    "Appendix"
   ]
  },
  {
   "cell_type": "markdown",
   "metadata": {},
   "source": [
    "(1) List of common reaction of E. coli and R.litoralis"
   ]
  },
  {
   "cell_type": "code",
   "execution_count": 1,
   "metadata": {},
   "outputs": [
    {
     "data": {
      "text/plain": [
       "['3HAD100',\n",
       " '3HAD120',\n",
       " '3HAD140',\n",
       " '3HAD141',\n",
       " '3HAD160',\n",
       " '3HAD180',\n",
       " '3OAR100',\n",
       " '3OAR120',\n",
       " '3OAR121',\n",
       " '3OAR140',\n",
       " '3OAR141',\n",
       " '3OAR160',\n",
       " '3OAR161',\n",
       " '3OAR180',\n",
       " '3OAS100',\n",
       " '3OAS121',\n",
       " '3OAS140',\n",
       " '3OAS141',\n",
       " '3OAS160',\n",
       " '3OAS161',\n",
       " '3OAS180',\n",
       " '4HTHRK',\n",
       " 'A5PISO',\n",
       " 'AACPS3',\n",
       " 'AACPS4',\n",
       " 'AACPS9',\n",
       " 'ACACT5r',\n",
       " 'ACACT6r',\n",
       " 'ACACT7r',\n",
       " 'ACCOAC',\n",
       " 'ACGK',\n",
       " 'ACGS',\n",
       " 'ACOAD1f',\n",
       " 'ACOAD5f',\n",
       " 'ACOAD6f',\n",
       " 'ACOAD7f',\n",
       " 'ACOATA',\n",
       " 'ACODA',\n",
       " 'ACONTa',\n",
       " 'ACONTb',\n",
       " 'ACPPAT141',\n",
       " 'ACPPAT160',\n",
       " 'ADD',\n",
       " 'ADSK',\n",
       " 'AGPAT141',\n",
       " 'AGPAT160',\n",
       " 'AGPAT161',\n",
       " 'AGPR',\n",
       " 'AKGDH',\n",
       " 'ALAR',\n",
       " 'AMMQLT8',\n",
       " 'AMPMS2',\n",
       " 'APG3PAT141',\n",
       " 'APG3PAT160',\n",
       " 'ARGSL',\n",
       " 'ARGSS',\n",
       " 'ASNS1',\n",
       " 'ASPO5',\n",
       " 'ATPM',\n",
       " 'ATPPRT',\n",
       " 'BPNT',\n",
       " 'BTS5',\n",
       " 'CBPS',\n",
       " 'CO2tex',\n",
       " 'CO2tpp',\n",
       " 'CPPPGO',\n",
       " 'CS',\n",
       " 'CTECOAI7',\n",
       " 'CTPS2',\n",
       " 'CYSS',\n",
       " 'CYSTL',\n",
       " 'DALAt2pp',\n",
       " 'DAPDC',\n",
       " 'DASYN160',\n",
       " 'DASYN161',\n",
       " 'DHAD2',\n",
       " 'DHNAOT4',\n",
       " 'DHNCOAS',\n",
       " 'DHNCOAT',\n",
       " 'DHNPA2r',\n",
       " 'DHPPDA2',\n",
       " 'DHPS2',\n",
       " 'DRPA',\n",
       " 'DURADx',\n",
       " 'DURIPP',\n",
       " 'DUTPDP',\n",
       " 'E4PD',\n",
       " 'EAR120x',\n",
       " 'EAR121x',\n",
       " 'EAR140y',\n",
       " 'EAR141x',\n",
       " 'EAR160x',\n",
       " 'EAR161x',\n",
       " 'EAR180x',\n",
       " 'ECOAH5',\n",
       " 'ECOAH6',\n",
       " 'ECOAH7',\n",
       " 'EDA',\n",
       " 'EDD',\n",
       " 'ETOHtex',\n",
       " 'ETOHtrpp',\n",
       " 'EX_acald_e',\n",
       " 'EX_ala__D_e',\n",
       " 'EX_arg__L_e',\n",
       " 'EX_etoh_e',\n",
       " 'EX_fe3_e',\n",
       " 'EX_gly_e',\n",
       " 'EX_glyclt_e',\n",
       " 'EX_h2s_e',\n",
       " 'EX_his__L_e',\n",
       " 'EX_lys__L_e',\n",
       " 'EX_meoh_e',\n",
       " 'EX_met__L_e',\n",
       " 'EX_mobd_e',\n",
       " 'EX_nh4_e',\n",
       " 'EX_pheme_e',\n",
       " 'EX_thm_e',\n",
       " 'EX_thr__L_e',\n",
       " 'FACOAE100',\n",
       " 'FACOAE160',\n",
       " 'FACOAE161',\n",
       " 'FBA3',\n",
       " 'FE2tex',\n",
       " 'FLDR2',\n",
       " 'G3PAT161',\n",
       " 'G3PD2',\n",
       " 'G5SADs',\n",
       " 'G5SD',\n",
       " 'GCALDD',\n",
       " 'GLCptspp',\n",
       " 'GLU5K',\n",
       " 'GLYCLTt2rpp',\n",
       " 'GLYCtpp',\n",
       " 'GPDDA4',\n",
       " 'GTHOr',\n",
       " 'GTPCII2',\n",
       " 'H2Otex',\n",
       " 'H2Otpp',\n",
       " 'HACD5',\n",
       " 'HACD6',\n",
       " 'HACD7',\n",
       " 'HBZOPT',\n",
       " 'HISTD',\n",
       " 'HISTP',\n",
       " 'HPPK2',\n",
       " 'HSDy',\n",
       " 'HSK',\n",
       " 'HSTPT',\n",
       " 'I2FE2SR',\n",
       " 'I2FE2SS2',\n",
       " 'I2FE2ST',\n",
       " 'I4FE4SR',\n",
       " 'I4FE4ST',\n",
       " 'ICDHyr',\n",
       " 'ICYSDS',\n",
       " 'IG3PS',\n",
       " 'IGPDH',\n",
       " 'ILETA',\n",
       " 'IPDDI',\n",
       " 'IPDPS',\n",
       " 'K2L4Aabcpp',\n",
       " 'K2L4Aabctex',\n",
       " 'KAS14',\n",
       " 'KDOCT2',\n",
       " 'KDOPP',\n",
       " 'KDOPS',\n",
       " 'Kt2pp',\n",
       " 'Ktex',\n",
       " 'LEUTAi',\n",
       " 'LPADSS',\n",
       " 'LPLIPAL2G141',\n",
       " 'MALS',\n",
       " 'MCTP1App',\n",
       " 'MECDPDH5',\n",
       " 'MEOHtex',\n",
       " 'MEOHtrpp',\n",
       " 'METS',\n",
       " 'MG2tex',\n",
       " 'MI1PP',\n",
       " 'MMM',\n",
       " 'MNtex',\n",
       " 'MOAT',\n",
       " 'MOAT2',\n",
       " 'MOBDabcpp',\n",
       " 'MOBDtex',\n",
       " 'MPTG',\n",
       " 'MTHFR2',\n",
       " 'NADH16pp',\n",
       " 'NADH17pp',\n",
       " 'NAtex',\n",
       " 'NH4tex',\n",
       " 'NH4tpp',\n",
       " 'NI2tex',\n",
       " 'NTD1',\n",
       " 'O2tpp',\n",
       " 'OHPBAT',\n",
       " 'OPHBDC',\n",
       " 'P5CR',\n",
       " 'PA141abcpp',\n",
       " 'PAPSR',\n",
       " 'PDH',\n",
       " 'PDX5PS',\n",
       " 'PE160abcpp',\n",
       " 'PE161abcpp',\n",
       " 'PERD',\n",
       " 'PG141abcpp',\n",
       " 'PGCD',\n",
       " 'PGMT',\n",
       " 'PHEMEabcpp',\n",
       " 'PHEMEtiex',\n",
       " 'PItex',\n",
       " 'PMPK',\n",
       " 'PPC',\n",
       " 'PPM2',\n",
       " 'PPNCL2',\n",
       " 'PRAMPC',\n",
       " 'PRATPP',\n",
       " 'PRMICI',\n",
       " 'PRPPS',\n",
       " 'PSD160',\n",
       " 'PSD161',\n",
       " 'PSERT',\n",
       " 'PSP_L',\n",
       " 'PSSA160',\n",
       " 'PSSA161',\n",
       " 'PTAr',\n",
       " 'RNDR4',\n",
       " 'RNTR2c2',\n",
       " 'RNTR3c2',\n",
       " 'RNTR4c2',\n",
       " 'S2FE2ST',\n",
       " 'S4FE4ST',\n",
       " 'SADT2',\n",
       " 'SERAT',\n",
       " 'SHCHD2',\n",
       " 'SHCHF',\n",
       " 'SHSL1',\n",
       " 'SO4tex',\n",
       " 'SUCDi',\n",
       " 'T2DECAI',\n",
       " 'TDSK',\n",
       " 'THRS',\n",
       " 'THZPSN3',\n",
       " 'TMDS',\n",
       " 'TMK',\n",
       " 'TMPPP',\n",
       " 'TRDR',\n",
       " 'TRPS1',\n",
       " 'TRPS3',\n",
       " 'TYRL',\n",
       " 'U23GAAT',\n",
       " 'UAGAAT',\n",
       " 'UHGADA',\n",
       " 'UPP3MT',\n",
       " 'USHD',\n",
       " 'Zn2tex']"
      ]
     },
     "execution_count": 1,
     "metadata": {},
     "output_type": "execute_result"
    }
   ],
   "source": [
    "['3HAD100', '3HAD120', '3HAD140', '3HAD141', '3HAD160', '3HAD180', '3OAR100', '3OAR120', '3OAR121', '3OAR140', '3OAR141', \n",
    " '3OAR160', '3OAR161', '3OAR180', '3OAS100', '3OAS121', '3OAS140', '3OAS141', '3OAS160', '3OAS161', '3OAS180', '4HTHRK', \n",
    " 'A5PISO', 'AACPS3', 'AACPS4', 'AACPS9', 'ACACT5r', 'ACACT6r', 'ACACT7r', 'ACCOAC', 'ACGK', 'ACGS', 'ACOAD1f', 'ACOAD5f',\n",
    " 'ACOAD6f', 'ACOAD7f', 'ACOATA', 'ACODA', 'ACONTa', 'ACONTb', 'ACPPAT141', 'ACPPAT160', 'ADD', 'ADSK', 'AGPAT141', 'AGPAT160',\n",
    " 'AGPAT161', 'AGPR', 'AKGDH', 'ALAR', 'AMMQLT8', 'AMPMS2', 'APG3PAT141', 'APG3PAT160', 'ARGSL', 'ARGSS', 'ASNS1', 'ASPO5', \n",
    " 'ATPM', 'ATPPRT', 'BPNT', 'BTS5', 'CBPS', 'CO2tex', 'CO2tpp', 'CPPPGO', 'CS', 'CTECOAI7', 'CTPS2', 'CYSS', 'CYSTL', 'DALAt2pp',\n",
    " 'DAPDC', 'DASYN160', 'DASYN161', 'DHAD2', 'DHNAOT4', 'DHNCOAS', 'DHNCOAT', 'DHNPA2r', 'DHPPDA2', 'DHPS2', 'DRPA', 'DURADx', \n",
    " 'DURIPP', 'DUTPDP', 'E4PD', 'EAR120x', 'EAR121x', 'EAR140y', 'EAR141x', 'EAR160x', 'EAR161x', 'EAR180x', 'ECOAH5', 'ECOAH6',\n",
    " 'ECOAH7', 'EDA', 'EDD', 'ETOHtex', 'ETOHtrpp', 'EX_acald_e', 'EX_ala__D_e', 'EX_arg__L_e', 'EX_etoh_e', 'EX_fe3_e', 'EX_gly_e',\n",
    " 'EX_glyclt_e', 'EX_h2s_e', 'EX_his__L_e', 'EX_lys__L_e', 'EX_meoh_e', 'EX_met__L_e', 'EX_mobd_e', 'EX_nh4_e', 'EX_pheme_e', \n",
    " 'EX_thm_e', 'EX_thr__L_e', 'FACOAE100', 'FACOAE160', 'FACOAE161', 'FBA3', 'FE2tex', 'FLDR2', 'G3PAT161', 'G3PD2', 'G5SADs',\n",
    " 'G5SD', 'GCALDD', 'GLCptspp', 'GLU5K', 'GLYCLTt2rpp', 'GLYCtpp', 'GPDDA4', 'GTHOr', 'GTPCII2', 'H2Otex', 'H2Otpp', 'HACD5', \n",
    " 'HACD6', 'HACD7', 'HBZOPT', 'HISTD', 'HISTP', 'HPPK2', 'HSDy', 'HSK', 'HSTPT', 'I2FE2SR', 'I2FE2SS2', 'I2FE2ST', 'I4FE4SR',\n",
    " 'I4FE4ST', 'ICDHyr', 'ICYSDS', 'IG3PS', 'IGPDH', 'ILETA', 'IPDDI', 'IPDPS', 'K2L4Aabcpp', 'K2L4Aabctex', 'KAS14', 'KDOCT2',\n",
    " 'KDOPP', 'KDOPS', 'Kt2pp', 'Ktex', 'LEUTAi', 'LPADSS', 'LPLIPAL2G141', 'MALS', 'MCTP1App', 'MECDPDH5', 'MEOHtex', 'MEOHtrpp',\n",
    " 'METS', 'MG2tex', 'MI1PP', 'MMM', 'MNtex', 'MOAT', 'MOAT2', 'MOBDabcpp', 'MOBDtex', 'MPTG', 'MTHFR2', 'NADH16pp', 'NADH17pp',\n",
    " 'NAtex', 'NH4tex', 'NH4tpp', 'NI2tex', 'NTD1', 'O2tpp', 'OHPBAT', 'OPHBDC', 'P5CR', 'PA141abcpp', 'PAPSR', 'PDH', 'PDX5PS', \n",
    " 'PE160abcpp', 'PE161abcpp', 'PERD', 'PG141abcpp', 'PGCD', 'PGMT', 'PHEMEabcpp', 'PHEMEtiex', 'PItex', 'PMPK', 'PPC', 'PPM2', \n",
    " 'PPNCL2', 'PRAMPC', 'PRATPP', 'PRMICI', 'PRPPS', 'PSD160', 'PSD161', 'PSERT', 'PSP_L', 'PSSA160', 'PSSA161', 'PTAr', 'RNDR4',\n",
    " 'RNTR2c2', 'RNTR3c2', 'RNTR4c2', 'S2FE2ST', 'S4FE4ST', 'SADT2', 'SERAT', 'SHCHD2', 'SHCHF', 'SHSL1', 'SO4tex', 'SUCDi', \n",
    " 'T2DECAI', 'TDSK', 'THRS', 'THZPSN3', 'TMDS', 'TMK', 'TMPPP', 'TRDR', 'TRPS1', 'TRPS3', 'TYRL', 'U23GAAT', 'UAGAAT', 'UHGADA',\n",
    " 'UPP3MT', 'USHD', 'Zn2tex']"
   ]
  },
  {
   "cell_type": "markdown",
   "metadata": {},
   "source": [
    "(2) List of uncoserved metabolites\n",
    "\"h2_e\",\"h2_c\",\"h2_p\",\"h_p\",\"h_e\",\"h_c\""
   ]
  }
 ],
 "metadata": {
  "kernelspec": {
   "display_name": "python3.6",
   "language": "python",
   "name": "python3.6"
  },
  "language_info": {
   "codemirror_mode": {
    "name": "ipython",
    "version": 3
   },
   "file_extension": ".py",
   "mimetype": "text/x-python",
   "name": "python",
   "nbconvert_exporter": "python",
   "pygments_lexer": "ipython3",
   "version": "3.6.12"
  }
 },
 "nbformat": 4,
 "nbformat_minor": 4
}
