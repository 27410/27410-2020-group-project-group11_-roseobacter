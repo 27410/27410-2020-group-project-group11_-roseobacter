{
 "cells": [
  {
   "cell_type": "markdown",
   "metadata": {},
   "source": [
    "# [Title]"
   ]
  },
  {
   "cell_type": "markdown",
   "metadata": {},
   "source": [
    "## 1. Introduction"
   ]
  },
  {
   "cell_type": "markdown",
   "metadata": {},
   "source": [
    "### 1.1 Literature review of the compound (<500 words)"
   ]
  },
  {
   "cell_type": "markdown",
   "metadata": {},
   "source": [
    "### 1.2 Literature review of the cell factory (<500 words)"
   ]
  },
  {
   "cell_type": "markdown",
   "metadata": {},
   "source": [
    "Roseobacter litoralis can be found in a wide range of marine habitats, from open ocean to coastal areas and can be isolated from seaweed. R. litoralis require a saline environment and is able to perform aerobic anoxygenic photosynthesis. (Martens et al., 2007, Kalhoefer et al., 2011) It can grow on a broad number of different carbon sources and use many different nitrogen sources.(Martens et al., 2007) Its high tolerance to saline stress makes it an interesting cell factory for bioremediation of plastic waste by introducing a laccase producing pathway. Furthermore, its genome shows several potential heavy metal resistance genes which could also be considered as an advantage in bioremediation. Because of Rosebacters very diverse metabolism it can be considered for genetic engineering. Roseobacter litoralis has already been described as a producer of secondary metabolites like antibiotics (Martens et al., 2007; Brock et al., 2014; Wang et al., 2016b) and a few techniques for how to manipulate its genome have been developed. (Borg et al., 2016; Tang et al., 2016) However, compared to other chassis, Roseobacter litoralis is an quite unstudied cell factory with no genomic scale model or metabolic flux analysis. This is why it could be considered to genetically manipulate an well-studied organism so that it shows a high tolerance to saline stress and then introduce the pathway to produce laccase. \n"
   ]
  },
  {
   "cell_type": "markdown",
   "metadata": {},
   "source": [
    "## 2. Problem definition (<300 words)"
   ]
  },
  {
   "cell_type": "markdown",
   "metadata": {},
   "source": [
    "The goal of this project is to introduce a pathway to produce laccase in R. litoralis for bioremediation of plastics in marine ecosystems. \n"
   ]
  },
  {
   "cell_type": "markdown",
   "metadata": {},
   "source": [
    "## 3. *If Project category I:* Reconstruction of a new GSM for your cell factory host of interest (<1500 words)"
   ]
  },
  {
   "cell_type": "markdown",
   "metadata": {},
   "source": [
    "We started by using carveme to create a draft reconstruction of Roseobacter litoralis strain B14 from the genome database in NCBI and gapfilled it with LB Medium. \n",
    "\n",
    "Next, we loaded the model with cobrapy and used escher to draw a pathway map of the central carbon metabolism. We will use this map and add reactions later on during the project.\n",
    "\n",
    "Subsequently we did a lot of literature research to find data about our organism like fluxes, growth rate, carbon and nitrogen sources etc. We found the growth rate of rosebacter in LB medium and information on its carbon and nitrogen sources. We also found the amino acid composition of laccase. Other than that, we were unfortunately not able to find more literature data on our organism. \n",
    "\n",
    "To introduce a laccase pathway to our model, we added a reaction to our model which consumes the amino acids (see file \"Yield_comparition\"). Our model shows a laccase production yield of 0.00687 mmol-lacc / mmol-glc. In order to compare this yield with the yield of laccase in another mircoorganism we introduced the same reaction to E.coli. In E.coli, a laccase yield of only 0.00224 mmol-lacc / mmol-glc was achieved. Since the difference in the laccase yield is pretty big we, as a next step, compared the fluxes of the two organisms (see file...).  \n",
    "\n",
    "As a next step, we compared our maximal growth rate to the one found in the literature and we saw that our growth rate is much higher than the value found in the literature (0.69 compared to 0.27). This is why we coded a loop which reduces the carbon sources stepwise until we reach a growth rate close to the literature and reduced the carbon sources stepwise until we got a growth rate comparable to the literature value. Surprisingly, the growth rate of our model never came close to 0.27. This is why, then in a next step we looped over all medium components including oxygen, ions and so on until we reached a growth rate around 0.246 with all exchange reactions set to 2. \n",
    "Next, we check for limiting factors in the medium by coding… \n",
    "\n",
    "\n",
    "Afterwards, we checked if our model is able to grow or not grow on the same carbon and nitrogen sources and in the same medium as found by the literature. We achieved that by ..\n",
    "\n",
    "Next: -further experimnets to improve the model, if model is good enough; look at laccase production pathway and improve the fluxes in this direction. \n",
    "-Use memote \n",
    "\n",
    "\n",
    " "
   ]
  },
  {
   "cell_type": "markdown",
   "metadata": {},
   "source": [
    "## 4. Computer-Aided Cell Factory Engineering (<500 words)"
   ]
  },
  {
   "cell_type": "markdown",
   "metadata": {},
   "source": [
    "## 5. Discussion (<500 words)"
   ]
  },
  {
   "cell_type": "markdown",
   "metadata": {},
   "source": [
    "## 6. Conclusion (<200 words)"
   ]
  },
  {
   "cell_type": "markdown",
   "metadata": {},
   "source": [
    "## References"
   ]
  },
  {
   "cell_type": "code",
   "execution_count": null,
   "metadata": {},
   "outputs": [],
   "source": []
  }
 ],
 "metadata": {
  "kernelspec": {
   "display_name": "python3.6",
   "language": "python",
   "name": "python3.6"
  },
  "language_info": {
   "codemirror_mode": {
    "name": "ipython",
    "version": 3
   },
   "file_extension": ".py",
   "mimetype": "text/x-python",
   "name": "python",
   "nbconvert_exporter": "python",
   "pygments_lexer": "ipython3",
   "version": "3.6.12"
  }
 },
 "nbformat": 4,
 "nbformat_minor": 4
}
