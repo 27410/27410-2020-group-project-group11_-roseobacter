{
 "cells": [
  {
   "cell_type": "code",
   "execution_count": 1,
   "metadata": {},
   "outputs": [
    {
     "name": "stdout",
     "output_type": "stream",
     "text": [
      "Running diamond for the first time, please wait while we build the internal database...\n",
      "diamond v2.0.4.142 (C) Max Planck Society for the Advancement of Science\n",
      "Documentation, support and updates available at http://www.diamondsearch.org\n",
      "\n",
      "#CPU threads: 32\n",
      "Scoring parameters: (Matrix=BLOSUM62 Lambda=0.267 K=0.041 Penalties=11/1)\n",
      "Database input file: /usr/local/lib/python3.6/dist-packages/carveme/data/input/bigg_proteins.faa\n",
      "Opening the database file... Permission denied\n",
      " [0.003s]\n",
      "Error: Error opening file /usr/local/lib/python3.6/dist-packages/carveme/data/generated/bigg_proteins.dmnd\n",
      "Failed to run diamond (wrong arguments).\n",
      "File exists, skipping.\n",
      "diamond v2.0.4.142 (C) Max Planck Society for the Advancement of Science\n",
      "Documentation, support and updates available at http://www.diamondsearch.org\n",
      "\n",
      "#CPU threads: 32\n",
      "Scoring parameters: (Matrix=BLOSUM62 Lambda=0.267 K=0.041 Penalties=11/1)\n",
      "Temporary directory: \n",
      "Opening the database... No such file or directory\n",
      " [0s]\n",
      "Error: Error opening file /usr/local/lib/python3.6/dist-packages/carveme/data/generated/bigg_proteins.dmnd\n",
      "Failed to run diamond.\n"
     ]
    }
   ],
   "source": [
    "!carve --refseq GCF_014337925.1 --output Roseobacter-litoralis-strain-B14-M9.xml --gapfill M9 --init M9"
   ]
  },
  {
   "cell_type": "code",
   "execution_count": null,
   "metadata": {},
   "outputs": [],
   "source": []
  }
 ],
 "metadata": {
  "kernelspec": {
   "display_name": "python3.6",
   "language": "python",
   "name": "python3.6"
  },
  "language_info": {
   "codemirror_mode": {
    "name": "ipython",
    "version": 3
   },
   "file_extension": ".py",
   "mimetype": "text/x-python",
   "name": "python",
   "nbconvert_exporter": "python",
   "pygments_lexer": "ipython3",
   "version": "3.6.12"
  }
 },
 "nbformat": 4,
 "nbformat_minor": 4
}
