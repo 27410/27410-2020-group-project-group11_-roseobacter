{
 "cells": [
  {
   "cell_type": "code",
   "execution_count": 1,
   "metadata": {},
   "outputs": [],
   "source": [
    "import cobra.io"
   ]
  },
  {
   "cell_type": "code",
   "execution_count": 2,
   "metadata": {},
   "outputs": [],
   "source": [
    "# Produce model with carveme\n",
    "#!carve --refseq GCF_014337925.1 --output Roseobacter-litoralis-strain-B14.SBML --gapfill LB --init LB"
   ]
  },
  {
   "cell_type": "code",
   "execution_count": 3,
   "metadata": {},
   "outputs": [],
   "source": [
    "# Read model\n",
    "model = cobra.io.read_sbml_model('Roseobacter-litoralis-strain-B14.SBML')"
   ]
  },
  {
   "cell_type": "code",
   "execution_count": 4,
   "metadata": {},
   "outputs": [
    {
     "name": "stdout",
     "output_type": "stream",
     "text": [
      "number of reactions in model = 2139\n",
      "number of metabolites in model = 1483\n",
      "number of genes in model = 1111\n"
     ]
    }
   ],
   "source": [
    "print(\"number of reactions in model =\", len(model.reactions))\n",
    "print(\"number of metabolites in model =\", len(model.metabolites))\n",
    "print(\"number of genes in model =\",len(model.genes))"
   ]
  },
  {
   "cell_type": "code",
   "execution_count": 5,
   "metadata": {},
   "outputs": [
    {
     "data": {
      "text/plain": [
       "0.6973813858359086"
      ]
     },
     "execution_count": 5,
     "metadata": {},
     "output_type": "execute_result"
    }
   ],
   "source": [
    "# Growth rate\n",
    "model.optimize().objective_value"
   ]
  },
  {
   "cell_type": "code",
   "execution_count": null,
   "metadata": {},
   "outputs": [],
   "source": [
    "#Evaluate model with memote\n",
    "#%%time\n",
    "#!memote report snapshot --skip test_stoichiometric_consistency \\\n",
    "#    --skip test_find_metabolites_not_produced_with_open_bounds \\\n",
    "#    --skip test_find_metabolites_not_consumed_with_open_bounds Roseobacter-litoralis-strain-B14.SBML --filename Roseobacter-litoralis-strain-B14.html"
   ]
  }
 ],
 "metadata": {
  "kernelspec": {
   "display_name": "python3.6",
   "language": "python",
   "name": "python3.6"
  },
  "language_info": {
   "codemirror_mode": {
    "name": "ipython",
    "version": 3
   },
   "file_extension": ".py",
   "mimetype": "text/x-python",
   "name": "python",
   "nbconvert_exporter": "python",
   "pygments_lexer": "ipython3",
   "version": "3.6.12"
  }
 },
 "nbformat": 4,
 "nbformat_minor": 4
}
