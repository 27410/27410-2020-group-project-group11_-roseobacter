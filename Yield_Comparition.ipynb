{
 "cells": [
  {
   "cell_type": "code",
   "execution_count": 1,
   "metadata": {},
   "outputs": [],
   "source": [
    "import cobra.io\n",
    "from cobra.io import read_sbml_model\n",
    "from cobra import Reaction, Metabolite"
   ]
  },
  {
   "cell_type": "code",
   "execution_count": 2,
   "metadata": {},
   "outputs": [],
   "source": [
    "model = cobra.io.read_sbml_model('Roseobacter-litoralis-strain-B14.SBML')"
   ]
  },
  {
   "cell_type": "markdown",
   "metadata": {},
   "source": [
    "Adding laacase to our roseobacter model "
   ]
  },
  {
   "cell_type": "code",
   "execution_count": 3,
   "metadata": {},
   "outputs": [
    {
     "name": "stdout",
     "output_type": "stream",
     "text": [
      "48 ala__L_c + 16 arg__L_c + 36 asn__L_c + 39 asp__L_c + 5 cys__L_c + 18 gln__L_c + 8 glu__L_c + 40 gly_c + 20 his__L_c + 35 leu__L_c + 9 lys__L_c + 4 met__L_c + 31 phe__L_c + 43 pro__L_c + 40 ser__L_c + 33 thr__L_c + 7 trp__L_c + 14 tyr__L_c + 47 val__L_c --> laccase_c\n"
     ]
    }
   ],
   "source": [
    "new_reaction = Reaction('laccase')\n",
    "laccase = Metabolite(id='laccase_c', compartment='c')\n",
    "new_reaction.add_metabolites({model.metabolites.met__L_c: -4,\n",
    "                              model.metabolites.ser__L_c: -40,\n",
    "                            model.metabolites.arg__L_c: -16,\n",
    "                              model.metabolites.phe__L_c: -31,\n",
    "                              model.metabolites.gln__L_c: -18,\n",
    "                            model.metabolites.leu__L_c: -35,\n",
    "                              model.metabolites.thr__L_c: -33,\n",
    "                              model.metabolites.asn__L_c: -36,\n",
    "                            model.metabolites.val__L_c: -47,\n",
    "                              model.metabolites.ala__L_c: -48,\n",
    "                              model.metabolites.his__L_c: -20,\n",
    "                            model.metabolites.gly_c: -40,\n",
    "                                model.metabolites.pro__L_c: -43,\n",
    "                              model.metabolites.asp__L_c: -39,\n",
    "                              model.metabolites.lys__L_c: -9,\n",
    "                            model.metabolites.trp__L_c: -7,\n",
    "                              model.metabolites.cys__L_c: -5,\n",
    "                              model.metabolites.tyr__L_c: -14,\n",
    "                            model.metabolites.glu__L_c: -8,\n",
    "                              laccase: 1\n",
    "                                         })\n",
    "print(new_reaction.build_reaction_string())"
   ]
  },
  {
   "cell_type": "code",
   "execution_count": 4,
   "metadata": {},
   "outputs": [
    {
     "name": "stdout",
     "output_type": "stream",
     "text": [
      "Max. laccase production, R.litoralis [mmol gDW^-1 h^-1]: 0.06870256792909532\n",
      "Theoretical max. yield [mmol-lacc / mmol-glc]: 0.006870256792909532\n"
     ]
    }
   ],
   "source": [
    "model.add_reactions([new_reaction])\n",
    "model.add_boundary(model.metabolites.laccase_c, type='demand')\n",
    "with model:\n",
    "    model.objective = model.reactions.laccase\n",
    "    lacc_production_rate = model.optimize().objective_value\n",
    "    print(\"Max. laccase production, R.litoralis [mmol gDW^-1 h^-1]:\", lacc_production_rate)\n",
    "    print(\"Theoretical max. yield [mmol-lacc / mmol-glc]:\", lacc_production_rate / (-1*model.reactions.EX_glc__D_e.flux))"
   ]
  },
  {
   "cell_type": "markdown",
   "metadata": {},
   "source": [
    "Importing the E.coli model and add laccase reaction to it to campare the production rates of laccase in our roseobacter model and the E.coli model "
   ]
  },
  {
   "cell_type": "code",
   "execution_count": 5,
   "metadata": {},
   "outputs": [],
   "source": [
    "model_E = read_sbml_model('iML1515.xml')"
   ]
  },
  {
   "cell_type": "code",
   "execution_count": 6,
   "metadata": {},
   "outputs": [
    {
     "name": "stdout",
     "output_type": "stream",
     "text": [
      "48 ala__L_c + 16 arg__L_c + 36 asn__L_c + 39 asp__L_c + 5 cys__L_c + 18 gln__L_c + 8 glu__L_c + 40 gly_c + 20 his__L_c + 35 leu__L_c + 9 lys__L_c + 4 met__L_c + 31 phe__L_c + 43 pro__L_c + 40 ser__L_c + 33 thr__L_c + 7 trp__L_c + 14 tyr__L_c + 47 val__L_c --> laccase_c\n"
     ]
    }
   ],
   "source": [
    "new_reaction = Reaction('laccase')\n",
    "laccase = Metabolite(id='laccase_c', compartment='c')\n",
    "new_reaction.add_metabolites({model_E.metabolites.met__L_c: -4,\n",
    "                              model_E.metabolites.ser__L_c: -40,\n",
    "                            model_E.metabolites.arg__L_c: -16,\n",
    "                              model_E.metabolites.phe__L_c: -31,\n",
    "                              model_E.metabolites.gln__L_c: -18,\n",
    "                            model_E.metabolites.leu__L_c: -35,\n",
    "                              model_E.metabolites.thr__L_c: -33,\n",
    "                              model_E.metabolites.asn__L_c: -36,\n",
    "                            model_E.metabolites.val__L_c: -47,\n",
    "                              model_E.metabolites.ala__L_c: -48,\n",
    "                              model_E.metabolites.his__L_c: -20,\n",
    "                            model_E.metabolites.gly_c: -40,\n",
    "                                model_E.metabolites.pro__L_c: -43,\n",
    "                              model_E.metabolites.asp__L_c: -39,\n",
    "                              model_E.metabolites.lys__L_c: -9,\n",
    "                            model_E.metabolites.trp__L_c: -7,\n",
    "                              model_E.metabolites.cys__L_c: -5,\n",
    "                              model_E.metabolites.tyr__L_c: -14,\n",
    "                            model_E.metabolites.glu__L_c: -8,\n",
    "                              laccase: 1\n",
    "                                         })\n",
    "print(new_reaction.build_reaction_string())"
   ]
  },
  {
   "cell_type": "code",
   "execution_count": 7,
   "metadata": {},
   "outputs": [
    {
     "name": "stdout",
     "output_type": "stream",
     "text": [
      "Max. laccase production, E. coli [mmol gDW^-1 h^-1]: 0.02238069682072861\n",
      "Theoretical max. yield [mmol-lacc / mmol-glc]: 0.002238069682072861\n"
     ]
    }
   ],
   "source": [
    "model_E.add_reactions([new_reaction])\n",
    "model_E.add_boundary(model_E.metabolites.laccase_c, type='demand')\n",
    "with model_E:\n",
    "    model_E.objective = model_E.reactions.laccase\n",
    "    lacc_production_rate_E = model_E.optimize().objective_value\n",
    "    print(\"Max. laccase production, E. coli [mmol gDW^-1 h^-1]:\", lacc_production_rate_E)\n",
    "    print(\"Theoretical max. yield [mmol-lacc / mmol-glc]:\", lacc_production_rate_E / (-1*model_E.reactions.EX_glc__D_e.flux))"
   ]
  },
  {
   "cell_type": "markdown",
   "metadata": {},
   "source": [
    "Ecoli:Laccase Yield: 0.00224 \n",
    "R.litoralis: Laccase Yield: 0.00687"
   ]
  },
  {
   "cell_type": "markdown",
   "metadata": {},
   "source": [
    "big dif-> compare fluxes "
   ]
  },
  {
   "cell_type": "markdown",
   "metadata": {},
   "source": [
    "for our model:"
   ]
  },
  {
   "cell_type": "code",
   "execution_count": 8,
   "metadata": {},
   "outputs": [
    {
     "name": "stdout",
     "output_type": "stream",
     "text": [
      "12DGR181tipp     0.000000\n",
      "14GLUCANabcpp    0.000000\n",
      "14GLUCANtexi     0.000000\n",
      "1PPDCRc          0.000000\n",
      "23CAMPtex        0.000000\n",
      "                   ...   \n",
      "CHRPL            0.000068\n",
      "NNDPR            0.001538\n",
      "QULNS            0.001538\n",
      "laccase          0.000000\n",
      "DM_laccase_c     0.000000\n",
      "Name: fluxes, Length: 2141, dtype: float64\n"
     ]
    }
   ],
   "source": [
    "solution = model.optimize()\n",
    "fluxes = solution.fluxes\n",
    "print(fluxes)"
   ]
  },
  {
   "cell_type": "markdown",
   "metadata": {},
   "source": [
    "for E.coli:\n"
   ]
  },
  {
   "cell_type": "code",
   "execution_count": 9,
   "metadata": {},
   "outputs": [
    {
     "name": "stdout",
     "output_type": "stream",
     "text": [
      "CYTDK2          0.00000\n",
      "XPPT            0.00000\n",
      "HXPRT           0.00000\n",
      "NDPK5           0.00000\n",
      "SHK3Dr          0.33424\n",
      "                 ...   \n",
      "BMOGDS2         0.00000\n",
      "FESD2s          0.00000\n",
      "OCTNLL          0.00000\n",
      "laccase         0.00000\n",
      "DM_laccase_c    0.00000\n",
      "Name: fluxes, Length: 2714, dtype: float64\n"
     ]
    }
   ],
   "source": [
    "solution_E = model_E.optimize()\n",
    "fluxes_E=solution_E.fluxes\n",
    "print(fluxes_E)"
   ]
  },
  {
   "cell_type": "code",
   "execution_count": 10,
   "metadata": {},
   "outputs": [],
   "source": [
    "import numpy as np\n",
    "import pandas as pd "
   ]
  },
  {
   "cell_type": "code",
   "execution_count": 35,
   "metadata": {},
   "outputs": [
    {
     "data": {
      "text/plain": [
       "2141"
      ]
     },
     "execution_count": 35,
     "metadata": {},
     "output_type": "execute_result"
    }
   ],
   "source": [
    "\n"
   ]
  },
  {
   "cell_type": "code",
   "execution_count": null,
   "metadata": {},
   "outputs": [],
   "source": []
  },
  {
   "cell_type": "code",
   "execution_count": null,
   "metadata": {},
   "outputs": [],
   "source": []
  },
  {
   "cell_type": "code",
   "execution_count": null,
   "metadata": {},
   "outputs": [],
   "source": []
  },
  {
   "cell_type": "code",
   "execution_count": null,
   "metadata": {},
   "outputs": [],
   "source": []
  },
  {
   "cell_type": "code",
   "execution_count": null,
   "metadata": {},
   "outputs": [],
   "source": [
    "\n",
    "\n"
   ]
  },
  {
   "cell_type": "code",
   "execution_count": null,
   "metadata": {},
   "outputs": [],
   "source": []
  },
  {
   "cell_type": "markdown",
   "metadata": {},
   "source": [
    "list of flux names "
   ]
  },
  {
   "cell_type": "code",
   "execution_count": 11,
   "metadata": {
    "collapsed": true,
    "jupyter": {
     "outputs_hidden": true
    }
   },
   "outputs": [
    {
     "name": "stdout",
     "output_type": "stream",
     "text": [
      "['12DGR181tipp', '14GLUCANabcpp', '14GLUCANtexi', '1PPDCRc', '23CAMPtex', '23CCMPtex', '23CGMPtex', '23CUMPtex', '23PDE2pp', '23PDE4pp', '23PDE7pp', '23PDE9pp', '2AGPE120tipp', '2AGPE140tipp', '2AGPE141tipp', '2AGPE161tipp', '2AGPE180tipp', '2AGPE181tipp', '2AGPG120tipp', '2AGPG140tipp', '2AGPG141tipp', '2AGPG160tipp', '2AGPG161tipp', '2AGPG180tipp', '2AGPG181tipp', '2DGLCNRx', '2DGLCNRy', '2DHGLCK', '2DHGLCNkt_tpp', '2HH24DDH', '2HH24DDH1', '2HXMPt6', '2PGLYCt6', '34HPPOR', '3AMPt6', '3CMPt6', '3GMPt6', '3HAD100', '3HAD120', '3HAD121', '3HAD140', '3HAD141', '3HAD160', '3HAD161', '3HAD180', '3HAD181', '3HAD40', '3HAD60', '3HAD80', '3HBCOAHL', '3HCINNMH', '3HOXPACt2pp', '3hoxpactex', '3HPAOX', '3HPPPNH', '3MBtex', '3NTD2pp', '3NTD4pp', '3NTD7pp', '3NTD9pp', '3NUCLE1', '3NUCLE2', '3NUCLE3', '3NUCLE4', '3OADPCOAT', '3OAR100', '3OAR120', '3OAR121', '3OAR140', '3OAR141', '3OAR160', '3OAR161', '3OAR180', '3OAR181', '3OAR40', '3OAR60', '3OAR80', '3OAS100', '3OAS120', '3OAS121', '3OAS140', '3OAS141', '3OAS160', '3OAS161', '3OAS180', '3OAS181', '3OAS60', '3OAS80', '3OXCOAT', '3PEPTabcpp', '3UMPt6', '4CMLCL_kt', '4H2KPILY', '4HBALDt2pp', '4HBALDtex', '4HBAtex', '4HBHYOX', '4HBZR', '4HBZtex', '4HOXPACt2pp', '4HTHRK', '4HTHRS', '4MBZALDH', '4MBZDH', '4MCAT23DOX', '4PCP', '4PEPTabcpp', '4PEPTtex', '5DGLCNR', '5DOAN', '5MTRt2', 'A5PISO', 'AACPS1', 'AACPS2', 'AACPS3', 'AACPS4', 'AACPS5', 'AACPS6', 'AACPS7', 'AACPS8', 'AACPS9', 'AADSACYCL', 'AAMYL', 'AASAD3', 'AATA', 'AB6PGH', 'ABTA', 'ABUTD', 'ACACT1r', 'ACACT2r', 'ACACT3r', 'ACACT4r', 'ACACT5r', 'ACACT6r', 'ACACT7r', 'ACACT8r', 'ACALD', 'ACALDt', 'ACCOAC', 'ACCOAL', 'ACGAMK', 'ACGApts', 'ACGAptspp', 'ACGAtex', 'ACGK', 'ACGS', 'ACHBS', 'ACLS', 'ACM6PH', 'ACMANApts', 'ACMANAt2', 'ACOAD1', 'ACOAD1f', 'ACOAD2', 'ACOAD20', 'ACOAD2f', 'ACOAD3f', 'ACOAD4_1', 'ACOAD4f', 'ACOAD5_1', 'ACOAD5f', 'ACOAD6f', 'ACOAD7f', 'ACOAD8f', 'ACOADH2', 'ACOATA', 'ACODA', 'ACONT', 'ACONTa', 'ACONTb', 'ACPPAT120', 'ACPPAT140', 'ACPPAT141', 'ACPPAT160', 'ACPPAT161', 'ACPPAT180', 'ACPPAT181', 'ACPpds', 'ACPS', 'ACPS1', 'ACS', 'ACS2', 'ACTD', 'ACTD2', 'ACTDa', 'ACtex', 'ACTNabc', 'ACTNabc1', 'ADCL', 'ADCS', 'ADD', 'ADHEr', 'ADK1', 'ADK2', 'ADK3', 'ADK4', 'ADKd', 'ADMDC', 'ADNCYC', 'ADNK1', 'ADNtex', 'ADPT', 'ADSK', 'ADSL1r', 'ADSL2r', 'ADSS', 'AGDC', 'AGM3PA', 'AGM3PApp', 'AGM3PH', 'AGM3Pt2pp', 'AGM4PA', 'AGM4PApp', 'AGM4PH', 'AGM4Pt2pp', 'AGMH', 'AGMHE', 'AGMT', 'AGPAT120', 'AGPAT140', 'AGPAT141', 'AGPAT160', 'AGPAT161', 'AGPAT180', 'AGPAT181', 'AGPR', 'AGTi', 'AHCi', 'AHSERL2', 'AHSERL4', 'AICART', 'AIRC1', 'AIRCr', 'AKGDa', 'AKGDb', 'AKGDH', 'ALAabc', 'ALAabcpp', 'ALAALAabcpp', 'ALAALAr', 'ALAD_L', 'ALAGLUE', 'ALAR', 'ALAt2r', 'ALAt4', 'ALATA_D', 'ALATA_D2', 'ALATA_L2', 'ALAtex', 'ALCD19', 'ALCD19y', 'ALCD2ir', 'ALCD2x', 'ALCD3', 'ALCD4', 'ALDD1', 'ALDD19xr', 'ALDD2x', 'ALDD2y', 'ALDD3', 'ALDD31_1', 'ALDD4', 'ALDD6', 'ALLTAMH', 'ALLTN', 'ALR2', 'ALR3', 'ALTRH', 'AM3PA', 'AM4PA', 'AMALT1', 'AMALT2', 'AMALT3', 'AMALT4', 'AMANAPEr', 'AMANK', 'AMMQLT8', 'AMMQT8_2', 'AMPMS2', 'AMPN', 'AMPTASECG', 'AMPTASEPG', 'ANHGMtex', 'ANHMK', 'ANPRT', 'ANS', 'AOXHEXCYCL', 'APENTAMAH', 'APG3PAT120', 'APG3PAT140', 'APG3PAT141', 'APG3PAT160', 'APG3PAT161', 'APG3PAT180', 'APG3PAT181', 'APRAUR', 'APSR', 'APTNAT', 'ARABDI', 'ARAI', 'ARBabc', 'ARBabcpp', 'ARBt2rpp', 'ARBTpts', 'ARGabc', 'ARGabcpp', 'ARGDC', 'ARGN', 'ARGN_1', 'ARGSL', 'ARGSS', 'ARGt3pp', 'ARUH', 'ASAD', 'ASNS1', 'ASO3t4pp', 'ASO3tex', 'ASO4rt2rpp', 'ASO4tex', 'ASPabc', 'ASPabcpp', 'ASPCT', 'ASPK', 'ASPTA', 'ASPtex', 'ASR2', 'ATHRDHr', 'ATPHs', 'ATPPRT', 'ATPS4rpp', 'BC10_new', 'BCOALIG', 'BCOALIG2', 'BCT1_syn', 'BETALDHx', 'BETALDHy', 'BGLA1', 'BHMT', 'BMOCOS', 'BMOGDS1', 'BMOGDS2', 'BPNT', 'BSCT', 'BTOHt2rpp', 'BTOHtex', 'BTS3r', 'BTS5', 'BUTCT', 'BUTSabc', 'BUTSO3abcpp', 'BUTSO3tex', 'BUTtex', 'BZ12DOX', 'BZALDH', 'BZDH', 'BZDIOLDH', 'BZt', 'C100SN', 'C120SN', 'C140SN', 'C141SN', 'C160SN', 'C161SN', 'C180SN', 'C181SN', 'CA2abcpp', 'CA2tex', 'CAT23DOX', 'CAt6pp', 'CBPS', 'CD2t4', 'CD2t4pp', 'CD2tex', 'CD2tpp', 'CDAPPA_HP', 'CDGUNPD', 'CDP4D6DGLCRx', 'CDPABEQS', 'CDPGLC46DH', 'CDPMEK', 'CELBpts', 'CELLBabc', 'CEPA', 'CGLYabcpp', 'CGLYtex', 'CHLabc', 'CHLabcpp', 'CHLt2', 'CHLt2pp', 'CHLtex', 'CHOLD', 'CHOLSabc_1', 'CHOLSH', 'CHORM', 'CHORS', 'CITL', 'CLIPAabctex', 'CLt3_2pp', 'CLtex', 'CMCMSAD', 'CMHMI', 'CMtex', 'CMtpp', 'CO2t', 'CO2tex', 'CO2tpp', 'Cobalt2abcppI', 'COBALT2tex', 'COBALTt4pp', 'CODH2r', 'COt', 'CPMPS', 'CPPPGO', 'CPPPGO2', 'CPPPGOAN2', 'CRESt2ipp', 'CRNabc', 'CRNabcpp', 'CRNCBCT', 'CRNCDH', 'CRNDabcpp', 'CRNDt2rpp', 'CRNt2rpp', 'CRNt7pp', 'CRNtex', 'CRO4abcpp', 'CRO4t3pp', 'CS', 'CSND', 'CTBTabc', 'CTECOAI6', 'CTECOAI7', 'CTECOAI8', 'CTPS1', 'CTPS2', 'CU2tex', 'CUabcpp', 'Cut1', 'CYO1b', 'CYO1_KT', 'CYOO2pp', 'CYOO_HP', 'CYSabcpp', 'CYSDS', 'CYSDSF', 'CYSS', 'CYSTGL', 'CYSTGL_1', 'CYSTL', 'CYSTL_1', 'CYStpp', 'CYSTS_2', 'CYTBD2pp', 'CYTBDpp_1', 'CYTD', 'CYTDH', 'CYTDt2pp', 'CYTK1', 'CYTK2', 'CYTMQOR3pp', 'DACTt3', 'DADK', 'DAGK181', 'DALAt2pp', 'DALAt2r', 'DAPDC', 'DAPE', 'DARBabcpp', 'DARBt3ipp', 'DARBtex', 'DASYN120', 'DASYN140', 'DASYN141', 'DASYN160', 'DASYN161', 'DASYN180', 'DASYN181', 'DASYN_EC', 'DASYN_HP', 'DATPHs', 'DB4PS', 'DCAtex', 'DCPDPS', 'DCYTD', 'DDCAt2pp', 'DDGALK', 'DDGLK', 'DDPA', 'DDPGALA', 'DEXTRINt2', 'DGK1', 'DGUNC', 'DH4MCHCDH', 'DHACOAH', 'DHAD1', 'DHAD2', 'DHAD3', 'DHAK', 'DHAPT', 'DHAt', 'DHBD', 'DHBS', 'DHCINDO', 'DHDPRy', 'DHDPS', 'DHEDAA', 'DHFR', 'DHFS', 'DHNAOT4', 'DHNCOAS', 'DHNCOAT', 'DHNPA_1', 'DHNPA2r', 'DHORD3', 'DHORTS', 'DHPACCOAHIT', 'DHPDO', 'DHPM1', 'DHPPDA', 'DHPPDA2', 'DHPS', 'DHPS2', 'DHQS', 'DHQTi', 'DIPEPabc15', 'DKMPPD3', 'D_LACt2', 'D_LACt2pp', 'DLYSPYRAT', 'DMATT', 'DMGDH', 'DMPPS', 'DMSOR1e', 'DMSOR1pp', 'DMSOR2e', 'DMSOR2pp', 'DMSOtex', 'DMStex', 'DNMPPA', 'DNTPPA', 'DOXRBCNtex', 'DOXRBCNtpp', 'DPCOAK', 'DPHAPC100', 'DPHAPC120', 'DPHAPC121', 'DPHAPC140', 'DPHAPC141', 'DPHAPC60', 'DPHAPC80', 'DPPS', 'DPR', 'DRBK', 'DRIBabc', 'DRPA', 'DSERt2', 'DTMPK', 'DURAD', 'DURADx', 'DURIK1', 'DURIPP', 'DUTPDP', 'DXPRIi', 'DXPS', 'DXYLK', 'DXYLUDtex', 'DXYLUDtpp', 'E4PD', 'EAR100x', 'EAR100y', 'EAR120x', 'EAR120y', 'EAR121x', 'EAR121y', 'EAR140x', 'EAR140y', 'EAR141x', 'EAR141y', 'EAR160x', 'EAR160y', 'EAR161x', 'EAR161y', 'EAR180x', 'EAR180y', 'EAR181x', 'EAR181y', 'EAR40x', 'EAR40y', 'EAR60x', 'EAR60y', 'EAR80x', 'EAR80y', 'ECHH_0', 'ECOAH1', 'ECOAH12', 'ECOAH1_2', 'ECOAH2', 'ECOAH3', 'ECOAH4', 'ECOAH5', 'ECOAH5_2', 'ECOAH6', 'ECOAH7', 'ECOAH8', 'ECOAH9ir', 'EDA', 'EDD', 'EDTXS1', 'EDTXS2', 'EDTXS3', 'EDTXS4', 'ENLIPAabctex', 'ENO', 'ENTCS_1', 'ENTERGLCT1', 'ENTERGLCT2', 'ETHAt', 'ETHSabc', 'ETHSO3abcpp', 'ETHSO3tex', 'ETOHtex', 'ETOHtrpp', 'FACOAE100', 'FACOAE140', 'FACOAE160', 'FACOAE161', 'FACOAL100t2pp', 'FACOAL120t2pp', 'FACOAL140', 'FACOAL140t2pp', 'FACOAL141t2pp', 'FACOAL160', 'FACOAL160t2pp', 'FACOAL161', 'FACOAL161t2pp', 'FACOAL180t2pp', 'FACOAL181', 'FACOAL181t2pp', 'FACOAL50It2pp', 'FACOAL60t2pp', 'FACOAL80t2pp', 'FALDH2', 'FALGTHLs', 'FAO1', 'FAO10', 'FAO11', 'FAO2', 'FAO3', 'FAS100', 'FAS120', 'FAS140', 'FAS160', 'FAS161', 'FAS180', 'FAS181', 'FAS200', 'FAS80_L', 'FASC120ACP', 'FASC140ACP', 'FASC141ACP', 'FASC160ACP', 'FASC161ACP', 'FASC180ACP', 'FASC181ACP', 'FASC200ACP', 'FASm220', 'FASm240', 'FASm260', 'FASm280', 'FBA', 'FBA2', 'FBA3', 'FBP', 'FCI', 'FCLK', 'FCLPA', 'FCLT', 'FDH', 'FDH2', 'FDH3', 'FDH4pp', 'FDH4pp_1', 'FDH5pp', 'FDH5pp_1', 'FDH5r2pp', 'FDH7', 'FDMO', 'FDMO1', 'FDMO_1', 'FDMO2', 'FDMO2_1', 'FDMO3', 'FDMO3_1', 'FDMO4', 'FDMO4_1', 'FDMO5_1', 'FDMO6', 'FDMO6_1', 'FDMOtau', 'FE2abc', 'FE2abcpp', 'FE2Gabcpp', 'FE2t4pp', 'FE2tex', 'FE3abc', 'FE3abcpp', 'FE3DCITabcpp', 'FE3DCITtonex', 'FE3Gabcpp', 'FE3tex', 'FEENTER2tpp', 'FEENTERabcpp', 'FEENTERR1', 'FEENTERtex', 'FEENTERtonex', 'FERIRDe', 'FFSD', 'FLDO', 'FLDR', 'FLDR2', 'FMNAT', 'FMNRx', 'FMNRy', 'FNOR', 'FOAMtex', 'FOAMtrpp', 'FOLD3', 'FOMETRi', 'FORAMD', 'FORCT', 'FORGLUIH', 'FORtex', 'FRD', 'FRD2', 'FRD2rpp', 'FRD3', 'FRD5', 'FRD7', 'FRUpts', 'FRUpts2', 'FRUpts2pp', 'FRUptspp', 'FRUtex', 'FTHFCL', 'FTHFLi', 'FUCt', 'FUM', 'FUMAC', 'FUSAtex', 'FUSAtpp', 'G1PACT', 'G1PCTYT', 'G1PTT', 'G1SAT', 'G2PP', 'G3PAT120', 'G3PAT140', 'G3PAT141', 'G3PAT160', 'G3PAT161', 'G3PAT180', 'G3PAT181', 'G3PCabcpp', 'G3PCtex', 'G3PD', 'G3PD1', 'G3PD2', 'G3PD2_1', 'G3PD5', 'G3PEabcpp', 'G3PGabcpp', 'G3PIabcpp', 'G3PItex', 'G3PSabcpp', 'G3PStex', 'G5SADs', 'G5SD', 'G6PBDH', 'G6PDH2r', 'G6PI', 'GADktpp', 'GALabc', 'GALabcpp', 'GALBDtex', 'GALCTD', 'GALCTD_1', 'GALCTND', 'GALCTNt2r', 'GALCTRt2', 'GALCTt2r', 'GALKr', 'GALM2pp', 'GALS3', 'GALT', 'GALTpts', 'GALUi', 'GALURt2rpp', 'GALURtex', 'GAMpts', 'GAPD', 'GAPDi_nadp', 'GARFT', 'GBBTNabc', 'GBBTNtex', 'GCALDD', 'GCCa', 'GCCb', 'GCCc', 'GDBTALDH', 'GDPDPK', 'GDPMNH', 'GDPTPDP', 'GF6PTA', 'GGGABADr', 'GGGABAH', 'GGLUCT2', 'GGPTRCO', 'GGPTRCS', 'GHBDHx', 'GHBDHy', 'GHMT2r', 'GK1', 'GLBRAN2', 'GLCabc', 'GLCabcpp', 'GLCDpp', 'GLCNt2rpp', 'GLCOAS', 'GLCOASYNT', 'GLCP', 'GLCP2', 'GLCpts', 'GLCptspp', 'GLCRAL', 'GLCRAL_1', 'GLCRt2r', 'GLCS1', 'GLCtex', 'GLCTR4', 'GLCURt2rpp', 'GLCURtex', 'GLDBRAN2', 'GLGC', 'GLMS_syn', 'GLNabc', 'GLNabcpp', 'GLNS', 'GLNtex', 'GLTPD', 'GLU5K', 'GLUabc', 'GLUabcpp', 'GLUCYS', 'GLUDxi', 'GLUDy', 'GLUPRT', 'GLUR', 'GLUSx', 'GLUSy', 'GLUt2rpp', 'GLUTCOADHc', 'GLUTRR', 'GLUTRS', 'GLXCL', 'GLXO1', 'GLYabcpp', 'GLYALDDr', 'GLYAT', 'GLYATi', 'GLYBabc', 'GLYBabcpp', 'GLYBt2r', 'GLYBtex', 'GLYC2Pabcpp', 'GLYC2Ptex', 'GLYC3Pabc', 'GLYC3Pabcpp', 'GLYCK2', 'GLYCL', 'GLYCL_2', 'GLYCLTDx', 'GLYCLTDy', 'GLYCLTt2r', 'GLYCLTt2rpp', 'GLYCtex', 'GLYCTO1', 'GLYCTO2', 'GLYCTO3', 'GLYCTO4', 'GLYCtpp', 'GLYK', 'GLYOX', 'GLYOX_1', 'GLYt2r', 'GLYtex', 'GM1LIPAabcpp', 'GM1LIPAabctex', 'GMHEPAT', 'GMHEPK', 'GMHEPPA', 'GMPS', 'GMPS2', 'GNNUC', 'GPDDA1', 'GPDDA2', 'GPDDA3', 'GPDDA4', 'GPDDA5', 'GRTT', 'GRXR', 'GSNtex', 'GTHOr', 'GTHPi', 'GTHRDabc2pp', 'GTHRDabcpp', 'GTHS', 'GTMLT', 'GTPCI', 'GTPCII', 'GTPCII2', 'GTPDPDP', 'GTPDPK', 'GTPHs', 'GUACYC', 'GUAD', 'GUAPRT', 'GUAtex', 'GUDBUTNAH', 'GUI1', 'GUI2', 'H2ASE_syn', 'H2CO3D', 'H2CO3_NAt_syn', 'H2Ot', 'H2Otex', 'H2Otpp', 'H2St', 'H2tex', 'H2tpp', 'HACD1', 'HACD1_2', 'HACD1i', 'HACD2', 'HACD2i', 'HACD3', 'HACD3i', 'HACD4', 'HACD4i', 'HACD5', 'HACD5i', 'HACD6', 'HACD6i', 'HACD7', 'HACD7i', 'HACD8', 'HACD8i', 'HACD9', 'HADPCOADH3', 'HBZOPT', 'HCINNMt2r', 'HCO3abc', 'HCO3E', 'HCO3tex', 'HCYSMT', 'HEMEOS', 'HEPT1', 'HEPT2', 'HEPT5', 'HEX1', 'HEX7', 'HEXSabc', 'HGNTOR', 'HHDDI', 'HIBDkt', 'HISabc', 'HISabcpp', 'HISDr', 'HISTD', 'HIStex', 'HISTP', 'HKNDDH', 'HKNTDH', 'HMBS', 'HMGCOASi', 'HMGL', 'HMSH', 'HMSH2', 'HOPNTAL', 'HOPNTAL2', 'HOXPRx', 'HPAtex', 'HPPK', 'HPPK2', 'HPPPNDO', 'HPPPNt2r', 'HPYRI', 'HPYRRx', 'HPYRRy', 'HQNt6', 'HSDx', 'HSDy', 'HSERTA', 'HSK', 'HSST', 'HSTPT', 'HSTPTr', 'Htex', 'HXAND', 'HXAtex', 'HXCT', 'HXPRT', 'HYDFDN', 'HYPOE', 'HYXNtex', 'I2FE2SR', 'I2FE2SS2', 'I2FE2ST', 'I4FE4SR', 'I4FE4ST', 'IBTMr', 'ICDHyr', 'ICHORS', 'ICHORT', 'ICYSDS', 'IDOND', 'IDOND2', 'IG3PS', 'IGPDH', 'IGPS', 'ILEabc', 'ILEabcpp', 'ILEDHr', 'ILETA', 'ILEtex', 'IMPC', 'IMPD', 'INDOLEt2pp', 'INDOLEt2rpp', 'INOSR', 'INS2D', 'INSCR', 'INSH', 'INSTabc', 'IOR3b', 'IPDDI', 'IPDPS', 'IPMD', 'IPPMIa', 'IPPMIb', 'IPPS', 'ISETACabcpp', 'ISETACtex', 'ISTNTabc', 'IZPN_1', 'K2L4Aabcpp', 'K2L4Aabctex', 'KARA1', 'KARA1i', 'KARA2', 'KAS13', 'KAS14', 'KAS15', 'KAS16', 'KAS17', 'KAS2', 'KAS7', 'KAS8', 'KAS_HP', 'KAS_HP2', 'KAT1', 'KAT2', 'KDOCT2', 'KDOPP', 'KDOPS', 'Kt2pp', 'Kt2r', 'Kt3pp', 'Kt3r', 'Ktex', 'LA4NTGM1pp', 'LACZ', 'LADGMDH', 'LALDO', 'LALGP', 'LCADi', 'LCARS', 'LCTSabc', 'LCYSTabc', 'LCYSTabcpp', 'LCYSTtex', 'LDGUNPD', 'LDH_D', 'LDH_D1', 'LDH_D2', 'LEUabc', 'LEUabcpp', 'LEUTA', 'LEUTAi', 'LEUtex', 'LGTHL', 'LIPAabcpp', 'LIPAabctex', 'LIPACabcpp', 'LIPOCT', 'LIPOS', 'L_LACD2', 'L_LACD3', 'L_LACt2r', 'L_LACt2rpp', 'LPADSS', 'LPCOXc', 'LPLIPA1', 'LPLIPAL1A120pp', 'LPLIPAL1A140pp', 'LPLIPAL1A141pp', 'LPLIPAL1A160pp', 'LPLIPAL1A161pp', 'LPLIPAL1A180pp', 'LPLIPAL1A181pp', 'LPLIPAL1E160pp', 'LPLIPAL1G120pp', 'LPLIPAL1G140pp', 'LPLIPAL1G141pp', 'LPLIPAL1G160pp', 'LPLIPAL1G161pp', 'LPLIPAL1G180pp', 'LPLIPAL1G181pp', 'LPLIPAL2E120', 'LPLIPAL2E140', 'LPLIPAL2E141', 'LPLIPAL2E160', 'LPLIPAL2E161', 'LPLIPAL2E180', 'LPLIPAL2E181', 'LPLIPAL2G120', 'LPLIPAL2G140', 'LPLIPAL2G141', 'LPLIPAL2G160', 'LPLIPAL2G161', 'LPLIPAL2G180', 'LPLIPAL2G181', 'LYSabc', 'LYSabcpp', 'LYSMO', 'LYSRC', 'LYSt3pp', 'LYSt3r', 'LYStex', 'M1PD', 'MACACI', 'MACCOAT', 'MACPD', 'MAL6PG', 'MALDDH', 'MAL_Dt2', 'MALS', 'MALT', 'MALTabc', 'MALTabcpp', 'MALTHPabc', 'MALTHXabc', 'MALTHXabcpp', 'MALTHXtexi', 'MALTPTabc', 'MALTpts', 'MALTptspp', 'MALTtexi', 'MALTTRabc', 'MALTTTRabc', 'MAN1PT', 'MAN1PT2', 'MANA1', 'MANAO', 'MANBabc', 'MANpts', 'MCA', 'MCITD', 'MCOATA', 'MCSNAH', 'MCTP1App', 'MCTP1Bpp', 'MCTP2App', 'MDDCP1pp', 'MDDCP2pp', 'MDDCP3pp', 'MDDCP4pp', 'MDDCP5pp', 'MDDEP1pp', 'MDDEP3pp', 'MDDEP4pp', 'MDH', 'MDRPD', 'ME2', 'MECDPDH', 'MECDPDH2', 'MECDPDH5', 'MECDPS', 'MEHLER', 'MELIBabc', 'MELIBt3ipp', 'MELIBtex', 'MEOHtex', 'MEOHtrpp', 'MEPCT', 'METabc', 'METabcpp', 'METAT', 'METB1', 'METGL', 'METOX1s', 'METOX2s', 'METS', 'METSabc', 'METSOXR1', 'METSOXR2', 'METSRabc', 'METSR_R1', 'METSR_R2', 'METSR_S1', 'METSR_S2', 'METtex', 'MG2tex', 'MG2uabcpp', 'MGSA', 'MGt5', 'MI1PP', 'MI1PS', 'MICITDr', 'MINCYCtex', 'MINCYCtpp', 'MLDCP1Bpp', 'MLDCP2Bpp', 'MLDEP2pp', 'MLTG1', 'MLTG2', 'MLTG3', 'MLTG4', 'MLTG5', 'MLTG6', 'MLTGY1pp', 'MLTGY2pp', 'MLTGY3pp', 'MLTGY4pp', 'MME', 'MMM', 'MMM2', 'MMSAD2', 'MMSAD3', 'MMTSAO', 'MNabc', 'MNabc_1', 'MNLDH2', 'MNLDHr', 'MNLpts', 'MNNH', 'MNtex', 'MOADSUx', 'MOAT', 'MOAT2', 'MOBDabcpp', 'MOBDtex', 'MOCOS', 'MOHMT', 'MPTAT', 'MPTG', 'MPTG2', 'MPTS', 'MPTSS', 'MSO3abc', 'MSO3abcpp', 'MSO3tex', 'MSULR', 'MTAP', 'MTHFC', 'MTHFD', 'MTHFD2i', 'MTHFR', 'MTHFR2', 'MTHFR2_1', 'MTHFR3', 'MTRI', 'MTRK', 'MUCCY_kt', 'N2OR', 'N2Otpp', 'N2tex', 'N2trpp', 'NAabcO', 'NACODA', 'NADDP', 'NADH10', 'NADH16', 'NADH16pp', 'NADH17pp', 'NADH18pp', 'NADH2r', 'NADH5', 'NADH6', 'NADH7', 'NADH8', 'NADH9', 'NADHDH', 'NADK', 'NADPHQR2', 'NADS1', 'NADS2', 'NADTRHD', 'NAMNPP', 'NAR_syn', 'NAt3_1', 'NAt3pp', 'NAtex', 'NDH_1', 'NDH1_1p', 'NDH1_2p', 'NDH1_4pp', 'NDPK1', 'NDPK2', 'NDPK3', 'NDPK4', 'NDPK5', 'NDPK6', 'NDPK7', 'NDPK8', 'NFORGLUAH', 'NH3c', 'NH4OHDs', 'NH4t', 'NH4tex', 'NH4tpp', 'NH4tpp_1', 'NI2t4pp', 'NI2tex', 'NI2uabcpp', 'NIabc', 'NICRNS', 'NIT1b', 'NIT1b_1', 'NMNAT', 'NMNHYD', 'NMNt7', 'NNAM', 'NNATr', 'NO', 'NO2t2rpp', 'NO2tex', 'NO3abcpp', 'NO3R1bpp', 'NO3R3pp', 'NO3t2', 'NO3tex', 'NORZpp', 'NOt', 'NOtpp', 'NOVBCNtex', 'NOVBCNtpp', 'NOX', 'NP1', 'NTD1', 'NTD10', 'NTD12', 'NTD2', 'NTD3', 'NTD4', 'NTD5', 'NTD6', 'NTD7', 'NTD8', 'NTD9', 'NTP1', 'NTPP1', 'NTPP10', 'NTPP11', 'NTPP2', 'NTPP3', 'NTPP4', 'NTPP5', 'NTPP6', 'NTPP7', 'NTPP8', 'NTPP9', 'NTPTP1', 'NTRIR3pp', 'NTRIR4pp', 'NTRIRx', 'NTRIRy', 'O2t', 'O2tpp', 'OAADC', 'OACT', 'OALT', 'OAO5t3ex', 'OAO5t3pp', 'OARGDC', 'OCBT_1', 'OCDCAt2pp', 'OCDCEAt2pp', 'OCOAT1', 'OCTAtex', 'OCTDPS', 'OGLT', 'OHPBAT', 'OIVD1r', 'OIVD2', 'OIVD3', 'OMCDC', 'OMLT', 'OMPDC', 'OP4ENH2', 'OP4ENH3', 'OPAH', 'OPHBDC', 'OPHHX', 'OPTCCL', 'ORLT', 'ORNabc', 'ORNabcpp', 'ORNCD', 'ORNDC', 'ORNTAC', 'ORNtex', 'ORPT', 'OXCOAHDH', 'OXDHCOAT', 'OXFOt4pp', 'OXFOtex', 'OXOADLR', 'OXOAEL', 'OXPTNDH', 'P5CD', 'P5CR', 'P5CRx', 'PA120abcpp', 'PA140abcpp', 'PA141abcpp', 'PA160abcpp', 'PA161abcpp', 'PA180abcpp', 'PA181abcpp', 'PACCOAE', 'PACCOAL', 'PACCOAL2', 'PACt1', 'PANTS', 'PAPPT3', 'PAPSR', 'PAPSR2', 'PASYN_EC', 'PC', 'PCADYOX', 'PCMEH2pp', 'PDE1', 'PDE4', 'PDH', 'PDHa', 'PDHbr', 'PDHcr', 'PDIMAS', 'PDIMAT', 'PDX5POi', 'PDX5PS', 'PDXPP', 'PE120abcpp', 'PE140abcpp', 'PE141abcpp', 'PE160abcpp', 'PE161abcpp', 'PE180abcpp', 'PE181abcpp', 'PEAMNO', 'PEPCK_re', 'PERD', 'PETNT181pp', 'PFK_2', 'PFOR', 'PG120abcpp', 'PG140abcpp', 'PG141abcpp', 'PG160abcpp', 'PG161abcpp', 'PG180abcpp', 'PG181abcpp', 'PGAMT', 'PGCD', 'PGI', 'PGK', 'PGK_1', 'PGL', 'PGLCNDH', 'PGLYCP', 'PGM', 'PGM_1', 'PGMT', 'PGP120abcpp', 'PGP140abcpp', 'PGP141abcpp', 'PGP160abcpp', 'PGP161abcpp', 'PGP180abcpp', 'PGP181abcpp', 'PGPP120', 'PGPP120pp', 'PGPP140', 'PGPP140pp', 'PGPP141', 'PGPP141pp', 'PGPP160', 'PGPP160pp', 'PGPP161', 'PGPP161pp', 'PGPP180', 'PGPP180pp', 'PGPP181', 'PGPP181pp', 'PGPP_EC', 'PGSA120', 'PGSA140', 'PGSA141', 'PGSA160', 'PGSA161', 'PGSA180', 'PGSA181', 'PGSA_EC', 'PHACOAOR', 'PHAPC100', 'PHAPC120', 'PHAPC121', 'PHAPC140', 'PHAPC141', 'PHAPC60', 'PHAPC80', 'PHEMEabcpp', 'PHEMEtiex', 'PHEt2rpp', 'PHETA1', 'PHTHDLS', 'PHTHS', 'PHYCBOXL', 'PIabc', 'PIt7', 'PItex', 'PIuabcpp', 'PLIPA1', 'PLIPA1E120pp', 'PLIPA1E140pp', 'PLIPA1E141pp', 'PLIPA1E160', 'PLIPA1E161pp', 'PLIPA1E180pp', 'PLIPA1E181pp', 'PLIPA1G120pp', 'PLIPA1G140pp', 'PLIPA1G141pp', 'PLIPA1G160pp', 'PLIPA1G161pp', 'PLIPA1G180pp', 'PLIPA1G181pp', 'PLIPA2A120pp', 'PLIPA2A140pp', 'PLIPA2A141pp', 'PLIPA2A160pp', 'PLIPA2A161pp', 'PLIPA2A180pp', 'PLIPA2A181pp', 'PLIPA2E160pp', 'PLIPA2G120pp', 'PLIPA2G140pp', 'PLIPA2G141pp', 'PLIPA2G160pp', 'PLIPA2G161pp', 'PLIPA2G180pp', 'PLIPA2G181pp', 'PLPS', 'PMANM', 'PMDPHT', 'PMPK', 'PNP', 'PNTK', 'PPA', 'PPA2', 'PPAKr', 'PPAt4pp', 'PPAtex', 'PPBNGS', 'PPC', 'PPCCYTC1pp', 'PPCDC', 'PPCK', 'PPCOAC', 'PPDK', 'PPGPPDP', 'PPK2r', 'PPKr', 'PPM', 'PPM2', 'PPNCL', 'PPNCL2', 'PPND', 'PPNDH', 'PPPGO', 'PPPGO3', 'PRAGSr', 'PRAIi', 'PRAIS', 'PRAMPC', 'PRASCSi', 'PRATPP', 'PRDX', 'PREPHACPH', 'PREPTHS', 'PRFGS', 'PRFGS_1', 'PRMICI', 'PROabc', 'PROabcpp', 'PROD2', 'PROGLYabcpp', 'PROGLYtex', 'PROt2rpp', 'PRPPS', 'PSCVT', 'PSD120', 'PSD140', 'PSD141', 'PSD160', 'PSD161', 'PSD180', 'PSD181', 'PSERT', 'PSP_L', 'PSSA120', 'PSSA140', 'PSSA141', 'PSSA160', 'PSSA161', 'PSSA180', 'PSSA181', 'PTA2', 'PTAr', 'PTOLDOX', 'PTPATi', 'PTRCabc', 'PTRCabcpp', 'PTRCTA', 'PTRCtex', 'PUNP1', 'PUNP2', 'PUNP3', 'PUNP4', 'PUNP5', 'PUNP6', 'PUNP7', 'PXMO', 'P_Xylt1', 'P_XYLtpp', 'PYAM5PO', 'PYDXK', 'PYDXNO', 'PYDXO', 'PYDXPP', 'PYK', 'PYRDC', 'PYRtex', 'QRr', 'RAFFabc', 'RAFFtex', 'RAFGH', 'RAFH', 'RAFHpp', 'RBFK', 'RBFSa', 'RBFSb', 'RBK', 'RBK_L1', 'RBP4E', 'REPHACCOAI', 'RFAMPtex', 'RFAMPtpp', 'RIBabc', 'RIBabc1', 'RIBabcpp', 'RIBtex', 'RMI', 'RMK', 'RMNabc', 'RMPA', 'RNDR1', 'RNDR1b', 'RNDR2', 'RNDR2b', 'RNDR3', 'RNDR3b', 'RNDR4', 'RNDR4b', 'RNTR1c', 'RNTR1c2', 'RNTR2c', 'RNTR2c2', 'RNTR3c', 'RNTR3c2', 'RNTR4c', 'RNTR4c2', 'RPE', 'RPI', 'S2FE2SR', 'S2FE2SS2', 'S2FE2ST', 'S4FE4SR', 'S4FE4ST', 'S6PG', 'S7PI', 'SADT', 'SADT2', 'SALADC2', 'SALCHS4abcpp', 'SALCHS4FEabcpp', 'SALCHS4FER1', 'SALCHS4FEtonex', 'SALCHS4tex', 'SALCNtex', 'SALCpts', 'SALCptspp', 'SARCOX', 'SBTD_D2', 'SBTPD', 'SBTpts', 'SBTt2', 'SCYSDS', 'SCYSSL_1', 'SDPDS', 'SDPTA', 'SERabcpp', 'SERASr', 'SERAT', 'SERD_D', 'SERD_L', 'SERt2rpp', 'SFGTHi', 'SHCHD2', 'SHCHD3', 'SHCHF', 'SHCHF2', 'SHK3Dr', 'SHKK', 'SHSL1', 'SHSL2r', 'SHSL4r', 'SLCYSS', 'SO3abcpp', 'SO3tex', 'SO4t2', 'SO4t4_2', 'SO4tex', 'SPMDabc', 'SPMDabcpp', 'SPMDt3', 'SPMDt3pp', 'SPMS', 'SPS', 'SPTc', 'SPT_syn', 'SSALx', 'SSALy', 'SSCOARy', 'St', 'SUCCabc', 'SUCD1', 'SUCD3', 'SUCD4', 'SUCDi', 'SUCDpp_syn', 'SUCOAS', 'SUCpts', 'SUCptspp', 'SUCR', 'SUCRabcpp_syn', 'SUCRtex', 'SULAabc', 'SULabc', 'SULabcpp', 'SULFACabcpp', 'SULFACtex', 'SULRi', 'T2DECAI', 'TAGURr', 'TALA', 'TARTD', 'TARTDC', 'TARTRt7', 'TAURabc', 'TAURabcpp', 'TAURtex', 'TDPDRE', 'TDPDRR', 'TDPGDH', 'TDSK', 'TGBPA', 'THD2', 'THD2pp', 'THDPS', 'THFAT', 'THIORDXi', 'THMabc', 'THMabcpp', 'THMtex', 'THRA2i', 'THRabc', 'THRabcpp', 'THRAi', 'THRD', 'THRD_L', 'THRS', 'THRt2pp', 'THZPSN', 'THZPSN3', 'TKT1', 'TKT2', 'TMAOR1e', 'TMAOR1pp', 'TMAOR2e', 'TMAOR2pp', 'TMAOtex', 'TMAtex', 'TMDK1', 'TMDPP', 'TMDS', 'TMDS3', 'TMK', 'TMPK', 'TMPPP', 'TOLtex', 'TOLtpp', 'TPI', 'TRDR', 'TRE6PH', 'TREabc', 'TREH', 'TREpts', 'TREptspp', 'TREtex', 'TRPAS1', 'TRPS1', 'TRPS2', 'TRPS3', 'TRPt2rpp', 'TRPTA', 'TRSARr', 'TSULabc', 'TSULabcpp', 'TSULtex', 'TTDCAt2pp', 'TTRCYCtex', 'TTRCYCtpp', 'TYRL', 'TYRt2rpp', 'TYRTA', 'U23GAAT', 'UAAGDS', 'UAGAAT', 'UAGCVT', 'UAGDP', 'UAGPT3', 'UAMAGS', 'UAMAS', 'UAPGR', 'UDCPDP', 'UDCPDPex', 'UDCPDPS', 'UDCPPtppi', 'UDPDPS', 'UDPDPS2', 'UDPG4E', 'UDPGD', 'UDPGDC', 'UDPKAAT', 'UGLYCH', 'UGMDDS', 'UHBZ1t_pp', 'UHGADA', 'ULA4Ntppi', 'UM3PL', 'UMPK', 'UNK3', 'UPLA4NT', 'UPP3MT', 'UPP3S', 'UPPDC1', 'UPPN', 'UPPRT', 'URCN', 'UREA', 'UREAabcpp', 'UREAtex', 'URIC', 'URIDK2r', 'URIK3', 'URItex', 'USHD', 'VALabc', 'VALabcpp', 'VALt2rpp', 'VALTA', 'VALtex', 'VANKpp', 'VANLNtex', 'VNDH', 'VNDH_2', 'VNLNpp', 'VNTDM', 'VOR1b', 'XAND', 'XANt2', 'XMO', 'XPPT', 'XTSNH', 'XYLabc', 'XYLabcpp', 'XYLI1', 'XYLI2', 'XYLI2i', 'XYLK', 'XYLtex', 'ZN2t4pp', 'Zn2tex', 'ZNabc', 'ZNabcpp', 'EX_glc__D_e', 'EX_h2o_e', 'EX_14glucan_e', 'EX_23camp_e', 'EX_23ccmp_e', 'EX_23cgmp_e', 'EX_23cump_e', 'EX_h_e', 'EX_hco3_e', 'EX_2hxmp_e', 'EX_2pglyc_e', 'EX_leu__L_e', 'EX_3amp_e', 'EX_3cmp_e', 'EX_3gmp_e', 'EX_3hoxpac_e', 'EX_3mb_e', 'EX_3ump_e', 'EX_4hbald_e', 'EX_4hba_e', 'EX_4hbz_e', 'EX_ala__L_e', 'EX_cl_e', 'EX_LalaDgluMdapDala_e', 'EX_5mtr_e', 'EX_dextrin_e', 'EX_arab__L_e', 'EX_acald_e', 'EX_acgam_e', 'EX_ac_e', 'EX_chol_e', 'EX_acmana_e', 'EX_pi_e', 'EX_actn__R_e', 'EX_adn_e', 'EX_nh4_e', 'EX_ala__D_e', 'EX_gln__L_e', 'EX_gly_e', 'EX_thr__L_e', 'EX_arg__L_e', 'EX_cgly_e', 'EX_malt_e', 'EX_malttr_e', 'EX_anhgm_e', 'EX_arab__D_e', 'EX_fe3_e', 'EX_arbt_e', 'EX_lys__L_e', 'EX_orn_e', 'EX_asp__L_e', 'EX_aso3_e', 'EX_aso4_e', 'EX_k_e', 'EX_pro__L_e', 'EX_cellb_e', 'EX_meoh_e', 'EX_btoh_e', 'EX_buts_e', 'EX_butso3_e', 'EX_but_e', 'EX_bz_e', 'EX_ca2_e', 'EX_chols_e', 'EX_mg2_e', 'EX_mn2_e', 'EX_cobalt2_e', 'EX_zn2_e', 'EX_succ_e', 'EX_for_e', 'EX_lipa_cold_e', 'EX_oxa_e', 'EX_co2_e', 'EX_co_e', 'EX_crn_e', 'EX_ctbt_e', 'EX_cu2_e', 'EX_o2_e', 'EX_glu__L_e', 'EX_diact_e', 'EX_dca_e', 'EX_dha_e', 'EX_lac__D_e', 'EX_dms_e', 'EX_dmso_e', 'EX_drib_e', 'EX_ser__D_e', 'EX_dxyl_e', 'EX_enlipa_e', 'EX_galur_e', 'EX_etha_e', 'EX_eths_e', 'EX_ethso3_e', 'EX_etoh_e', 'EX_h2_e', 'EX_fe2_e', 'EX_fe3dcit_e', 'EX_enter_e', 'EX_feenter_e', 'EX_frmd_e', 'EX_fru_e', 'EX_fuc__L_e', 'EX_g3pc_e', 'EX_g3pi_e', 'EX_g3ps_e', 'EX_gal_e', 'EX_gal_bD_e', 'EX_galctn__D_e', 'EX_galctr__D_e', 'EX_galct__D_e', 'EX_galt_e', 'EX_gam_e', 'EX_glcr_e', 'EX_glcur_e', 'EX_glyc3p_e', 'EX_glyb_e', 'EX_glyc2p_e', 'EX_glyclt_e', 'EX_glyc_e', 'EX_gm1lipa_e', 'EX_gsn_e', 'EX_gua_e', 'EX_h2s_e', 'EX_3hcinnm_e', 'EX_pheme_e', 'EX_hexs_e', 'EX_his__L_e', 'EX_4hphac_e', 'EX_3hpppn_e', 'EX_hqn_e', 'EX_hxan_e', 'EX_hxa_e', 'EX_taur_e', 'EX_ile__L_e', 'EX_inost_e', 'EX_isetac_e', 'EX_istnt_e', 'EX_kdo2lipid4_e', 'EX_lcts_e', 'EX_Lcyst_e', 'EX_lipa_e', 'EX_lac__L_e', 'EX_mal__D_e', 'EX_malthp_e', 'EX_malthx_e', 'EX_maltpt_e', 'EX_maltttr_e', 'EX_man_e', 'EX_manb_e', 'EX_melib_e', 'EX_met__L_e', 'EX_metox_e', 'EX_metox__R_e', 'EX_mnl_e', 'EX_mobd_e', 'EX_udcpdp_e', 'EX_mso3_e', 'EX_n2_e', 'EX_nmn_e', 'EX_no2_e', 'EX_no3_e', 'EX_no_e', 'EX_uri_e', 'EX_udcpo5_e', 'EX_octa_e', 'EX_pac_e', 'EX_pdima_e', 'EX_ppa_e', 'EX_progly_e', 'EX_ptrc_e', 'EX_p_xyl_e', 'EX_pyr_e', 'EX_so4_e', 'EX_val__L_e', 'EX_raffin_e', 'EX_spmd_e', 'EX_urea_e', 'EX_rib__D_e', 'EX_rmn_e', 'EX_salchs4fe_e', 'EX_salchs4_e', 'EX_salcn_e', 'EX_sbt__D_e', 'EX_so3_e', 'EX_s_e', 'EX_sucr_e', 'EX_sula_e', 'EX_sulfac_e', 'EX_tartr__L_e', 'EX_thm_e', 'EX_tma_e', 'EX_tmao_e', 'EX_tol_e', 'EX_tre_e', 'EX_tsul_e', 'EX_udcpp_e', 'EX_vanln_e', 'EX_xan_e', 'EX_xyl__D_e', 'sink_2ohph_c', 'sink_4hba_c', 'sink_5drib_c', 'sink_aacald_c', 'sink_bmocogdp_c', 'sink_hemeO_c', 'sink_lipopb_c', 'sink_sheme_c', 'Growth', 'ATPM', 'ASPO5', 'CHRPL', 'NNDPR', 'QULNS', 'laccase', 'DM_laccase_c']\n"
     ]
    }
   ],
   "source": [
    "flux_names=fluxes.index.tolist()\n",
    "flux_names_E= fluxes_E.index.tolist()\n",
    "print(flux_names)"
   ]
  },
  {
   "cell_type": "code",
   "execution_count": null,
   "metadata": {},
   "outputs": [],
   "source": []
  },
  {
   "cell_type": "code",
   "execution_count": 12,
   "metadata": {},
   "outputs": [],
   "source": [
    "common_reactions= set(flux_names)&set(flux_names_E)\n",
    "type(common_reactions)\n",
    "common_reactions= sorted(common_reactions)"
   ]
  },
  {
   "cell_type": "code",
   "execution_count": 13,
   "metadata": {},
   "outputs": [
    {
     "data": {
      "text/plain": [
       "1369"
      ]
     },
     "execution_count": 13,
     "metadata": {},
     "output_type": "execute_result"
    }
   ],
   "source": [
    "len(common_reactions)"
   ]
  },
  {
   "cell_type": "markdown",
   "metadata": {},
   "source": [
    "-> about 1300 reaction which one has but the other has not "
   ]
  },
  {
   "cell_type": "markdown",
   "metadata": {},
   "source": [
    "fluxes for reactions in common for our model and E.coli "
   ]
  },
  {
   "cell_type": "code",
   "execution_count": 14,
   "metadata": {
    "collapsed": true,
    "jupyter": {
     "outputs_hidden": true
    }
   },
   "outputs": [
    {
     "name": "stdout",
     "output_type": "stream",
     "text": [
      "[0.0, 0.0, 0.0, 0.0, 0.0, 0.0, 0.0, 0.0, 0.0, 0.0, 0.0, 0.0, 0.0, 0.0, 0.0, 0.0, 0.0, 0.0, 0.0, 0.0, 0.0, 0.0, 0.0, 0.0, 0.0, 0.0, 0.0, 1.0207331358326468e-16, 0.0, 1.0207331358326468e-16, 0.0, 1.0207331358326471e-16, 0.0, 0.0, 0.0, 0.0, 0.0, 0.0, 0.0, 0.0, 0.0, 0.0, 0.0, 0.0, 0.0, 0.0, 0.0, 1.0207331358326468e-16, 0.0, 1.0207331358326471e-16, 0.0, 0.0, 0.0, 0.0, 0.0, 0.0, 0.0, 0.0, 0.0, 1.0207331358326468e-16, 0.0, 1.0207331358326471e-16, 0.0, 0.0, 0.0, 0.0, 0.0, 0.0, 0.0, 0.0, 0.0, 0.0, 6.753573830873916e-05, 0.0, 0.0, 0.0, 0.0, 0.0, 0.0, 0.0, 1.0207331358326468e-16, 0.0, 0.0, 0.0, 0.0, 0.0, 0.0, 6.020449135244086e-17, 6.020449135244086e-17, 6.020449135244086e-17, 6.020449135244086e-17, 0.0, 0.0, 0.0, 0.0, 0.0, 0.0, 0.0, 0.0, 0.0, 0.0, 0.0, 0.0, 0.19621090515099696, 0.59044402395443, 0.0, -6.020449135244086e-17, -6.020449135244086e-17, -6.020449135244086e-17, -6.020449135244086e-17, 0.0, 0.0, 0.0, 0.0, -8.514738552052453e-16, 0.0, 0.0, 0.0, 0.0, 0.0, 0.0, 0.0, 0.0, 0.0, 0.0, 0.0, 0.0, 0.0, 0.0004518140892854733, 0.0004518140892854733, -2.710505431213761e-20, 1.0333987750885432, 0.0, 0.0, 0.0, 0.0, 0.00013507147661670493, 0.0, 0.0, 0.0, 0.1379734872926239, 0.30223931286620437, 0.1379734872926239, 0.0, 0.0, 0.0, 0.0, 0.0, 0.0, 0.0, 0.0, 0.0, 0.0, 0.0, 0.0, 0.0, 0.0, 0.0, 0.0, 0.0, 0.0, 0.0, 0.0, 0.30223931286620437, 0.0, 0.0, 0.06753573830873916, 0.0, 0.0, 0.0, 0.0, 0.0, 0.0, 0.0, 0.0, 0.0, 0.0, 0.0, 0.0, 0.0, 0.0, 0.0, 0.0, 0.0, 0.0, 0.0, 0.0, 0.0, 0.0, 6.753573830873916e-05, 0.0, 0.0, 0.0, 0.0, 0.0, 0.0, 0.0383893397268366, 0.0383893397268366, 0.0, 0.0, 0.0, 0.0, 0.0, 0.0, 0.0, 0.0003012093928569765, 0.0, 0.0, 0.0, 0.0, 0.0, 0.0, 0.0, 0.0, 0.0, -0.12970643756623224, 0.1627982739801303, 0.0, 0.22379385139105207, 0.12970643756623224, 0.0015384641186500726, -1.120848101195017, 0.0, 0.0, 0.0, 0.0, 0.0, 0.0, 41.2148437789753, 0.0, 0.0, 0.0, 0.0, 0.0, 0.0, 0.0, 0.0, 0.0, 0.0, 0.0, 0.0, 0.0035152351789698713, -0.0035152351789698713, 0.22379385139105207, 0.0, 0.0, 0.0, 0.7434334073026008, 0.0, 0.0, 0.0, 0.0, 0.0, 0.0, 0.0, 0.21824916727590382, 0.2571578568303345, 6.753573830873916e-05, 0.0, 0.0, 0.0017576175894849356, 0.0035152351789698713, 0.0, 0.0, 0.0, 0.0, 6.753573830873916e-05, 0.0, 0.0, 0.0, 0.0, 0.0, 0.0, 0.0, 0.0, 0.0, 0.0, 0.0, 0.0, 0.0, 0.0, 0.0, 0.0, 0.0, 0.00047882838460896045, 0.0, 0.0, 0.0, 0.0, 0.0, 0.0, 0.0, 0.0, 0.7434334073026008, 0.0, 0.0, 0.0, 0.0, 0.0, 0.06753573830873916, 0.0, 0.0, 0.0, 0.0, 0.0, 0.0, 0.0, 0.0, 0.000602418785713953, 0.0, 0.0, 0.0, 0.0, 0.2571578568303345, 0.0, 0.0, 0.0, 0.0, 0.59044402395443, 0.0, 0.0, 0.0, 0.0, 0.0, 0.06753573830873916, 0.06753573830873916, 0.0004518140892854733, 0.0004518140892854733, 6.753573830873916e-05, 6.753573830873916e-05, 6.753573830873916e-05, 0.0, -0.22379385139105207, 0.0, 0.0, 0.2571578568303345, 0.2571578568303345, 0.0676032740470479, 0.0676032740470479, 0.0, 0.0, 0.0, 0.0, 0.0, 0.0004518140892854733, 0.0004518140892854733, 0.0, 0.0, 0.00038900585265796983, 0.00038900585265796983, 0.0003890058526576548, 0.017671401285864724, -0.40354449616310273, 0.0, 0.0003890058526576548, 0.0, 0.7434334073026008, 0.7434334073026008, 0.0, 0.0, 0.0, 0.0, 0.0, 0.0, 0.0, 0.0, 0.0, 0.0, 1.0207331358326468e-16, 0.0, 0.0, 1.0207331358326468e-16, 0.0, 0.0, 0.0, 1.0207331358326471e-16, 0.0, 0.0, 0.0, 0.0, 0.0, 0.0, 0.0, 0.0, 0.0, 6.020449135244086e-17, 6.020449135244086e-17, 6.020449135244086e-17, 6.020449135244086e-17, 0.0, 0.0, 0.0, 0.0, 9.401354886223615, 9.401354886223615, 0.0, 0.0, 0.0, 0.0, 0.0, 8.33464500869081, 0.0, 0.0, -7.462040675326999, -7.462040675326999, 0.0, 0.0, 0.0, 0.0, 0.0, 0.0, 0.0, 0.0, 0.0, 0.0, 0.0, 0.0, 0.0, 0.0, 0.0003890058526576548, 0.0, 0.0, 0.0, 6.170473080305291, 0.0, 0.0, 0.0, 0.0, -0.34905643737656794, 0.0, 0.0, 0.0, 0.0, -0.0035152351789698713, 0.0, 0.0, 0.0, -0.0035152351789698713, 25.901171716169394, -6.753573830873916e-05, 0.0, -0.00047882838460896045, 0.0, 0.0, 0.0, 0.0, 0.0, 0.0, 0.0, 0.0, 7.462040675326999, 9.990158016856267, -10.0, 0.0, 0.0, 0.0, 0.0, 0.0, 0.0, 0.0, 0.0, 0.0, 0.0, 0.0, 0.0, 0.0, 0.0, 0.0, -10.0, 0.0, 0.0, 0.0, 0.0, -10.0, 0.0, 0.0, 0.0, 0.0, 0.0004518140892854734, 0.0, 0.0, 0.0, 23.767251962141103, -0.062170699257493085, 8.046795535585993, -0.48769380097674775, 0.0, 0.0, 0.0, 0.0, 0.0, -0.1318250336769774, 0.0, 0.0, 0.0, 0.0, -0.23175631493765209, 0.0, 0.0, 0.0, 0.0, 0.0, 0.0, 0.0, 0.0, 0.0, -0.10401111521190542, -0.005858725298283121, -0.000466671951713388, 0.0, 0.0, 0.0, 0.0, 0.0, 0.0, 0.0, 0.0, -10.0, 0.0, 0.0, 3.376786915436958e-05, -0.6659651879608238, 0.0, 0.0, 0.0, 0.0, 0.0, 0.0, 0.0, 0.0, 0.0, 0.0, -0.002929700327833106, 0.0, 0.0, 0.0, 0.0, 0.0, 0.0, -0.00015060469642848824, -0.30530205859848625, 0.0, 0.0, 0.0, 0.0, 0.0, 0.0, 0.0, 0.0, 0.0, -0.00023029686763280035, 6.020449135244086e-17, 0.0, 0.0, 0.0, 0.0, 0.0, 0.0, 0.0, 0.0, 0.0, 0.0, 0.0, 0.0, 0.0, 0.0, 0.0, 0.0, 0.0, 0.0, 0.0, 0.0, 0.0, 3.376786915436958e-05, 0.0, 0.0, 0.0, 0.0, 0.0, 0.0, 0.0, 0.0, 0.0, 0.0, 0.0, 0.0, 0.0, 0.0, 0.0, 0.0, 0.0, 0.017671401285864724, 0.00015060469642848824, 0.0, 0.0, 0.0, 0.0, 0.0, 0.0, 0.0, 0.0, 0.0, 0.0, 0.44014526442051594, 0.0, 0.0, 0.13507147661747831, 0.0, 0.00027014295323495664, 0.0, 0.0, 0.0, 0.0, 0.0, 0.0, 0.0, 0.0, 0.0, 0.0, 0.0, 0.0, 0.0, 0.0, 0.0, 0.0, 0.0, 0.0, 0.0, 0.0, 9.401354886223615, 0.0, 0.0, 0.0, 0.0, 0.0, 0.0, 0.0, 0.0, 0.0, 0.0, 8.33464500869081, 0.30223931286620437, 0.0, 0.0004518140892854733, 0.0, 0.0, 0.0, 0.13507147661747831, 0.0, 0.0, 0.0, 0.0, 0.0, -0.5434636411766315, 0.16426582557358047, 0.0, 0.0, 0.0, 0.0, 0.0, 0.0, 0.0, 0.0, 0.0, 0.0, 0.0, 0.0, 0.0, 1.3428610351668975, 0.0, 0.0, 0.0, 0.0, 0.0, -8.302232581804237, 0.30223931286620437, -6.3730802952315075, 0.0, 0.00027014295323495664, 0.00027014295323495664, 0.0, 0.0, 0.0, 0.0, 0.0, 0.0, 0.0, 0.0, 0.0, 0.0, 1.1663038834404205, 0.0, 0.0, 0.0, 0.0, 0.0, 0.0, 0.0, 0.0, 0.0, 0.0, 0.0, 0.0, 0.0, 0.0, 0.16426582557358047, 0.0, 0.0, 0.0, 0.0, 0.0, 0.0, 0.0676032740470479, 0.0, 0.0, 0.018060407138522777, 0.0, 0.0, 0.0, 0.0, 0.0004518140892854733, 0.0, 0.0, 0.0, 0.0, 0.0, 0.0, 0.0, 0.0, 0.0, 0.0, 0.0, 0.0, 0.0, 0.0, 6.020449135244086e-17, 6.020449135244086e-17, 6.020449135244086e-17, 6.020449135244086e-17, 0.0, 0.0, 0.0, 0.0, 0.0, 0.0, 0.22379385139105207, 0.0, 0.0, 0.0, 0.0, 0.0, 0.0, 0.0, 0.0, 0.0, 0.0, 0.0, 0.0, 3.376786915436958e-05, 0.0, 0.0, 0.0, 0.0, 0.0, 0.0, 0.0, 0.0, 0.062170699257493085, 0.0, 0.0, 0.0, 0.0, 0.0, 0.0, 0.0, 5.984447915205979, 0.0, 0.0, 0.0, 0.0, 0.0, 0.0, 0.0, 0.0, 0.0, 0.0, 0.0, 0.0, 0.0383893397268366, 0.0, 0.0, 0.0, -0.30223931286620437, 0.16426582557358047, 0.0, 0.0, 0.0, 0.0, 0.6758301332555529, 0.3042694371597451, -0.3042694371597451, -0.3042694371597451, 0.3042694371597451, 0.0, 0.0, 0.0, 0.0, -0.59044402395443, 0.19621090515099696, -3.01721886723872e-16, 0.0, 0.0, 0.0, 0.0, 0.0, 0.0, 0.0, 0.0, 0.0, 0.0, 0.0, 0.0, 0.0, 0.0, 0.0, 0.0, 0.0, 0.0, 0.0, 0.0, 0.0, 0.0, 0.0, 0.0, 0.0, 0.0, 0.0, 0.0, 0.0, 0.0, 0.0, 0.0, 0.0, 0.0, 0.0, 0.0, 0.0, 0.0, 0.0, 0.0, 0.0, 0.0, 0.0, 0.0, 0.0, 0.0, 0.0, 0.0, 0.0, 0.0, 0.0, 0.0, 0.0, 0.0, 0.0, 0.0, 0.0, 0.0, 0.0, 0.0, 0.0, 0.0, 0.0, 7.574243566056851, 0.0, 0.0, 0.0, 0.0, 0.0, 0.0, 0.0, 0.0, -7.254971442514149e-15, 0.0, 0.0, 0.0, 0.0, 0.0, 0.0, 0.0, 0.0, 0.0, 0.0, 0.0, 8.014388830477367, 0.0, 0.0, 0.7434334073026008, 0.0, 0.0, 0.0, 0.0, 0.7434334073026008, 0.00028567617304521716, 0.0, 0.0, 0.0, 0.0, 0.0, 0.0, 0.0, 0.0, 0.0, 0.0, -1.1362438767648086e-16, 0.0, 0.0, 0.0, 0.0, 0.0, 0.0, 0.0, 0.0, 0.0, 0.0, 0.0, 0.0, 0.0, 0.0, 0.0, 1.3877787807814457e-17, 0.0, 0.0, 0.0, 0.0, 0.0, 0.0, 0.0, 0.0, 0.00038900585265796983, 0.0, 0.0, 0.0, 0.0, 0.0, 0.0, 0.0, 0.6046292304288372, 0.6046292304288372, 0.0, 0.0, 0.0, 0.0, 0.0, 19.774633916621145, 0.0, 0.0, 0.0, 0.0003018847502178848, 0.0, 0.0015384641186500726, 0.0, 0.0, 0.0, -0.003515235178970899, 7.195780042148554, 0.3408049208700076, 0.7438224131552588, 0.017671401285864724, 0.0, 0.0, 0.0, 0.0, 0.0, 0.0, 0.0, 0.0, 0.0, 0.0, 0.0015384641186500726, 0.0015384641186500726, 0.0, 0.0, 0.0, 0.0, 0.0, 0.0, 0.0, 0.0003890058526576548, 0.0, 0.0, 0.0, 0.0, 0.0, 0.0, 0.0, 0.0, 0.0, 0.0, 0.0, 0.0, 0.0, 0.0, 0.0, 0.0, 0.0, 0.0, 0.0, 0.0, 0.0, 0.0, 0.0, 0.0, 0.0, 0.0, 0.0, 0.0, 6.753573830873916e-05, 0.0, 0.3042694371597451, 0.22379385139105207, 0.0, 0.0, 0.0, 0.0, -0.22379385139105207, 0.0, 0.0, 0.0, 0.0, 0.0, 0.0, 0.0, 0.0, 0.0, 0.0, 0.0, 0.0, 0.0, 0.00038900585265796983, 0.06753573830873916, 0.0, 0.0, 0.0, 0.0, 0.0, 0.0, 0.0, 0.0, 0.0, 0.0, 0.0, 0.0, 0.0, 0.0, 0.0, 0.0, 0.0, 0.0, 0.0, 0.0, 0.0, 0.0, 0.0, 0.0, 0.0, -0.13507147661747831, 0.0, 0.5986451137763852, -8.33464500869081, 9.401354886223615, 0.0, -8.33464500869081, 0.0, 0.0, 0.0, 0.0, 0.0, 0.0, 0.0, 0.0, 0.0, 0.0, 0.0, 0.0, 0.0, 0.0, 0.0, 0.0, 0.0, 0.0, 0.0, 0.0, 0.0, 0.0, 0.0, 0.0, 0.0, 0.0, 0.0, 0.0, 0.0, 3.376786915436958e-05, 3.376786915436958e-05, -0.12512008557768506, 0.0, 0.0, 0.0, 0.0, 0.0, 0.0, 0.0, 0.0, 0.0, 0.0, 0.0, 0.0, 0.0, 0.0, 0.0, 0.0, 0.0, 0.0, 0.0, 0.0, 0.0, 0.0, 0.0, 0.0, 0.0, 0.0, 0.0, 0.0, 0.0, 0.0, 0.0, 0.0, 0.0003012093928569765, 0.0, 0.00038900585265796983, 2.9754706483996514, 0.0, 0.0, 0.0, 0.0, 0.00013507147661747832, 0.0, 0.00038900585265796983, 0.0, 0.0, -6.753573830873919e-05, 0.0003890058526576548, 0.0, 0.09312908169821876, 0.12512008557768506, 0.0, 3.376786915436958e-05, 0.30223931286620437, 0.30223931286620437, 0.0383893397268366, 0.0, 0.30223931286620437, 0.0, 0.30223931286620437, 0.0, 0.0, 0.0, 0.0, 0.0, 0.5659609681027401, 0.2571578568303345, 0.0, 0.0, 0.0, 0.0, 0.0, 0.0, 0.0, 0.0, 0.0, 0.0, 0.0, 0.0, 0.0, 0.0, 0.0, 0.0, 0.0, 0.0, 0.00038900585265796983, 0.0, 0.0, 0.0, -6.753573830873919e-05, 0.0, 0.0, 0.0, 0.0, 0.0, 0.0, 0.0, 0.0, 0.0, 4.646334286003752, 0.0, 0.0015384641186500726, 0.00015060469642848824, 0.000602418785713953, 0.0003012093928569765, 0.0, 0.0, 0.0, 0.0, 0.0, 0.0, 0.0, 0.0, 0.0, 0.0, 0.0, 0.0, 0.0, 0.0, 0.0, 0.0, 0.0, 0.018060407138522777, 0.0, 0.017671401285864724, 0.0, 0.0, 0.0, -0.46357363715890454, -0.46297121837319277, 0.0, 0.0, 0.0, 0.0, 0.0, 0.0, 0.0, 0.0, 0.0, 0.0, 0.06753573830873916, -0.06753573830873916, 0.0, 0.0, 0.0, 0.0, 0.0, 0.0, 0.0, 0.0, 0.2571578568303345, 0.2571578568303345, 0.0, 0.0, 0.0, 0.0, 0.0, 0.0, 0.0, 0.0, 0.0, 0.129773973304541, 0.0, 0.0, 0.0, 0.0, 0.0, 0.0, 0.0, -0.10320789016428451, 0.0, 0.0, 0.0, 0.0, 0.0, 0.0, 0.0, 0.0, 0.0, 0.06753573830873916, 0.0, 0.0, 0.0, 0.0, 0.0, 0.13397267015519565, 0.0, 0.0, 0.0, 0.0, -0.10320789016428451, -0.36036574699462004, 0.0, 0.0, 0.0, 0.0, 0.0, 0.0, 0.0, 0.00015060469642848824, 0.00015060469642848824, 0.0, -0.0015384641186501863, 0.0, 0.0, 0.0, 0.0, 0.0, 0.0383893397268366, 0.0, 0.0, 0.0, 0.0, 0.0, 0.0, 0.0, 0.0, 0.0, -0.09312908169821876, 0.0, 0.0, 0.06753573830873916, 0.0, 0.06753573830873916, 0.13507147661747831, 0.06753573830873916, 0.06753573830873916, 0.06753573830873916, 0.06753573830873916, 0.06753573830873916, 0.06753573830873916, 0.0, 0.0, 0.0, 0.0, 0.0, 0.0, 0.06753573830873916, 0.0, 0.0, 0.0, 0.2913295896997913, 0.0, 3.376786915436958e-05, 3.376786915436958e-05, 0.0, 0.0, 0.0, 0.0, 0.0, -0.28578558094202605, 0.0, 0.0, 0.0, 0.0, 0.0, 0.0, 0.0, 0.0, 0.0, 0.0, 0.0, 0.0, 0.0, 0.0]\n"
     ]
    }
   ],
   "source": [
    "our_model_fluxes=[]\n",
    "for i in common_reactions: \n",
    "    value= fluxes.loc[i]\n",
    "    our_model_fluxes.append(value)\n",
    "print(our_model_fluxes)  "
   ]
  },
  {
   "cell_type": "code",
   "execution_count": 15,
   "metadata": {
    "collapsed": true,
    "jupyter": {
     "outputs_hidden": true
    }
   },
   "outputs": [
    {
     "name": "stdout",
     "output_type": "stream",
     "text": [
      "[0.0, 0.0, 0.0, 0.0, 0.0, 0.0, 0.0, 0.0, 0.0, 0.0, 0.0, 0.0, 0.0, 0.0, 0.0, 0.0, 0.0, 0.0, 0.0, 0.0, 0.0, 0.0, 0.0, 0.0, -1.3877787807814446e-17, 8.326672684688674e-17, 0.0, 0.0, -5.551115123125783e-17, 0.0, 0.0, 0.0, 0.0, 0.0, 0.0, 0.0, 0.0, 0.0, 0.0, 0.0, 0.0, 0.0, -1.3877787807814446e-17, 8.326672684688674e-17, -8.326672684688674e-17, 0.0682514312155646, -5.551115123125783e-17, 0.0, -2.7755575615628914e-17, 0.0, 0.0, 0.0, 0.0, 0.0, -1.3877787807814446e-17, 0.0, -8.326672684688674e-17, 0.0682514312155646, -8.326672684688674e-17, 0.0, -2.7755575615628914e-17, 0.0, 0.0, 0.0, 0.0, 0.0, 0.0, 0.0005867111364516702, 0.0, 0.0, 0.0, 0.0, 0.0001973243732460684, 0.034125715607782284, 0.0, 0.0, 0.1119294004828854, 0.13192493697182037, 0.0, 0.0, 0.06825143121556451, 0.0, -1.3877787807814446e-17, 0.0, 0.0, 0.0, 0.0, 0.3121057686702703, 0.3121057686702703, 0.3121057686702703, 0.3121057686702703, 0.3121057686702703, 0.24385433745470578, 0.24385433745470575, 0.0, 0.0, 0.06825669319885097, 0.0, 0.0, 0.0, 0.0, 0.2594087600497825, 0.2594087600497825, 0.25479312371025337, 0.7668174233868668, 0.0, 0.0, -0.3121057686702703, -0.3121057686702703, -0.3121057686702703, -0.3121057686702703, -0.24385433745470575, -0.1119294004828854, 0.0, 0.0, 0.2594087600497825, 6.913003110880916, 6.913003110880916, 0.0, 0.0, -2.038300084272748e-17, 0.0559647002414427, 0.0, 0.0, 0.0, 0.0, 0.0, 0.0, 0.0005867111364516702, 0.0005867111364516702, 0.0, 1.4828496920806982, 0.0, 0.0, 0.0, 0.0, 0.0005902191253093512, 0.0, 0.0, 0.2170410246208152, 0.26248877426685957, 0.3927140906371205, 0.26248877426685957, 0.0, 0.0, 0.0, 0.0, 0.0, 0.0, 0.0, 0.0, 0.0, 0.0, 0.0, 0.0, 0.0, 0.0, -2.038300084272748e-17, 0.0559647002414427, 0.06596246848591017, 0.0, 0.0, -0.2594087600497825, 0.4757990527375027, 5.970062721906751, 0.0, 0.02436999859449666, 0.0, 0.03655499789174499, 0.0, 0.0, 0.0, 0.0, 0.0, 0.0, 0.0, 0.0, 0.0, 0.0, 0.0, 0.0, 0.0, 0.0, 0.0, 0.0, 0.0, 0.0, 0.0, 0.0, 0.0, 0.00019557037881721447, 0.0, 0.0, 0.0, 0.0, 0.0, 0.04985115265967229, 0.04985115265967229, 0.0, 0.0, -2.038300084272748e-17, 0.0559647002414427, 0.0, 0.0, 0.0, 0.0003911407576344289, 0.0, 0.0, 0.0, 0.0, 0.0, 0.2594087600497825, 0.2594087600497825, 0.0, 0.0, -0.9375766740107281, 0.0, 0.0, 0.2901062935463697, 0.9375766740107281, 0.0, -2.567692615335228, 0.0, 0.0, 0.0, 0.0, 6.86, 0.08308496210038235, 70.43249366231511, 0.0, 0.0, 0.0, 0.0, 0.0, 0.0, 0.2170410246208152, 1.7539944288539413e-06, 0.0, 0.0, 0.0, 0.0, 0.004564770501092383, -0.004564770501092383, 0.0, 0.0, 0.0, 0.0, 0.002095146345266028, 0.0, 0.0, 0.0, 0.0, 0.0, 0.0, 0.0, 0.28360686719025147, 0.3342403013651926, 0.00019557037881721447, 0.0, 0.0, 0.0022823852505461915, 0.004564770501092383, 0.0, 0.0, -24.003293272975903, -24.003293272975903, 2.192493036067427e-05, 0.0, 0.00019557037881721447, 0.0, 0.0, 0.0, 0.0, 0.0, 0.0, 0.0, 0.0, 0.0, 6.913003110880916, 0.0, 0.0, -0.13192493697182037, 0.0, 0.14077997784588941, 0.0006217910250287222, 0.0, 0.2170410246208152, 0.13497951826966947, 0.0, 0.0, 0.0, 0.0, 0.0, 0.15873912680292462, 0.0, 0.0, 0.0, 0.01218499929724833, 0.3009512410999737, 0.3253212396944703, 0.0, 0.0, 0.0, 0.0559647002414427, 0.06596246848591017, 0.0, 0.0, 0.0, 0.0007822815152688578, 0.0, 0.0, 0.0, 0.0, 0.3342403013651926, 0.0, 0.0, 0.0, 0.0, 0.7668174233868668, 0.25479312371025337, 0.0, 0.0, 0.0, 0.0, 0.3253212396944703, 0.3253212396944703, 0.023534220249147784, 0.0005867111364516702, 0.0, 0.0, 0.0, 0.0005867111364516702, -0.2901062935463697, 0.0003911407576344289, 0.0005867111364516702, 0.3342403013651926, 0.3342403013651926, 0.0002438052256106974, 0.002095146345266028, 0.0, 0.0, 0.0, 0.0, 0.0, 0.0005867111364516702, 0.0005867111364516702, 0.0, 0.0, 0.0005910961225234443, 0.0005910961225234443, 0.0, 0.022947509112696114, 0.0, 0.0, 0.0, 0.022947509112696114, 0.002095146345266028, 0.002486287102900457, 0.0, 0.0, -0.00039114075763445577, 0.0, 0.0, 8.326672684688674e-17, 0.0, -8.326672684688674e-17, 0.0, 0.0, 0.0, -5.551115123125783e-17, 0.0, 0.0, 0.0, -2.7755575615628914e-17, 0.0, 0.0, 0.0, 0.0, 0.0, 0.0, 0.0, 0.0, 0.0, 0.0, 0.0, 0.3121057686702703, 0.3121057686702703, 0.3121057686702703, 0.3121057686702703, 0.3121057686702703, 0.24385433745470575, 0.24385433745470575, 0.0, 0.0, 0.0, 0.0, 0.0, 0.0, 0.0, 0.0, 15.5988975322035, 0.0, 0.0, 0.0, 0.0, 0.0, 0.0, 0.0, 0.0, 0.0, 0.0, 0.0, 0.0, 0.0, 0.0, 0.0, 0.0, 0.0, 0.0, 0.0, 0.0, 0.0, 0.0, 0.0, 0.0, 0.0, 0.0, 0.0, 0.0, 0.0, 0.0, 0.0, 0.0, -0.004564770501092383, 0.0, 0.0, 0.0, -0.004564770501092383, 24.003293272975903, -2.192493036067427e-05, 0.0, -0.0006217910250287222, 0.0, 0.0, 0.0, 0.0, 0.0, 0.0, 0.0, 0.0, 0.0, -0.014085452260912925, 0.0, 0.0, 0.0, 0.0, 0.0, 0.0, 0.0, 0.0, 0.0, 0.0, 0.0, 0.0, 0.0, 0.0, 0.0, 0.0, -10.0, 0.0, 0.0, 0.0, 0.0, 0.0, 0.0, 0.0, 0.0, 0.0, 0.0, 0.0, 0.0, 0.0, 47.16236480869442, 0.0, 8.058200328043645, 0.0, 0.0, 0.0, 0.0, 0.0, 0.0, -0.1711837172756437, 0.0, 0.0, 0.0, 0.0, 0.0, 0.0, 0.0, 0.0, 0.0, 0.0, 0.0, 0.0, 0.0, 1.7539944288539413e-06, 0.0, -0.007607950835153971, -0.0006060050751690371, 0.0, -6.138980500988794e-06, 0.0, -9.47149537104809, 0.0, 0.0, 0.0, 0.0, -22.131763238945886, 0.0, 0.0, 0.0, -0.8459567750195377, 0.0, 0.0, 0.0, 0.0, 0.0, 0.0, 0.0, 0.0, 0.0, 0.0, -0.2208454385369994, 0.0, 0.0, 0.0, 0.0, 0.0, 0.0, 0.0, 0.0, 0.0, 0.0, 0.0, 0.0, 0.0, 0.0, 0.0, 0.0, 0.0, -0.0002990560501195971, 0.0, 0.0, 0.1119294004828854, 0.13192493697182037, 0.0, 0.0, 0.0, 0.0, 0.0, 0.0, 0.0, 0.0, 0.0, 0.0, 0.0, 0.0, 0.0, 8.451763770252557, 0.0, 0.0, 0.0, 0.0, 0.00019557037881721447, 0.0, 0.0, 0.0, 0.0, 0.0, 0.0, 0.0, 0.0, 0.014085452260912925, 0.0, 0.0, 0.0, 0.0, 0.0, 0.0, 0.0, 0.0, 0.0, 0.0001955703788172144, 0.0, 0.0, 0.0, 0.0, 0.0, 0.0, 0.0, 0.0, 0.0, 0.0, 6.884588401133501, 0.0, 0.0, 0.08286571279677561, 0.0, 0.0031291260610754315, 0.0, 0.0, 0.0, 0.0, 0.0, 0.06596246848591017, 0.0, 0.0, 0.0, 0.0, -0.12192716872735286, 0.0, 0.0, 0.0, 0.0, 0.0, 0.0, 0.0, 0.193864619235154, 0.193864619235154, 2.3553662197940852, 0.0, 0.0, 0.0, 0.0, 0.0, 0.0, 0.0, 0.0, 0.0, 0.0, 17.10543360355006, 0.3907583868489476, 0.0, 0.0, 0.0, 0.0, 0.0, 0.08286571279677561, 0.0, 0.0, 0.0, 0.0, 0.0, 0.9783188951027688, 0.21331027847064316, 0.0, 0.0, 0.0, 0.0, 0.0, 0.0, 0.0, 0.0, 0.0, 0.0, 10.0, 0.0, 0.0, 1.3737784255196486, 0.0, 0.0, 0.0, 0.193864619235154, 0.0, -7.499494782138848, 0.3929096610159377, -0.02436999859449666, 0.0, 0.0031291260610754315, 0.0031291260610754315, 0.0, 0.0, 0.0, 0.0, 0.0, 0.0, 0.0, 0.0, 0.0, 0.0, 0.04754070349826933, 0.0, 0.0, -0.004564770501092383, 0.0, 0.0, 0.0, 0.0, -1.3877787807814457e-17, 0.0, 0.0, 0.0, 0.0, 0.0, 0.0, 0.21331027847064316, 0.0, 0.0, 0.0, 0.0, -1.3877787807814457e-17, 0.0, 0.0002438052256106974, 0.0, 0.0, 0.0, 0.0, 0.0, 0.0, 0.0, 0.0005867111364516702, 0.0003911407576344289, 0.0, 0.0, 0.0, 0.0, 0.0, 0.0, 0.0, 0.0, 0.0, -47.16236480869442, -47.16236480869442, 0.0, 0.0, 0.3121057686702703, 0.3121057686702703, 0.3121057686702703, 0.3121057686702703, 0.3121057686702703, 0.24385433745470578, 0.24385433745470575, 0.0, 0.0, 0.00019557037881721447, 0.46097078383597145, 0.0, 0.0, 0.0, 0.0, 0.0, 0.0, 0.08308496210038235, 0.08308496210038235, 0.0, 0.0, 0.0, 0.0, 0.00039114075763442893, 0.0, 0.0005867111364516702, 0.0, 0.0, 0.0, 0.0, -0.6122554343162578, 0.4772759160465883, 0.13497951826966947, 0.08308496210038235, 0.0, 0.0, 0.0, 0.0, 0.0, 0.0, -8.058200328043645, 1.7539944288539413e-06, 0.0002280192757510124, 2.4555922003954963e-05, 0.0002280192757510124, 0.0002280192757510124, 6.913003110880916, 0.0, 0.0011550053314003201, 0.0, 0.0, 0.08308496210038235, 0.08308496210038235, 0.04985115265967229, -0.25479312371025337, 0.0, 0.0, -0.4757990527375027, 0.21331027847064316, 0.0, 0.0, 0.0, -0.0018513411196553306, 0.0, 0.3951144320129975, -0.3951144320129975, -0.3951144320129975, 0.3951144320129975, 0.0, 0.0, 0.017062857803891142, 0.017062857803891142, -0.7668174233868668, 0.25479312371025337, 0.0, 0.0, 0.034125715607782284, 0.034125715607782284, 0.034125715607782284, 0.1711837172756437, 0.0, 0.1711837172756437, 0.0, 0.0, 0.0, 0.0, 0.0, 0.0, 0.0, 0.0, 0.3951144320129975, 0.0, 0.0, 0.0, 0.0, 0.0, 0.0, 0.0, 0.0, 0.017062857803891142, 0.0, 0.0, 0.0, 0.0, 0.0, 0.0, 0.0, 0.0, 0.0, 0.0, 0.0, 0.0, 0.0, 0.0, 0.0, 0.0, 0.0, 0.0, 0.0, 0.0, 0.0, 0.0, 0.0, 0.0, -2.038300084272748e-17, 0.0, 0.0, 0.0, 0.0, 0.0, 0.0, 0.0, 0.0, 0.0, 0.0, 0.0, 0.0, 0.0, 0.0, 0.0, 0.0, 0.0, 0.0, 0.0, 0.0, 0.0, 0.0, 0.06825493920442212, 0.01218499929724833, 0.0, 0.0, 0.0, 0.0, 0.0, 0.0, 0.0, 0.0, 0.0, 0.0, 6.884588401133501, 0.0, 0.002095146345266028, 0.002095146345266028, 0.0, 0.0, -1.7539944288539413e-06, -1.7539944288539413e-06, 0.002095146345266028, 0.0007875434985554197, 0.0, 0.0, 0.13537241302173275, 0.0, 0.0, 0.0, 0.0, 0.007607950835153971, 0.0, 0.0, 0.0, 0.0, 0.0, 0.0, 0.0, 0.0, 0.0, 0.0, 0.0, 0.0, 0.0, 0.0, 0.0, 0.0, 0.0, 0.0, 0.0, 0.0, 0.0006060050751690371, 0.0, 0.017062857803891142, 0.017062857803891142, 6.138980500988794e-06, 6.138980500988794e-06, 0.0, 0.0005910961225234443, 0.0, 0.01218499929724833, 0.0, 0.0, 0.0, 0.0, 0.0, 0.8667530099652685, 0.8667530099652685, 0.13537241302173275, 0.0, 0.0, 0.0, 37.997043959492, 0.0, 0.0, 0.0, 0.0, 0.000392017754840941, 0.0, 0.0019977996544568452, 0.0, 0.0, 0.0, 0.0, 0.6928400773583179, 0.3729720063431453, 0.15873912680292462, 0.022947509112696114, 0.0, 0.0, 0.0, 0.0, 9.47149537104809, 9.47149537104809, 0.0002832701002599114, 0.0, 0.0, 0.0, 0.0019977996544568452, 0.0019977996544568452, 0.0, 0.0, 0.0, 0.0, 0.0, 0.0, 0.0, 0.0, 0.0, 0.0, 0.0, 0.0, 0.0, 0.0, 0.0, 0.0, 0.0, 0.0, 0.0, 0.0, 0.0, 0.0, 0.0, 0.0, 0.0, 0.0, 0.0, 0.0, 0.0, 0.0, 0.0, 0.0, 0.0, 22.131763238945886, 0.0, 0.0, 0.00019557037881721447, -0.00039114075763445577, 0.3951144320129975, 0.2901062935463697, 0.00019557037881721447, 0.0, 0.0, 0.0, -0.2901062935463697, 0.0, 0.0, 0.0, 0.193864619235154, 0.0, 0.0, -2.038300084272748e-17, 0.0, 0.0, 0.0, 0.0, 0.0, 0.0, 0.0005910961225234443, 0.02436999859449666, 0.2170410246208152, 0.0, 0.0, 0.0, 9.689686793405723, 0.0, 0.00019557037881721447, 0.0, 0.0, 0.0, 0.0, 0.0559647002414427, 0.06596246848591017, 0.0, 0.0, -0.00039114075763445577, 0.0, 0.0, 0.0, 0.0, 2.038300084272748e-17, 0.0, 0.0, 0.0, 0.0, -0.08286571279677561, 1.5065360713465616, 7.644633780205914, -17.10543360355006, 2.3553662197940852, 0.0, -15.5988975322035, -8.881784197001252e-16, 0.0, 0.0, 0.0, 0.0, 0.0, 0.0, 0.0, 0.0, 0.0, 0.0, 0.0, 0.0, 0.0, 0.0, 0.0, 0.0, 0.0, 0.0, 0.0, 0.0, 0.0, 0.0, 0.0, 0.0, 0.0, 0.0, 0.0, 0.0, 0.0, 0.0, -0.16247688893081272, 0.0, 0.8459567750195377, 0.0, 0.0, 0.0, 0.0, 0.0, 0.0, 0.0, 0.0, 0.0, 0.0, 0.0, 0.0, 0.0, 0.0, 0.0, 0.0, 0.0, 0.0, 0.0, 0.0, 0.0, 0.0, 0.0, 0.0, 0.0, 0.0, 0.0, 0.0, 0.0, 0.0, 0.0003911407576344289, 0.00019557037881721447, 0.0005910961225234443, 3.0708609971405316, 0.0, 0.0, 0.0, 0.0, 0.0015645630305377157, 2.5961073250826434, 0.0005910961225234443, 0.0, 0.0, -0.8185400881021283, 0.0, 0.0005910961225234443, 0.12112997825943875, 0.16247688893081272, 0.0, 0.00019557037881721447, 0.3929096610159377, 0.3929096610159377, 0.04985115265967229, 0.08308496210038235, 0.3927140906371205, 0.08308496210038235, 0.3929096610159377, 0.08308496210038235, 0.0, 0.0, 0.0, 0.0, 0.0, 0.3342403013651926, 0.0, 0.0, 0.0, 0.0559647002414427, 0.06596246848591017, 0.0, 0.0, 1.5065360713465616, 1.5065360713465616, 0.0, 0.0, 0.0, 0.0559647002414427, 0.06596246848591017, 0.0, 0.0, 0.0, -0.5105755002783801, 0.0005910961225234443, 0.0, 0.0, 0.0, -0.0005902191253093512, 0.0, 0.0, 0.0, 0.0, 0.0, 0.0, 0.0, 0.0, 0.0, 2.275813890188192, 0.0, 0.0019977996544568452, 0.0001955703788172144, 0.0007822815152688578, 0.0003911407576344289, 0.0, 0.0, 0.0, 0.0, 0.0, 0.0, 0.0, 0.0, 0.0, 0.0, 0.0, 0.0, 0.0, 0.0, 0.0, 0.0, 0.0, 0.0, 0.0, 0.022947509112696114, 0.023693833742173466, 0.023693833742173466, 0.022947509112696114, 0.8899957028434177, -1.4304625198276164, 0.0, 0.0, 2.140875774185244e-19, 0.0, -5.484538333471595e-20, 0.0, 0.2170410246208152, 0.0, 0.0, 0.0, 0.3253212396944703, -0.3253212396944703, 0.0, 0.2170410246208152, 0.0, 0.0, 0.0, 0.0, 0.00019557037881721447, 0.00019557037881721447, 0.3342403013651926, 0.3342403013651926, 0.13497951826966947, 0.0, 0.2208454385369994, 0.0, 0.0, 0.0, 0.0, 0.0, 5.970563487316189, -5.509676018215597, 0.0, 0.0, 0.0, 0.0, 0.0, -8.326672684688674e-17, 0.0, -7.839841338527068, 0.0, 0.0, 0.0, 0.0, 0.0, 0.0, 0.017062857803891142, 0.0, 0.0, 0.3253212396944703, 0.0, 0.0, 0.0, 0.0, 0.0, 0.25479312371025337, 0.4772759160465883, 0.0, 0.0, 0.00019557037881721447, 0.6119224317254881, 0.27807327111792957, 0.0, 0.0, 0.0, 0.0, 0.0, 0.0, 0.022947509112696114, 0.0, 0.00019557037881721447, 0.00019557037881721447, 8.328231696622812, 0.2170410246208152, 0.0, 0.0, 0.0, 0.0, 0.0, 0.0, 0.04985115265967229, 0.0, 0.0, 0.0, 0.0, 0.0, 0.0, 0.00019557037881721447, -0.12112997825943875, 0.0, 0.034125715607782284, 0.02436999859449666, 0.034125715607782284, 0.02436999859449666, 0.08286571279677561, 0.02436999859449666, 0.02436999859449666, 0.02436999859449666, 0.02436999859449666, 0.02436999859449666, 4.823484679348294e-05, 0.0, 0.0, 0.0, 0.0, 0.0, 0.0, 0.02436999859449666, 0.034125715607782284, 0.0, 0.0, 0.3315391499447575, 0.00019557037881721447, 0.00039114075763442893, 0.00019557037881721447, 0.0, 0.0, 0.0, 0.0, 0.017062857803891142, -0.37111189525134575, 0.0, 0.0, 0.0, 0.0, 0.0, 0.0, 0.0, 0.0, 0.0, 0.0, 0.0, 0.0, 0.0002990560501195971, 0.0]\n"
     ]
    }
   ],
   "source": [
    "E_coli_fluxes=[]\n",
    "for i in common_reactions: \n",
    "    value= fluxes_E.loc[i]\n",
    "    E_coli_fluxes.append(value)\n",
    "print(E_coli_fluxes) "
   ]
  },
  {
   "cell_type": "markdown",
   "metadata": {},
   "source": [
    "Create dataframe "
   ]
  },
  {
   "cell_type": "code",
   "execution_count": 16,
   "metadata": {},
   "outputs": [],
   "source": [
    "import numpy as np\n",
    "D = pd.DataFrame(np.column_stack([common_reactions,our_model_fluxes, E_coli_fluxes]), \n",
    "                               columns=['reaction_names','our Modelfluxes ', 'E.coli fluxes'])"
   ]
  },
  {
   "cell_type": "code",
   "execution_count": 17,
   "metadata": {},
   "outputs": [
    {
     "name": "stdout",
     "output_type": "stream",
     "text": [
      "     reaction_names our Modelfluxes           E.coli fluxes\n",
      "0      12DGR181tipp              0.0                    0.0\n",
      "1     14GLUCANabcpp              0.0                    0.0\n",
      "2      14GLUCANtexi              0.0                    0.0\n",
      "3         23CAMPtex              0.0                    0.0\n",
      "4         23CCMPtex              0.0                    0.0\n",
      "...             ...              ...                    ...\n",
      "1364       XYLabcpp              0.0                    0.0\n",
      "1365         XYLtex              0.0                    0.0\n",
      "1366        ZNabcpp              0.0                    0.0\n",
      "1367         Zn2tex              0.0  0.0002990560501195971\n",
      "1368        laccase              0.0                    0.0\n",
      "\n",
      "[1369 rows x 3 columns]\n"
     ]
    }
   ],
   "source": [
    "print(D)"
   ]
  },
  {
   "cell_type": "markdown",
   "metadata": {},
   "source": [
    "create list of reaction names where in one organsim the fluxes are 0 but in the other there are fluxes "
   ]
  },
  {
   "cell_type": "code",
   "execution_count": 29,
   "metadata": {},
   "outputs": [
    {
     "name": "stdout",
     "output_type": "stream",
     "text": [
      "['3HAD100', '3HAD120', '3HAD140', '3HAD141', '3HAD160', '3HAD180', '3OAR100', '3OAR120', '3OAR121', '3OAR140', '3OAR141', '3OAR160', '3OAR161', '3OAR180', '3OAS100', '3OAS121', '3OAS140', '3OAS141', '3OAS160', '3OAS161', '3OAS180', '4HTHRK', 'A5PISO', 'AACPS3', 'AACPS4', 'AACPS9', 'ACACT5r', 'ACACT6r', 'ACACT7r', 'ACCOAC', 'ACGK', 'ACGS', 'ACOAD1f', 'ACOAD5f', 'ACOAD6f', 'ACOAD7f', 'ACOATA', 'ACODA', 'ACONTa', 'ACONTb', 'ACPPAT141', 'ACPPAT160', 'ADD', 'ADSK', 'AGPAT141', 'AGPAT160', 'AGPAT161', 'AGPR', 'AKGDH', 'ALAR', 'AMMQLT8', 'AMPMS2', 'APG3PAT141', 'APG3PAT160', 'ARGSL', 'ARGSS', 'ASNS1', 'ASPO5', 'ATPM', 'ATPPRT', 'BPNT', 'BTS5', 'CBPS', 'CO2tex', 'CO2tpp', 'CPPPGO', 'CS', 'CTECOAI7', 'CTPS2', 'CYSS', 'CYSTL', 'DALAt2pp', 'DAPDC', 'DASYN160', 'DASYN161', 'DHAD2', 'DHNAOT4', 'DHNCOAS', 'DHNCOAT', 'DHNPA2r', 'DHPPDA2', 'DHPS2', 'DRPA', 'DURADx', 'DURIPP', 'DUTPDP', 'E4PD', 'EAR120x', 'EAR121x', 'EAR140y', 'EAR141x', 'EAR160x', 'EAR161x', 'EAR180x', 'ECOAH5', 'ECOAH6', 'ECOAH7', 'EDA', 'EDD', 'ETOHtex', 'ETOHtrpp', 'EX_acald_e', 'EX_ala__D_e', 'EX_arg__L_e', 'EX_etoh_e', 'EX_fe3_e', 'EX_gly_e', 'EX_glyclt_e', 'EX_h2s_e', 'EX_his__L_e', 'EX_lys__L_e', 'EX_meoh_e', 'EX_met__L_e', 'EX_mobd_e', 'EX_nh4_e', 'EX_pheme_e', 'EX_thm_e', 'EX_thr__L_e', 'FACOAE100', 'FACOAE160', 'FACOAE161', 'FBA3', 'FE2tex', 'FLDR2', 'G3PAT161', 'G3PD2', 'G5SADs', 'G5SD', 'GCALDD', 'GLCptspp', 'GLU5K', 'GLYCLTt2rpp', 'GLYCtpp', 'GPDDA4', 'GTHOr', 'GTPCII2', 'H2Otex', 'H2Otpp', 'HACD5', 'HACD6', 'HACD7', 'HBZOPT', 'HISTD', 'HISTP', 'HPPK2', 'HSDy', 'HSK', 'HSTPT', 'I2FE2SR', 'I2FE2SS2', 'I2FE2ST', 'I4FE4SR', 'I4FE4ST', 'ICDHyr', 'ICYSDS', 'IG3PS', 'IGPDH', 'ILETA', 'IPDDI', 'IPDPS', 'K2L4Aabcpp', 'K2L4Aabctex', 'KAS14', 'KDOCT2', 'KDOPP', 'KDOPS', 'Kt2pp', 'Ktex', 'LEUTAi', 'LPADSS', 'LPLIPAL2G141', 'MALS', 'MCTP1App', 'MECDPDH5', 'MEOHtex', 'MEOHtrpp', 'METS', 'MG2tex', 'MI1PP', 'MMM', 'MNtex', 'MOAT', 'MOAT2', 'MOBDabcpp', 'MOBDtex', 'MPTG', 'MTHFR2', 'NADH16pp', 'NADH17pp', 'NAtex', 'NH4tex', 'NH4tpp', 'NI2tex', 'NTD1', 'O2tpp', 'OHPBAT', 'OPHBDC', 'P5CR', 'PA141abcpp', 'PAPSR', 'PDH', 'PDX5PS', 'PE160abcpp', 'PE161abcpp', 'PERD', 'PG141abcpp', 'PGCD', 'PGMT', 'PHEMEabcpp', 'PHEMEtiex', 'PItex', 'PMPK', 'PPC', 'PPM2', 'PPNCL2', 'PRAMPC', 'PRATPP', 'PRMICI', 'PRPPS', 'PSD160', 'PSD161', 'PSERT', 'PSP_L', 'PSSA160', 'PSSA161', 'PTAr', 'RNDR4', 'RNTR2c2', 'RNTR3c2', 'RNTR4c2', 'S2FE2ST', 'S4FE4ST', 'SADT2', 'SERAT', 'SHCHD2', 'SHCHF', 'SHSL1', 'SO4tex', 'SUCDi', 'T2DECAI', 'TDSK', 'THRS', 'THZPSN3', 'TMDS', 'TMK', 'TMPPP', 'TRDR', 'TRPS1', 'TRPS3', 'TYRL', 'U23GAAT', 'UAGAAT', 'UHGADA', 'UPP3MT', 'USHD', 'Zn2tex']\n"
     ]
    }
   ],
   "source": [
    "list=[]\n",
    "for i in range(D.shape[0]): \n",
    "    if  our_model_fluxes[i]!=0:\n",
    "        if E_coli_fluxes[i]==0 :\n",
    "            list.append(common_reactions[i]) \n",
    "    elif our_model_fluxes[i]==0:\n",
    "        if E_coli_fluxes[i]!=0: \n",
    "            list.append(common_reactions[i]) \n",
    "print(list)\n",
    "        \n",
    "        "
   ]
  },
  {
   "cell_type": "code",
   "execution_count": 19,
   "metadata": {},
   "outputs": [
    {
     "data": {
      "text/plain": [
       "256"
      ]
     },
     "execution_count": 19,
     "metadata": {},
     "output_type": "execute_result"
    }
   ],
   "source": [
    "len(list)"
   ]
  },
  {
   "cell_type": "code",
   "execution_count": 30,
   "metadata": {},
   "outputs": [],
   "source": [
    "reaction = Reaction('XYLI1')\n"
   ]
  },
  {
   "cell_type": "code",
   "execution_count": 31,
   "metadata": {},
   "outputs": [
    {
     "data": {
      "text/plain": [
       "''"
      ]
     },
     "execution_count": 31,
     "metadata": {},
     "output_type": "execute_result"
    }
   ],
   "source": [
    "reaction.subsystem"
   ]
  },
  {
   "cell_type": "raw",
   "metadata": {},
   "source": [
    "model_E.reactions.TMPPP.subsystem"
   ]
  },
  {
   "cell_type": "code",
   "execution_count": 36,
   "metadata": {},
   "outputs": [
    {
     "data": {
      "text/plain": [
       "''"
      ]
     },
     "execution_count": 36,
     "metadata": {},
     "output_type": "execute_result"
    }
   ],
   "source": [
    "model_E.reactions.Zn2tex.subsystem"
   ]
  },
  {
   "cell_type": "code",
   "execution_count": 37,
   "metadata": {},
   "outputs": [
    {
     "data": {
      "text/plain": [
       "''"
      ]
     },
     "execution_count": 37,
     "metadata": {},
     "output_type": "execute_result"
    }
   ],
   "source": [
    "model_E.reactions.TMPPP.subsystem"
   ]
  },
  {
   "cell_type": "code",
   "execution_count": 42,
   "metadata": {},
   "outputs": [
    {
     "data": {
      "text/plain": [
       "''"
      ]
     },
     "execution_count": 42,
     "metadata": {},
     "output_type": "execute_result"
    }
   ],
   "source": [
    "model_E.reactions.EX_met__L_e.subsystem\n"
   ]
  },
  {
   "cell_type": "code",
   "execution_count": 44,
   "metadata": {},
   "outputs": [
    {
     "name": "stdout",
     "output_type": "stream",
     "text": [
      "iML1515\n"
     ]
    }
   ],
   "source": [
    "print(model_E)"
   ]
  },
  {
   "cell_type": "code",
   "execution_count": 55,
   "metadata": {},
   "outputs": [
    {
     "data": {
      "text/html": [
       "\n",
       "        <table>\n",
       "            <tr>\n",
       "                <td><strong>Reaction identifier</strong></td><td>CYTDK2</td>\n",
       "            </tr><tr>\n",
       "                <td><strong>Name</strong></td><td>Cytidine kinase (GTP)</td>\n",
       "            </tr><tr>\n",
       "                <td><strong>Memory address</strong></td>\n",
       "                <td>0x07f3b74f3cdc0</td>\n",
       "            </tr><tr>\n",
       "                <td><strong>Stoichiometry</strong></td>\n",
       "                <td>\n",
       "                    <p style='text-align:right'>cytd_c + gtp_c --> cmp_c + gdp_c + h_c</p>\n",
       "                    <p style='text-align:right'>Cytidine + GTP C10H12N5O14P3 --> CMP C9H12N3O8P + GDP C10H12N5O11P2 + H+</p>\n",
       "                </td>\n",
       "            </tr><tr>\n",
       "                <td><strong>GPR</strong></td><td>b2066</td>\n",
       "            </tr><tr>\n",
       "                <td><strong>Lower bound</strong></td><td>0.0</td>\n",
       "            </tr><tr>\n",
       "                <td><strong>Upper bound</strong></td><td>1000.0</td>\n",
       "            </tr>\n",
       "        </table>\n",
       "        "
      ],
      "text/plain": [
       "<Reaction CYTDK2 at 0x7f3b74f3cdc0>"
      ]
     },
     "execution_count": 55,
     "metadata": {},
     "output_type": "execute_result"
    }
   ],
   "source": [
    "model_E.reactions.CYTDK2 "
   ]
  },
  {
   "cell_type": "code",
   "execution_count": null,
   "metadata": {},
   "outputs": [],
   "source": []
  }
 ],
 "metadata": {
  "kernelspec": {
   "display_name": "Python 3",
   "language": "python",
   "name": "python3"
  },
  "language_info": {
   "codemirror_mode": {
    "name": "ipython",
    "version": 3
   },
   "file_extension": ".py",
   "mimetype": "text/x-python",
   "name": "python",
   "nbconvert_exporter": "python",
   "pygments_lexer": "ipython3",
   "version": "3.8.5"
  }
 },
 "nbformat": 4,
 "nbformat_minor": 4
}
