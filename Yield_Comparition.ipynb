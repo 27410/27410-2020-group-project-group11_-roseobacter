{
 "cells": [
  {
   "cell_type": "code",
   "execution_count": 1,
   "metadata": {},
   "outputs": [],
   "source": [
    "import cobra.io\n",
    "from cobra.io import read_sbml_model\n",
    "from cobra import Reaction, Metabolite"
   ]
  },
  {
   "cell_type": "code",
   "execution_count": 2,
   "metadata": {},
   "outputs": [],
   "source": [
    "model = cobra.io.read_sbml_model('Roseobacter-litoralis-strain-B14.SBML')"
   ]
  },
  {
   "cell_type": "code",
   "execution_count": null,
   "metadata": {},
   "outputs": [],
   "source": [
    "AA_seq= \"MSRFQSLLTFINISLVAVAH AAVGPVADLTITDAAVSPDGFSRQAVVVNGVTPGPLVAGNIGDRFQLNVIDNLTNHTMLKSTSIHWHGFFQHGTNWADGPAFINQCPISPGHSFLYDFQVPDQAGTFWYHSHLSTQYCDGLRGPFVVYDPNDPHASRYDVDNDDTVITLADWYHTAAKLGPRFPGGADATLINGKGRAPSDSPAELSVIKVTKGKRYRFRLVSLSCNPNHTFSIDGHNLTIIEVDSVNSQPLEVDSIQIFAAQRYSFVLDANQAVDNYWIRANPNFGNVGFDGGINSAILRYDGAPAVEPTTNQTTSVKPLNEVDLHPLVSTPVPGSPSSGGVDKAINMAFNFNGSNFFINGASFVPPTVPVLLQILSGAQTAQDLLPSGSVYVLPSNASIEISFPATAAAPGAPHPFHLHGHTFAVVRSAGSTVYNYDNPIFRDVVSTGTPAAGDNVTIRFDTNNPGPWFLHCHIDFHLEGGFAVVMAEDTPDVKAVNPVPQAWSDLCPTYDALDPNDQ\"                              \n",
    "len(AA_seq)\n",
    "count={}\n",
    "for c in AA_seq:\n",
    "    count[c]=count.setdefault(c, 0)+1\n",
    "print(count)"
   ]
  },
  {
   "cell_type": "markdown",
   "metadata": {},
   "source": [
    "4Met+40Ser+16Arg+31Phe+18Gln+35Leu+33Thr+27Ile+36Asn+47Val+48Ala+20His+40Gly+43Pro+39Asp+9Lys+7Trp+5Cys+14Tyr+8Glu"
   ]
  },
  {
   "cell_type": "markdown",
   "metadata": {},
   "source": [
    "Adding laacase to our roseobacter model "
   ]
  },
  {
   "cell_type": "code",
   "execution_count": 3,
   "metadata": {},
   "outputs": [
    {
     "name": "stdout",
     "output_type": "stream",
     "text": [
      "48 ala__L_c + 16 arg__L_c + 36 asn__L_c + 39 asp__L_c + 5 cys__L_c + 18 gln__L_c + 8 glu__L_c + 40 gly_c + 20 his__L_c + 35 leu__L_c + 9 lys__L_c + 4 met__L_c + 31 phe__L_c + 43 pro__L_c + 40 ser__L_c + 33 thr__L_c + 7 trp__L_c + 14 tyr__L_c + 47 val__L_c --> laccase_c\n"
     ]
    }
   ],
   "source": [
    "new_reaction = Reaction('laccase')\n",
    "laccase = Metabolite(id='laccase_c', compartment='c')\n",
    "new_reaction.add_metabolites({model.metabolites.met__L_c: -4,\n",
    "                              model.metabolites.ser__L_c: -40,\n",
    "                            model.metabolites.arg__L_c: -16,\n",
    "                              model.metabolites.phe__L_c: -31,\n",
    "                              model.metabolites.gln__L_c: -18,\n",
    "                            model.metabolites.leu__L_c: -35,\n",
    "                              model.metabolites.thr__L_c: -33,\n",
    "                              model.metabolites.asn__L_c: -36,\n",
    "                            model.metabolites.val__L_c: -47,\n",
    "                              model.metabolites.ala__L_c: -48,\n",
    "                              model.metabolites.his__L_c: -20,\n",
    "                            model.metabolites.gly_c: -40,\n",
    "                                model.metabolites.pro__L_c: -43,\n",
    "                              model.metabolites.asp__L_c: -39,\n",
    "                              model.metabolites.lys__L_c: -9,\n",
    "                            model.metabolites.trp__L_c: -7,\n",
    "                              model.metabolites.cys__L_c: -5,\n",
    "                              model.metabolites.tyr__L_c: -14,\n",
    "                            model.metabolites.glu__L_c: -8,\n",
    "                              laccase: 1\n",
    "                                         })\n",
    "print(new_reaction.build_reaction_string())"
   ]
  },
  {
   "cell_type": "code",
   "execution_count": 4,
   "metadata": {},
   "outputs": [
    {
     "name": "stdout",
     "output_type": "stream",
     "text": [
      "Max. laccase production, R.litoralis [mmol gDW^-1 h^-1]: 0.06870256792909532\n",
      "Theoretical max. yield [mmol-lacc / mmol-glc]: 0.006870256792909532\n"
     ]
    }
   ],
   "source": [
    "model.add_reactions([new_reaction])\n",
    "model.add_boundary(model.metabolites.laccase_c, type='demand')\n",
    "with model:\n",
    "    model.objective = model.reactions.laccase\n",
    "    lacc_production_rate = model.optimize().objective_value\n",
    "    print(\"Max. laccase production, R.litoralis [mmol gDW^-1 h^-1]:\", lacc_production_rate)\n",
    "    print(\"Theoretical max. yield [mmol-lacc / mmol-glc]:\", lacc_production_rate / (-1*model.reactions.EX_glc__D_e.flux))"
   ]
  },
  {
   "cell_type": "markdown",
   "metadata": {},
   "source": [
    "Importing the E.coli model and add laccase reaction to it to campare the production rates of laccase in our roseobacter model and the E.coli model "
   ]
  },
  {
   "cell_type": "code",
   "execution_count": 5,
   "metadata": {},
   "outputs": [],
   "source": [
    "model_E = read_sbml_model('iML1515.xml')"
   ]
  },
  {
   "cell_type": "code",
   "execution_count": 6,
   "metadata": {},
   "outputs": [
    {
     "name": "stdout",
     "output_type": "stream",
     "text": [
      "48 ala__L_c + 16 arg__L_c + 36 asn__L_c + 39 asp__L_c + 5 cys__L_c + 18 gln__L_c + 8 glu__L_c + 40 gly_c + 20 his__L_c + 35 leu__L_c + 9 lys__L_c + 4 met__L_c + 31 phe__L_c + 43 pro__L_c + 40 ser__L_c + 33 thr__L_c + 7 trp__L_c + 14 tyr__L_c + 47 val__L_c --> laccase_c\n"
     ]
    }
   ],
   "source": [
    "new_reaction = Reaction('laccase')\n",
    "laccase = Metabolite(id='laccase_c', compartment='c')\n",
    "new_reaction.add_metabolites({model_E.metabolites.met__L_c: -4,\n",
    "                              model_E.metabolites.ser__L_c: -40,\n",
    "                            model_E.metabolites.arg__L_c: -16,\n",
    "                              model_E.metabolites.phe__L_c: -31,\n",
    "                              model_E.metabolites.gln__L_c: -18,\n",
    "                            model_E.metabolites.leu__L_c: -35,\n",
    "                              model_E.metabolites.thr__L_c: -33,\n",
    "                              model_E.metabolites.asn__L_c: -36,\n",
    "                            model_E.metabolites.val__L_c: -47,\n",
    "                              model_E.metabolites.ala__L_c: -48,\n",
    "                              model_E.metabolites.his__L_c: -20,\n",
    "                            model_E.metabolites.gly_c: -40,\n",
    "                                model_E.metabolites.pro__L_c: -43,\n",
    "                              model_E.metabolites.asp__L_c: -39,\n",
    "                              model_E.metabolites.lys__L_c: -9,\n",
    "                            model_E.metabolites.trp__L_c: -7,\n",
    "                              model_E.metabolites.cys__L_c: -5,\n",
    "                              model_E.metabolites.tyr__L_c: -14,\n",
    "                            model_E.metabolites.glu__L_c: -8,\n",
    "                              laccase: 1\n",
    "                                         })\n",
    "print(new_reaction.build_reaction_string())"
   ]
  },
  {
   "cell_type": "code",
   "execution_count": 7,
   "metadata": {},
   "outputs": [
    {
     "name": "stdout",
     "output_type": "stream",
     "text": [
      "Max. laccase production, E. coli [mmol gDW^-1 h^-1]: 0.02238069682072861\n",
      "Theoretical max. yield [mmol-lacc / mmol-glc]: 0.002238069682072861\n"
     ]
    }
   ],
   "source": [
    "model_E.add_reactions([new_reaction])\n",
    "model_E.add_boundary(model_E.metabolites.laccase_c, type='demand')\n",
    "with model_E:\n",
    "    model_E.objective = model_E.reactions.laccase\n",
    "    lacc_production_rate_E = model_E.optimize().objective_value\n",
    "    print(\"Max. laccase production, E. coli [mmol gDW^-1 h^-1]:\", lacc_production_rate_E)\n",
    "    print(\"Theoretical max. yield [mmol-lacc / mmol-glc]:\", lacc_production_rate_E / (-1*model_E.reactions.EX_glc__D_e.flux))"
   ]
  },
  {
   "cell_type": "markdown",
   "metadata": {},
   "source": [
    "Ecoli:Laccase Yield: 0.00224 \n",
    "R.litoralis: Laccase Yield: 0.00687"
   ]
  },
  {
   "cell_type": "markdown",
   "metadata": {},
   "source": [
    "big dif-> compare fluxes "
   ]
  },
  {
   "cell_type": "markdown",
   "metadata": {},
   "source": [
    "for our model:"
   ]
  },
  {
   "cell_type": "code",
   "execution_count": 22,
   "metadata": {},
   "outputs": [
    {
     "name": "stdout",
     "output_type": "stream",
     "text": [
      "12DGR181tipp     0.000000\n",
      "14GLUCANabcpp    0.000000\n",
      "14GLUCANtexi     0.000000\n",
      "1PPDCRc          0.000000\n",
      "23CAMPtex        0.000000\n",
      "                   ...   \n",
      "CHRPL            0.000068\n",
      "NNDPR            0.001538\n",
      "QULNS            0.001538\n",
      "laccase          0.000000\n",
      "DM_laccase_c     0.000000\n",
      "Name: fluxes, Length: 2141, dtype: float64\n"
     ]
    }
   ],
   "source": [
    "solution = model.optimize()\n",
    "fluxes = solution.fluxes\n",
    "print(fluxes)"
   ]
  },
  {
   "cell_type": "markdown",
   "metadata": {},
   "source": [
    "for E.coli:\n"
   ]
  },
  {
   "cell_type": "code",
   "execution_count": 16,
   "metadata": {},
   "outputs": [],
   "source": [
    "solution_E = model_E.optimize()\n",
    "fluxes_E=solution_E.fluxes"
   ]
  },
  {
   "cell_type": "code",
   "execution_count": 19,
   "metadata": {},
   "outputs": [],
   "source": [
    "import numpy as np\n",
    "import pandas as pd "
   ]
  },
  {
   "cell_type": "code",
   "execution_count": 25,
   "metadata": {},
   "outputs": [
    {
     "data": {
      "text/plain": [
       "0   -10.0\n",
       "1     0.0\n",
       "2    10.0\n",
       "dtype: float64"
      ]
     },
     "execution_count": 25,
     "metadata": {},
     "output_type": "execute_result"
    }
   ],
   "source": [
    "pd.Series(np.intersect1d(fluxes,fluxes_E))"
   ]
  },
  {
   "cell_type": "markdown",
   "metadata": {},
   "source": [
    "these are the valued which are the same.. but I need to get the fluxes"
   ]
  },
  {
   "cell_type": "code",
   "execution_count": 23,
   "metadata": {},
   "outputs": [
    {
     "data": {
      "text/plain": [
       "pandas.core.series.Series"
      ]
     },
     "execution_count": 23,
     "metadata": {},
     "output_type": "execute_result"
    }
   ],
   "source": [
    "type(fluxes)\n"
   ]
  },
  {
   "cell_type": "code",
   "execution_count": null,
   "metadata": {},
   "outputs": [],
   "source": []
  }
 ],
 "metadata": {
  "kernelspec": {
   "display_name": "Python 3",
   "language": "python",
   "name": "python3"
  },
  "language_info": {
   "codemirror_mode": {
    "name": "ipython",
    "version": 3
   },
   "file_extension": ".py",
   "mimetype": "text/x-python",
   "name": "python",
   "nbconvert_exporter": "python",
   "pygments_lexer": "ipython3",
   "version": "3.8.5"
  }
 },
 "nbformat": 4,
 "nbformat_minor": 4
}
